{
  "nbformat": 4,
  "nbformat_minor": 0,
  "metadata": {
    "colab": {
      "name": "Kaggle competition: House Prices: Advanced Regression Techniques.ipynb",
      "provenance": [],
      "collapsed_sections": [],
      "authorship_tag": "ABX9TyPSNica3A1P6LjeaAW4H4Kq",
      "include_colab_link": true
    },
    "kernelspec": {
      "name": "python3",
      "display_name": "Python 3"
    },
    "accelerator": "GPU"
  },
  "cells": [
    {
      "cell_type": "markdown",
      "metadata": {
        "id": "view-in-github",
        "colab_type": "text"
      },
      "source": [
        "<a href=\"https://colab.research.google.com/github/javierespinozat/kaggle-competitions/blob/master/Kaggle_competition_House_Prices_Advanced_Regression_Techniques.ipynb\" target=\"_parent\"><img src=\"https://colab.research.google.com/assets/colab-badge.svg\" alt=\"Open In Colab\"/></a>"
      ]
    },
    {
      "cell_type": "markdown",
      "metadata": {
        "id": "EpIhz_uN_AN_",
        "colab_type": "text"
      },
      "source": [
        "# **I) Problem definition and technique selection**\n",
        "\n",
        "From Kaggle's definition of competition: \"house prices: Advanced Regression Techniques\":\n",
        "\n",
        "https://www.kaggle.com/c/house-prices-advanced-regression-techniques\n",
        "\n",
        " \"Ask a home buyer to describe their dream house, and they probably won't begin with the height of the basement ceiling or the proximity to an east-west railroad. But this playground competition's dataset proves that much more influences price negotiations than the number of bedrooms or a white-picket fence. With 79 explanatory variables describing (almost) every aspect of residential homes in Ames, Iowa, this competition challenges you to predict the final price of each home.\" *\n",
        "\n",
        "\n",
        "> Objective\n",
        "\n",
        "It is your job to predict the sales price for each house. For each Id in the test set, you must predict the value of the SalePrice variable. \n",
        "\n",
        "> Metric\n",
        "\n",
        "Submissions are evaluated on Root-Mean-Squared-Error (RMSE) between the logarithm of the predicted value and the logarithm of the observed sales price. (Taking logs means that errors in predicting expensive houses and cheap houses will affect the result equally.)\n",
        "\n",
        ">Technique\n",
        "\n",
        "**For study purposes of the author, Feed Forward Neural Network is selected as technique.**\n",
        "\n",
        "\n"
      ]
    },
    {
      "cell_type": "code",
      "metadata": {
        "id": "tDM2o861c1XO",
        "colab_type": "code",
        "outputId": "4520e622-dde5-41c0-c772-a506b728aec2",
        "colab": {
          "resources": {
            "http://localhost:8080/nbextensions/google.colab/files.js": {
              "data": "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",
              "ok": true,
              "headers": [
                [
                  "content-type",
                  "application/javascript"
                ]
              ],
              "status": 200,
              "status_text": ""
            }
          },
          "base_uri": "https://localhost:8080/",
          "height": 386
        }
      },
      "source": [
        "#set up kaggle.com API\n",
        "from google.colab import files\n",
        "files.upload()\n",
        "\n",
        "!pip install -q kaggle\n",
        "\n",
        "!mkdir -p ~/.kaggle\n",
        "!cp kaggle.json ~/.kaggle/\n",
        "!ls ~/.kaggle\n",
        "!chmod 600 /root/.kaggle/kaggle.json  # set permission\n",
        "\n",
        "!kaggle competitions download -c house-prices-advanced-regression-techniques"
      ],
      "execution_count": 0,
      "outputs": [
        {
          "output_type": "stream",
          "text": [
            "kaggle.json\n",
            "Warning: Looks like you're using an outdated API Version, please consider updating (server 1.5.6 / client 1.5.4)\n",
            "Downloading test.csv to /content\n",
            "  0% 0.00/441k [00:00<?, ?B/s]\n",
            "100% 441k/441k [00:00<00:00, 66.4MB/s]\n",
            "Downloading data_description.txt to /content\n",
            "  0% 0.00/13.1k [00:00<?, ?B/s]\n",
            "100% 13.1k/13.1k [00:00<00:00, 8.55MB/s]\n",
            "Downloading sample_submission.csv to /content\n",
            "  0% 0.00/31.2k [00:00<?, ?B/s]\n",
            "100% 31.2k/31.2k [00:00<00:00, 68.2MB/s]\n",
            "Downloading train.csv to /content\n",
            "  0% 0.00/450k [00:00<?, ?B/s]\n",
            "100% 450k/450k [00:00<00:00, 61.7MB/s]\n"
          ],
          "name": "stdout"
        },
        {
          "output_type": "display_data",
          "data": {
            "text/html": [
              "\n",
              "     <input type=\"file\" id=\"files-2317e3d7-0020-4f65-b2aa-ca6ec87e50da\" name=\"files[]\" multiple disabled />\n",
              "     <output id=\"result-2317e3d7-0020-4f65-b2aa-ca6ec87e50da\">\n",
              "      Upload widget is only available when the cell has been executed in the\n",
              "      current browser session. Please rerun this cell to enable.\n",
              "      </output>\n",
              "      <script src=\"/nbextensions/google.colab/files.js\"></script> "
            ],
            "text/plain": [
              "<IPython.core.display.HTML object>"
            ]
          },
          "metadata": {
            "tags": []
          }
        },
        {
          "output_type": "stream",
          "text": [
            "kaggle.json\n",
            "Warning: Looks like you're using an outdated API Version, please consider updating (server 1.5.6 / client 1.5.4)\n",
            "sample_submission.csv: Skipping, found more recently modified local copy (use --force to force download)\n",
            "test.csv: Skipping, found more recently modified local copy (use --force to force download)\n",
            "train.csv: Skipping, found more recently modified local copy (use --force to force download)\n",
            "data_description.txt: Skipping, found more recently modified local copy (use --force to force download)\n"
          ],
          "name": "stdout"
        }
      ]
    },
    {
      "cell_type": "code",
      "metadata": {
        "id": "EwAGGSEGeHAF",
        "colab_type": "code",
        "outputId": "48dea3b7-1c2e-4e28-e386-af27b310217b",
        "colab": {
          "base_uri": "https://localhost:8080/",
          "height": 34
        }
      },
      "source": [
        "!cat train.csv | wc -l"
      ],
      "execution_count": 0,
      "outputs": [
        {
          "output_type": "stream",
          "text": [
            "1461\n"
          ],
          "name": "stdout"
        }
      ]
    },
    {
      "cell_type": "code",
      "metadata": {
        "id": "znnnJ6yUeMRA",
        "colab_type": "code",
        "outputId": "27cec3d4-07ea-4d92-9e82-89aa2228029f",
        "colab": {
          "base_uri": "https://localhost:8080/",
          "height": 34
        }
      },
      "source": [
        "!cat test.csv | wc -l"
      ],
      "execution_count": 0,
      "outputs": [
        {
          "output_type": "stream",
          "text": [
            "1460\n"
          ],
          "name": "stdout"
        }
      ]
    },
    {
      "cell_type": "code",
      "metadata": {
        "id": "ceBrpPWueaux",
        "colab_type": "code",
        "outputId": "783c8101-a120-445c-d3b7-3bac4cce894c",
        "colab": {
          "base_uri": "https://localhost:8080/",
          "height": 124
        }
      },
      "source": [
        "!head -5 train.csv"
      ],
      "execution_count": 0,
      "outputs": [
        {
          "output_type": "stream",
          "text": [
            "Id,MSSubClass,MSZoning,LotFrontage,LotArea,Street,Alley,LotShape,LandContour,Utilities,LotConfig,LandSlope,Neighborhood,Condition1,Condition2,BldgType,HouseStyle,OverallQual,OverallCond,YearBuilt,YearRemodAdd,RoofStyle,RoofMatl,Exterior1st,Exterior2nd,MasVnrType,MasVnrArea,ExterQual,ExterCond,Foundation,BsmtQual,BsmtCond,BsmtExposure,BsmtFinType1,BsmtFinSF1,BsmtFinType2,BsmtFinSF2,BsmtUnfSF,TotalBsmtSF,Heating,HeatingQC,CentralAir,Electrical,1stFlrSF,2ndFlrSF,LowQualFinSF,GrLivArea,BsmtFullBath,BsmtHalfBath,FullBath,HalfBath,BedroomAbvGr,KitchenAbvGr,KitchenQual,TotRmsAbvGrd,Functional,Fireplaces,FireplaceQu,GarageType,GarageYrBlt,GarageFinish,GarageCars,GarageArea,GarageQual,GarageCond,PavedDrive,WoodDeckSF,OpenPorchSF,EnclosedPorch,3SsnPorch,ScreenPorch,PoolArea,PoolQC,Fence,MiscFeature,MiscVal,MoSold,YrSold,SaleType,SaleCondition,SalePrice\n",
            "1,60,RL,65,8450,Pave,NA,Reg,Lvl,AllPub,Inside,Gtl,CollgCr,Norm,Norm,1Fam,2Story,7,5,2003,2003,Gable,CompShg,VinylSd,VinylSd,BrkFace,196,Gd,TA,PConc,Gd,TA,No,GLQ,706,Unf,0,150,856,GasA,Ex,Y,SBrkr,856,854,0,1710,1,0,2,1,3,1,Gd,8,Typ,0,NA,Attchd,2003,RFn,2,548,TA,TA,Y,0,61,0,0,0,0,NA,NA,NA,0,2,2008,WD,Normal,208500\n",
            "2,20,RL,80,9600,Pave,NA,Reg,Lvl,AllPub,FR2,Gtl,Veenker,Feedr,Norm,1Fam,1Story,6,8,1976,1976,Gable,CompShg,MetalSd,MetalSd,None,0,TA,TA,CBlock,Gd,TA,Gd,ALQ,978,Unf,0,284,1262,GasA,Ex,Y,SBrkr,1262,0,0,1262,0,1,2,0,3,1,TA,6,Typ,1,TA,Attchd,1976,RFn,2,460,TA,TA,Y,298,0,0,0,0,0,NA,NA,NA,0,5,2007,WD,Normal,181500\n",
            "3,60,RL,68,11250,Pave,NA,IR1,Lvl,AllPub,Inside,Gtl,CollgCr,Norm,Norm,1Fam,2Story,7,5,2001,2002,Gable,CompShg,VinylSd,VinylSd,BrkFace,162,Gd,TA,PConc,Gd,TA,Mn,GLQ,486,Unf,0,434,920,GasA,Ex,Y,SBrkr,920,866,0,1786,1,0,2,1,3,1,Gd,6,Typ,1,TA,Attchd,2001,RFn,2,608,TA,TA,Y,0,42,0,0,0,0,NA,NA,NA,0,9,2008,WD,Normal,223500\n",
            "4,70,RL,60,9550,Pave,NA,IR1,Lvl,AllPub,Corner,Gtl,Crawfor,Norm,Norm,1Fam,2Story,7,5,1915,1970,Gable,CompShg,Wd Sdng,Wd Shng,None,0,TA,TA,BrkTil,TA,Gd,No,ALQ,216,Unf,0,540,756,GasA,Gd,Y,SBrkr,961,756,0,1717,1,0,1,0,3,1,Gd,7,Typ,1,Gd,Detchd,1998,Unf,3,642,TA,TA,Y,0,35,272,0,0,0,NA,NA,NA,0,2,2006,WD,Abnorml,140000\n"
          ],
          "name": "stdout"
        }
      ]
    },
    {
      "cell_type": "code",
      "metadata": {
        "id": "pTB4YjW_hN5b",
        "colab_type": "code",
        "outputId": "7e72d5e5-00a9-4f63-9119-534ac3528fd7",
        "colab": {
          "base_uri": "https://localhost:8080/",
          "height": 124
        }
      },
      "source": [
        "!head -5 test.csv"
      ],
      "execution_count": 0,
      "outputs": [
        {
          "output_type": "stream",
          "text": [
            "Id,MSSubClass,MSZoning,LotFrontage,LotArea,Street,Alley,LotShape,LandContour,Utilities,LotConfig,LandSlope,Neighborhood,Condition1,Condition2,BldgType,HouseStyle,OverallQual,OverallCond,YearBuilt,YearRemodAdd,RoofStyle,RoofMatl,Exterior1st,Exterior2nd,MasVnrType,MasVnrArea,ExterQual,ExterCond,Foundation,BsmtQual,BsmtCond,BsmtExposure,BsmtFinType1,BsmtFinSF1,BsmtFinType2,BsmtFinSF2,BsmtUnfSF,TotalBsmtSF,Heating,HeatingQC,CentralAir,Electrical,1stFlrSF,2ndFlrSF,LowQualFinSF,GrLivArea,BsmtFullBath,BsmtHalfBath,FullBath,HalfBath,BedroomAbvGr,KitchenAbvGr,KitchenQual,TotRmsAbvGrd,Functional,Fireplaces,FireplaceQu,GarageType,GarageYrBlt,GarageFinish,GarageCars,GarageArea,GarageQual,GarageCond,PavedDrive,WoodDeckSF,OpenPorchSF,EnclosedPorch,3SsnPorch,ScreenPorch,PoolArea,PoolQC,Fence,MiscFeature,MiscVal,MoSold,YrSold,SaleType,SaleCondition\n",
            "1461,20,RH,80,11622,Pave,NA,Reg,Lvl,AllPub,Inside,Gtl,NAmes,Feedr,Norm,1Fam,1Story,5,6,1961,1961,Gable,CompShg,VinylSd,VinylSd,None,0,TA,TA,CBlock,TA,TA,No,Rec,468,LwQ,144,270,882,GasA,TA,Y,SBrkr,896,0,0,896,0,0,1,0,2,1,TA,5,Typ,0,NA,Attchd,1961,Unf,1,730,TA,TA,Y,140,0,0,0,120,0,NA,MnPrv,NA,0,6,2010,WD,Normal\n",
            "1462,20,RL,81,14267,Pave,NA,IR1,Lvl,AllPub,Corner,Gtl,NAmes,Norm,Norm,1Fam,1Story,6,6,1958,1958,Hip,CompShg,Wd Sdng,Wd Sdng,BrkFace,108,TA,TA,CBlock,TA,TA,No,ALQ,923,Unf,0,406,1329,GasA,TA,Y,SBrkr,1329,0,0,1329,0,0,1,1,3,1,Gd,6,Typ,0,NA,Attchd,1958,Unf,1,312,TA,TA,Y,393,36,0,0,0,0,NA,NA,Gar2,12500,6,2010,WD,Normal\n",
            "1463,60,RL,74,13830,Pave,NA,IR1,Lvl,AllPub,Inside,Gtl,Gilbert,Norm,Norm,1Fam,2Story,5,5,1997,1998,Gable,CompShg,VinylSd,VinylSd,None,0,TA,TA,PConc,Gd,TA,No,GLQ,791,Unf,0,137,928,GasA,Gd,Y,SBrkr,928,701,0,1629,0,0,2,1,3,1,TA,6,Typ,1,TA,Attchd,1997,Fin,2,482,TA,TA,Y,212,34,0,0,0,0,NA,MnPrv,NA,0,3,2010,WD,Normal\n",
            "1464,60,RL,78,9978,Pave,NA,IR1,Lvl,AllPub,Inside,Gtl,Gilbert,Norm,Norm,1Fam,2Story,6,6,1998,1998,Gable,CompShg,VinylSd,VinylSd,BrkFace,20,TA,TA,PConc,TA,TA,No,GLQ,602,Unf,0,324,926,GasA,Ex,Y,SBrkr,926,678,0,1604,0,0,2,1,3,1,Gd,7,Typ,1,Gd,Attchd,1998,Fin,2,470,TA,TA,Y,360,36,0,0,0,0,NA,NA,NA,0,6,2010,WD,Normal\n"
          ],
          "name": "stdout"
        }
      ]
    },
    {
      "cell_type": "code",
      "metadata": {
        "id": "3ndLEJr8Wots",
        "colab_type": "code",
        "colab": {}
      },
      "source": [
        "%tensorflow_version 2.x\n",
        "!pip install -q keras==2.3.0\n",
        "import tensorflow as tf\n",
        "import keras\n",
        "from keras.utils import normalize\n",
        "from keras.utils import to_categorical\n",
        "from keras.models import Sequential\n",
        "from keras.layers import Dense\n",
        "from keras.layers import Dropout\n",
        "\n",
        "import pandas as pd\n",
        "import numpy as np\n",
        "\n",
        "\n",
        "from keras.utils import plot_model\n",
        "import matplotlib\n",
        "import matplotlib.pyplot as plt\n",
        "\n",
        "!pip install -q livelossplot\n",
        "from livelossplot import PlotLossesKeras\n",
        "\n",
        "from time import time\n",
        "\n",
        "%matplotlib inline"
      ],
      "execution_count": 0,
      "outputs": []
    },
    {
      "cell_type": "code",
      "metadata": {
        "id": "oFmzLL79QYI9",
        "colab_type": "code",
        "colab": {}
      },
      "source": [
        "!pip install -q livelossplot\n",
        "from livelossplot import PlotLossesKeras\n",
        "\n",
        "from time import time"
      ],
      "execution_count": 0,
      "outputs": []
    },
    {
      "cell_type": "code",
      "metadata": {
        "colab_type": "code",
        "id": "WXv5hT6fLSYI",
        "colab": {}
      },
      "source": [
        "#standard plot settings\n",
        "\n",
        "font = {'family' : 'monospace',\n",
        "        'weight' : 'bold',\n",
        "        'size'   : 15}\n",
        "\n",
        "matplotlib.rc('font', **font)\n",
        "\n",
        "COLOR = 'red'\n",
        "plt.rcParams['text.color'] = COLOR\n",
        "plt.rcParams['axes.labelcolor'] = COLOR\n",
        "plt.rcParams['xtick.color'] = COLOR\n",
        "plt.rcParams['ytick.color'] = COLOR"
      ],
      "execution_count": 0,
      "outputs": []
    },
    {
      "cell_type": "code",
      "metadata": {
        "id": "cr3TwmzwepSQ",
        "colab_type": "code",
        "outputId": "38eb97a3-ac63-466a-8f65-51a4faa18aaa",
        "colab": {
          "base_uri": "https://localhost:8080/",
          "height": 252
        }
      },
      "source": [
        "df_train = pd.read_csv('train.csv', sep = ',')\n",
        "df_train0 = df_train.copy()\n",
        "df_train0.tail()"
      ],
      "execution_count": 0,
      "outputs": [
        {
          "output_type": "execute_result",
          "data": {
            "text/html": [
              "<div>\n",
              "<style scoped>\n",
              "    .dataframe tbody tr th:only-of-type {\n",
              "        vertical-align: middle;\n",
              "    }\n",
              "\n",
              "    .dataframe tbody tr th {\n",
              "        vertical-align: top;\n",
              "    }\n",
              "\n",
              "    .dataframe thead th {\n",
              "        text-align: right;\n",
              "    }\n",
              "</style>\n",
              "<table border=\"1\" class=\"dataframe\">\n",
              "  <thead>\n",
              "    <tr style=\"text-align: right;\">\n",
              "      <th></th>\n",
              "      <th>Id</th>\n",
              "      <th>MSSubClass</th>\n",
              "      <th>MSZoning</th>\n",
              "      <th>LotFrontage</th>\n",
              "      <th>LotArea</th>\n",
              "      <th>Street</th>\n",
              "      <th>Alley</th>\n",
              "      <th>LotShape</th>\n",
              "      <th>LandContour</th>\n",
              "      <th>Utilities</th>\n",
              "      <th>LotConfig</th>\n",
              "      <th>LandSlope</th>\n",
              "      <th>Neighborhood</th>\n",
              "      <th>Condition1</th>\n",
              "      <th>Condition2</th>\n",
              "      <th>BldgType</th>\n",
              "      <th>HouseStyle</th>\n",
              "      <th>OverallQual</th>\n",
              "      <th>OverallCond</th>\n",
              "      <th>YearBuilt</th>\n",
              "      <th>YearRemodAdd</th>\n",
              "      <th>RoofStyle</th>\n",
              "      <th>RoofMatl</th>\n",
              "      <th>Exterior1st</th>\n",
              "      <th>Exterior2nd</th>\n",
              "      <th>MasVnrType</th>\n",
              "      <th>MasVnrArea</th>\n",
              "      <th>ExterQual</th>\n",
              "      <th>ExterCond</th>\n",
              "      <th>Foundation</th>\n",
              "      <th>BsmtQual</th>\n",
              "      <th>BsmtCond</th>\n",
              "      <th>BsmtExposure</th>\n",
              "      <th>BsmtFinType1</th>\n",
              "      <th>BsmtFinSF1</th>\n",
              "      <th>BsmtFinType2</th>\n",
              "      <th>BsmtFinSF2</th>\n",
              "      <th>BsmtUnfSF</th>\n",
              "      <th>TotalBsmtSF</th>\n",
              "      <th>Heating</th>\n",
              "      <th>...</th>\n",
              "      <th>CentralAir</th>\n",
              "      <th>Electrical</th>\n",
              "      <th>1stFlrSF</th>\n",
              "      <th>2ndFlrSF</th>\n",
              "      <th>LowQualFinSF</th>\n",
              "      <th>GrLivArea</th>\n",
              "      <th>BsmtFullBath</th>\n",
              "      <th>BsmtHalfBath</th>\n",
              "      <th>FullBath</th>\n",
              "      <th>HalfBath</th>\n",
              "      <th>BedroomAbvGr</th>\n",
              "      <th>KitchenAbvGr</th>\n",
              "      <th>KitchenQual</th>\n",
              "      <th>TotRmsAbvGrd</th>\n",
              "      <th>Functional</th>\n",
              "      <th>Fireplaces</th>\n",
              "      <th>FireplaceQu</th>\n",
              "      <th>GarageType</th>\n",
              "      <th>GarageYrBlt</th>\n",
              "      <th>GarageFinish</th>\n",
              "      <th>GarageCars</th>\n",
              "      <th>GarageArea</th>\n",
              "      <th>GarageQual</th>\n",
              "      <th>GarageCond</th>\n",
              "      <th>PavedDrive</th>\n",
              "      <th>WoodDeckSF</th>\n",
              "      <th>OpenPorchSF</th>\n",
              "      <th>EnclosedPorch</th>\n",
              "      <th>3SsnPorch</th>\n",
              "      <th>ScreenPorch</th>\n",
              "      <th>PoolArea</th>\n",
              "      <th>PoolQC</th>\n",
              "      <th>Fence</th>\n",
              "      <th>MiscFeature</th>\n",
              "      <th>MiscVal</th>\n",
              "      <th>MoSold</th>\n",
              "      <th>YrSold</th>\n",
              "      <th>SaleType</th>\n",
              "      <th>SaleCondition</th>\n",
              "      <th>SalePrice</th>\n",
              "    </tr>\n",
              "  </thead>\n",
              "  <tbody>\n",
              "    <tr>\n",
              "      <th>1455</th>\n",
              "      <td>1456</td>\n",
              "      <td>60</td>\n",
              "      <td>RL</td>\n",
              "      <td>62.0</td>\n",
              "      <td>7917</td>\n",
              "      <td>Pave</td>\n",
              "      <td>NaN</td>\n",
              "      <td>Reg</td>\n",
              "      <td>Lvl</td>\n",
              "      <td>AllPub</td>\n",
              "      <td>Inside</td>\n",
              "      <td>Gtl</td>\n",
              "      <td>Gilbert</td>\n",
              "      <td>Norm</td>\n",
              "      <td>Norm</td>\n",
              "      <td>1Fam</td>\n",
              "      <td>2Story</td>\n",
              "      <td>6</td>\n",
              "      <td>5</td>\n",
              "      <td>1999</td>\n",
              "      <td>2000</td>\n",
              "      <td>Gable</td>\n",
              "      <td>CompShg</td>\n",
              "      <td>VinylSd</td>\n",
              "      <td>VinylSd</td>\n",
              "      <td>None</td>\n",
              "      <td>0.0</td>\n",
              "      <td>TA</td>\n",
              "      <td>TA</td>\n",
              "      <td>PConc</td>\n",
              "      <td>Gd</td>\n",
              "      <td>TA</td>\n",
              "      <td>No</td>\n",
              "      <td>Unf</td>\n",
              "      <td>0</td>\n",
              "      <td>Unf</td>\n",
              "      <td>0</td>\n",
              "      <td>953</td>\n",
              "      <td>953</td>\n",
              "      <td>GasA</td>\n",
              "      <td>...</td>\n",
              "      <td>Y</td>\n",
              "      <td>SBrkr</td>\n",
              "      <td>953</td>\n",
              "      <td>694</td>\n",
              "      <td>0</td>\n",
              "      <td>1647</td>\n",
              "      <td>0</td>\n",
              "      <td>0</td>\n",
              "      <td>2</td>\n",
              "      <td>1</td>\n",
              "      <td>3</td>\n",
              "      <td>1</td>\n",
              "      <td>TA</td>\n",
              "      <td>7</td>\n",
              "      <td>Typ</td>\n",
              "      <td>1</td>\n",
              "      <td>TA</td>\n",
              "      <td>Attchd</td>\n",
              "      <td>1999.0</td>\n",
              "      <td>RFn</td>\n",
              "      <td>2</td>\n",
              "      <td>460</td>\n",
              "      <td>TA</td>\n",
              "      <td>TA</td>\n",
              "      <td>Y</td>\n",
              "      <td>0</td>\n",
              "      <td>40</td>\n",
              "      <td>0</td>\n",
              "      <td>0</td>\n",
              "      <td>0</td>\n",
              "      <td>0</td>\n",
              "      <td>NaN</td>\n",
              "      <td>NaN</td>\n",
              "      <td>NaN</td>\n",
              "      <td>0</td>\n",
              "      <td>8</td>\n",
              "      <td>2007</td>\n",
              "      <td>WD</td>\n",
              "      <td>Normal</td>\n",
              "      <td>175000</td>\n",
              "    </tr>\n",
              "    <tr>\n",
              "      <th>1456</th>\n",
              "      <td>1457</td>\n",
              "      <td>20</td>\n",
              "      <td>RL</td>\n",
              "      <td>85.0</td>\n",
              "      <td>13175</td>\n",
              "      <td>Pave</td>\n",
              "      <td>NaN</td>\n",
              "      <td>Reg</td>\n",
              "      <td>Lvl</td>\n",
              "      <td>AllPub</td>\n",
              "      <td>Inside</td>\n",
              "      <td>Gtl</td>\n",
              "      <td>NWAmes</td>\n",
              "      <td>Norm</td>\n",
              "      <td>Norm</td>\n",
              "      <td>1Fam</td>\n",
              "      <td>1Story</td>\n",
              "      <td>6</td>\n",
              "      <td>6</td>\n",
              "      <td>1978</td>\n",
              "      <td>1988</td>\n",
              "      <td>Gable</td>\n",
              "      <td>CompShg</td>\n",
              "      <td>Plywood</td>\n",
              "      <td>Plywood</td>\n",
              "      <td>Stone</td>\n",
              "      <td>119.0</td>\n",
              "      <td>TA</td>\n",
              "      <td>TA</td>\n",
              "      <td>CBlock</td>\n",
              "      <td>Gd</td>\n",
              "      <td>TA</td>\n",
              "      <td>No</td>\n",
              "      <td>ALQ</td>\n",
              "      <td>790</td>\n",
              "      <td>Rec</td>\n",
              "      <td>163</td>\n",
              "      <td>589</td>\n",
              "      <td>1542</td>\n",
              "      <td>GasA</td>\n",
              "      <td>...</td>\n",
              "      <td>Y</td>\n",
              "      <td>SBrkr</td>\n",
              "      <td>2073</td>\n",
              "      <td>0</td>\n",
              "      <td>0</td>\n",
              "      <td>2073</td>\n",
              "      <td>1</td>\n",
              "      <td>0</td>\n",
              "      <td>2</td>\n",
              "      <td>0</td>\n",
              "      <td>3</td>\n",
              "      <td>1</td>\n",
              "      <td>TA</td>\n",
              "      <td>7</td>\n",
              "      <td>Min1</td>\n",
              "      <td>2</td>\n",
              "      <td>TA</td>\n",
              "      <td>Attchd</td>\n",
              "      <td>1978.0</td>\n",
              "      <td>Unf</td>\n",
              "      <td>2</td>\n",
              "      <td>500</td>\n",
              "      <td>TA</td>\n",
              "      <td>TA</td>\n",
              "      <td>Y</td>\n",
              "      <td>349</td>\n",
              "      <td>0</td>\n",
              "      <td>0</td>\n",
              "      <td>0</td>\n",
              "      <td>0</td>\n",
              "      <td>0</td>\n",
              "      <td>NaN</td>\n",
              "      <td>MnPrv</td>\n",
              "      <td>NaN</td>\n",
              "      <td>0</td>\n",
              "      <td>2</td>\n",
              "      <td>2010</td>\n",
              "      <td>WD</td>\n",
              "      <td>Normal</td>\n",
              "      <td>210000</td>\n",
              "    </tr>\n",
              "    <tr>\n",
              "      <th>1457</th>\n",
              "      <td>1458</td>\n",
              "      <td>70</td>\n",
              "      <td>RL</td>\n",
              "      <td>66.0</td>\n",
              "      <td>9042</td>\n",
              "      <td>Pave</td>\n",
              "      <td>NaN</td>\n",
              "      <td>Reg</td>\n",
              "      <td>Lvl</td>\n",
              "      <td>AllPub</td>\n",
              "      <td>Inside</td>\n",
              "      <td>Gtl</td>\n",
              "      <td>Crawfor</td>\n",
              "      <td>Norm</td>\n",
              "      <td>Norm</td>\n",
              "      <td>1Fam</td>\n",
              "      <td>2Story</td>\n",
              "      <td>7</td>\n",
              "      <td>9</td>\n",
              "      <td>1941</td>\n",
              "      <td>2006</td>\n",
              "      <td>Gable</td>\n",
              "      <td>CompShg</td>\n",
              "      <td>CemntBd</td>\n",
              "      <td>CmentBd</td>\n",
              "      <td>None</td>\n",
              "      <td>0.0</td>\n",
              "      <td>Ex</td>\n",
              "      <td>Gd</td>\n",
              "      <td>Stone</td>\n",
              "      <td>TA</td>\n",
              "      <td>Gd</td>\n",
              "      <td>No</td>\n",
              "      <td>GLQ</td>\n",
              "      <td>275</td>\n",
              "      <td>Unf</td>\n",
              "      <td>0</td>\n",
              "      <td>877</td>\n",
              "      <td>1152</td>\n",
              "      <td>GasA</td>\n",
              "      <td>...</td>\n",
              "      <td>Y</td>\n",
              "      <td>SBrkr</td>\n",
              "      <td>1188</td>\n",
              "      <td>1152</td>\n",
              "      <td>0</td>\n",
              "      <td>2340</td>\n",
              "      <td>0</td>\n",
              "      <td>0</td>\n",
              "      <td>2</td>\n",
              "      <td>0</td>\n",
              "      <td>4</td>\n",
              "      <td>1</td>\n",
              "      <td>Gd</td>\n",
              "      <td>9</td>\n",
              "      <td>Typ</td>\n",
              "      <td>2</td>\n",
              "      <td>Gd</td>\n",
              "      <td>Attchd</td>\n",
              "      <td>1941.0</td>\n",
              "      <td>RFn</td>\n",
              "      <td>1</td>\n",
              "      <td>252</td>\n",
              "      <td>TA</td>\n",
              "      <td>TA</td>\n",
              "      <td>Y</td>\n",
              "      <td>0</td>\n",
              "      <td>60</td>\n",
              "      <td>0</td>\n",
              "      <td>0</td>\n",
              "      <td>0</td>\n",
              "      <td>0</td>\n",
              "      <td>NaN</td>\n",
              "      <td>GdPrv</td>\n",
              "      <td>Shed</td>\n",
              "      <td>2500</td>\n",
              "      <td>5</td>\n",
              "      <td>2010</td>\n",
              "      <td>WD</td>\n",
              "      <td>Normal</td>\n",
              "      <td>266500</td>\n",
              "    </tr>\n",
              "    <tr>\n",
              "      <th>1458</th>\n",
              "      <td>1459</td>\n",
              "      <td>20</td>\n",
              "      <td>RL</td>\n",
              "      <td>68.0</td>\n",
              "      <td>9717</td>\n",
              "      <td>Pave</td>\n",
              "      <td>NaN</td>\n",
              "      <td>Reg</td>\n",
              "      <td>Lvl</td>\n",
              "      <td>AllPub</td>\n",
              "      <td>Inside</td>\n",
              "      <td>Gtl</td>\n",
              "      <td>NAmes</td>\n",
              "      <td>Norm</td>\n",
              "      <td>Norm</td>\n",
              "      <td>1Fam</td>\n",
              "      <td>1Story</td>\n",
              "      <td>5</td>\n",
              "      <td>6</td>\n",
              "      <td>1950</td>\n",
              "      <td>1996</td>\n",
              "      <td>Hip</td>\n",
              "      <td>CompShg</td>\n",
              "      <td>MetalSd</td>\n",
              "      <td>MetalSd</td>\n",
              "      <td>None</td>\n",
              "      <td>0.0</td>\n",
              "      <td>TA</td>\n",
              "      <td>TA</td>\n",
              "      <td>CBlock</td>\n",
              "      <td>TA</td>\n",
              "      <td>TA</td>\n",
              "      <td>Mn</td>\n",
              "      <td>GLQ</td>\n",
              "      <td>49</td>\n",
              "      <td>Rec</td>\n",
              "      <td>1029</td>\n",
              "      <td>0</td>\n",
              "      <td>1078</td>\n",
              "      <td>GasA</td>\n",
              "      <td>...</td>\n",
              "      <td>Y</td>\n",
              "      <td>FuseA</td>\n",
              "      <td>1078</td>\n",
              "      <td>0</td>\n",
              "      <td>0</td>\n",
              "      <td>1078</td>\n",
              "      <td>1</td>\n",
              "      <td>0</td>\n",
              "      <td>1</td>\n",
              "      <td>0</td>\n",
              "      <td>2</td>\n",
              "      <td>1</td>\n",
              "      <td>Gd</td>\n",
              "      <td>5</td>\n",
              "      <td>Typ</td>\n",
              "      <td>0</td>\n",
              "      <td>NaN</td>\n",
              "      <td>Attchd</td>\n",
              "      <td>1950.0</td>\n",
              "      <td>Unf</td>\n",
              "      <td>1</td>\n",
              "      <td>240</td>\n",
              "      <td>TA</td>\n",
              "      <td>TA</td>\n",
              "      <td>Y</td>\n",
              "      <td>366</td>\n",
              "      <td>0</td>\n",
              "      <td>112</td>\n",
              "      <td>0</td>\n",
              "      <td>0</td>\n",
              "      <td>0</td>\n",
              "      <td>NaN</td>\n",
              "      <td>NaN</td>\n",
              "      <td>NaN</td>\n",
              "      <td>0</td>\n",
              "      <td>4</td>\n",
              "      <td>2010</td>\n",
              "      <td>WD</td>\n",
              "      <td>Normal</td>\n",
              "      <td>142125</td>\n",
              "    </tr>\n",
              "    <tr>\n",
              "      <th>1459</th>\n",
              "      <td>1460</td>\n",
              "      <td>20</td>\n",
              "      <td>RL</td>\n",
              "      <td>75.0</td>\n",
              "      <td>9937</td>\n",
              "      <td>Pave</td>\n",
              "      <td>NaN</td>\n",
              "      <td>Reg</td>\n",
              "      <td>Lvl</td>\n",
              "      <td>AllPub</td>\n",
              "      <td>Inside</td>\n",
              "      <td>Gtl</td>\n",
              "      <td>Edwards</td>\n",
              "      <td>Norm</td>\n",
              "      <td>Norm</td>\n",
              "      <td>1Fam</td>\n",
              "      <td>1Story</td>\n",
              "      <td>5</td>\n",
              "      <td>6</td>\n",
              "      <td>1965</td>\n",
              "      <td>1965</td>\n",
              "      <td>Gable</td>\n",
              "      <td>CompShg</td>\n",
              "      <td>HdBoard</td>\n",
              "      <td>HdBoard</td>\n",
              "      <td>None</td>\n",
              "      <td>0.0</td>\n",
              "      <td>Gd</td>\n",
              "      <td>TA</td>\n",
              "      <td>CBlock</td>\n",
              "      <td>TA</td>\n",
              "      <td>TA</td>\n",
              "      <td>No</td>\n",
              "      <td>BLQ</td>\n",
              "      <td>830</td>\n",
              "      <td>LwQ</td>\n",
              "      <td>290</td>\n",
              "      <td>136</td>\n",
              "      <td>1256</td>\n",
              "      <td>GasA</td>\n",
              "      <td>...</td>\n",
              "      <td>Y</td>\n",
              "      <td>SBrkr</td>\n",
              "      <td>1256</td>\n",
              "      <td>0</td>\n",
              "      <td>0</td>\n",
              "      <td>1256</td>\n",
              "      <td>1</td>\n",
              "      <td>0</td>\n",
              "      <td>1</td>\n",
              "      <td>1</td>\n",
              "      <td>3</td>\n",
              "      <td>1</td>\n",
              "      <td>TA</td>\n",
              "      <td>6</td>\n",
              "      <td>Typ</td>\n",
              "      <td>0</td>\n",
              "      <td>NaN</td>\n",
              "      <td>Attchd</td>\n",
              "      <td>1965.0</td>\n",
              "      <td>Fin</td>\n",
              "      <td>1</td>\n",
              "      <td>276</td>\n",
              "      <td>TA</td>\n",
              "      <td>TA</td>\n",
              "      <td>Y</td>\n",
              "      <td>736</td>\n",
              "      <td>68</td>\n",
              "      <td>0</td>\n",
              "      <td>0</td>\n",
              "      <td>0</td>\n",
              "      <td>0</td>\n",
              "      <td>NaN</td>\n",
              "      <td>NaN</td>\n",
              "      <td>NaN</td>\n",
              "      <td>0</td>\n",
              "      <td>6</td>\n",
              "      <td>2008</td>\n",
              "      <td>WD</td>\n",
              "      <td>Normal</td>\n",
              "      <td>147500</td>\n",
              "    </tr>\n",
              "  </tbody>\n",
              "</table>\n",
              "<p>5 rows × 81 columns</p>\n",
              "</div>"
            ],
            "text/plain": [
              "        Id  MSSubClass MSZoning  ...  SaleType  SaleCondition SalePrice\n",
              "1455  1456          60       RL  ...        WD         Normal    175000\n",
              "1456  1457          20       RL  ...        WD         Normal    210000\n",
              "1457  1458          70       RL  ...        WD         Normal    266500\n",
              "1458  1459          20       RL  ...        WD         Normal    142125\n",
              "1459  1460          20       RL  ...        WD         Normal    147500\n",
              "\n",
              "[5 rows x 81 columns]"
            ]
          },
          "metadata": {
            "tags": []
          },
          "execution_count": 18
        }
      ]
    },
    {
      "cell_type": "code",
      "metadata": {
        "id": "uf7O6KrXYohO",
        "colab_type": "code",
        "outputId": "d73887ae-7c8a-483a-bad9-0ee911c0cffb",
        "colab": {
          "base_uri": "https://localhost:8080/",
          "height": 240
        }
      },
      "source": [
        "x_predict = pd.read_csv('test.csv', sep=',')\n",
        "print(len(x_predict))\n",
        "x_predict.head()"
      ],
      "execution_count": 0,
      "outputs": [
        {
          "output_type": "stream",
          "text": [
            "1459\n"
          ],
          "name": "stdout"
        },
        {
          "output_type": "execute_result",
          "data": {
            "text/html": [
              "<div>\n",
              "<style scoped>\n",
              "    .dataframe tbody tr th:only-of-type {\n",
              "        vertical-align: middle;\n",
              "    }\n",
              "\n",
              "    .dataframe tbody tr th {\n",
              "        vertical-align: top;\n",
              "    }\n",
              "\n",
              "    .dataframe thead th {\n",
              "        text-align: right;\n",
              "    }\n",
              "</style>\n",
              "<table border=\"1\" class=\"dataframe\">\n",
              "  <thead>\n",
              "    <tr style=\"text-align: right;\">\n",
              "      <th></th>\n",
              "      <th>Id</th>\n",
              "      <th>MSSubClass</th>\n",
              "      <th>MSZoning</th>\n",
              "      <th>LotFrontage</th>\n",
              "      <th>LotArea</th>\n",
              "      <th>Street</th>\n",
              "      <th>Alley</th>\n",
              "      <th>LotShape</th>\n",
              "      <th>LandContour</th>\n",
              "      <th>Utilities</th>\n",
              "      <th>LotConfig</th>\n",
              "      <th>LandSlope</th>\n",
              "      <th>Neighborhood</th>\n",
              "      <th>Condition1</th>\n",
              "      <th>Condition2</th>\n",
              "      <th>BldgType</th>\n",
              "      <th>HouseStyle</th>\n",
              "      <th>OverallQual</th>\n",
              "      <th>OverallCond</th>\n",
              "      <th>YearBuilt</th>\n",
              "      <th>YearRemodAdd</th>\n",
              "      <th>RoofStyle</th>\n",
              "      <th>RoofMatl</th>\n",
              "      <th>Exterior1st</th>\n",
              "      <th>Exterior2nd</th>\n",
              "      <th>MasVnrType</th>\n",
              "      <th>MasVnrArea</th>\n",
              "      <th>ExterQual</th>\n",
              "      <th>ExterCond</th>\n",
              "      <th>Foundation</th>\n",
              "      <th>BsmtQual</th>\n",
              "      <th>BsmtCond</th>\n",
              "      <th>BsmtExposure</th>\n",
              "      <th>BsmtFinType1</th>\n",
              "      <th>BsmtFinSF1</th>\n",
              "      <th>BsmtFinType2</th>\n",
              "      <th>BsmtFinSF2</th>\n",
              "      <th>BsmtUnfSF</th>\n",
              "      <th>TotalBsmtSF</th>\n",
              "      <th>Heating</th>\n",
              "      <th>HeatingQC</th>\n",
              "      <th>CentralAir</th>\n",
              "      <th>Electrical</th>\n",
              "      <th>1stFlrSF</th>\n",
              "      <th>2ndFlrSF</th>\n",
              "      <th>LowQualFinSF</th>\n",
              "      <th>GrLivArea</th>\n",
              "      <th>BsmtFullBath</th>\n",
              "      <th>BsmtHalfBath</th>\n",
              "      <th>FullBath</th>\n",
              "      <th>HalfBath</th>\n",
              "      <th>BedroomAbvGr</th>\n",
              "      <th>KitchenAbvGr</th>\n",
              "      <th>KitchenQual</th>\n",
              "      <th>TotRmsAbvGrd</th>\n",
              "      <th>Functional</th>\n",
              "      <th>Fireplaces</th>\n",
              "      <th>FireplaceQu</th>\n",
              "      <th>GarageType</th>\n",
              "      <th>GarageYrBlt</th>\n",
              "      <th>GarageFinish</th>\n",
              "      <th>GarageCars</th>\n",
              "      <th>GarageArea</th>\n",
              "      <th>GarageQual</th>\n",
              "      <th>GarageCond</th>\n",
              "      <th>PavedDrive</th>\n",
              "      <th>WoodDeckSF</th>\n",
              "      <th>OpenPorchSF</th>\n",
              "      <th>EnclosedPorch</th>\n",
              "      <th>3SsnPorch</th>\n",
              "      <th>ScreenPorch</th>\n",
              "      <th>PoolArea</th>\n",
              "      <th>PoolQC</th>\n",
              "      <th>Fence</th>\n",
              "      <th>MiscFeature</th>\n",
              "      <th>MiscVal</th>\n",
              "      <th>MoSold</th>\n",
              "      <th>YrSold</th>\n",
              "      <th>SaleType</th>\n",
              "      <th>SaleCondition</th>\n",
              "    </tr>\n",
              "  </thead>\n",
              "  <tbody>\n",
              "    <tr>\n",
              "      <th>0</th>\n",
              "      <td>1461</td>\n",
              "      <td>20</td>\n",
              "      <td>RH</td>\n",
              "      <td>80.0</td>\n",
              "      <td>11622</td>\n",
              "      <td>Pave</td>\n",
              "      <td>NaN</td>\n",
              "      <td>Reg</td>\n",
              "      <td>Lvl</td>\n",
              "      <td>AllPub</td>\n",
              "      <td>Inside</td>\n",
              "      <td>Gtl</td>\n",
              "      <td>NAmes</td>\n",
              "      <td>Feedr</td>\n",
              "      <td>Norm</td>\n",
              "      <td>1Fam</td>\n",
              "      <td>1Story</td>\n",
              "      <td>5</td>\n",
              "      <td>6</td>\n",
              "      <td>1961</td>\n",
              "      <td>1961</td>\n",
              "      <td>Gable</td>\n",
              "      <td>CompShg</td>\n",
              "      <td>VinylSd</td>\n",
              "      <td>VinylSd</td>\n",
              "      <td>None</td>\n",
              "      <td>0.0</td>\n",
              "      <td>TA</td>\n",
              "      <td>TA</td>\n",
              "      <td>CBlock</td>\n",
              "      <td>TA</td>\n",
              "      <td>TA</td>\n",
              "      <td>No</td>\n",
              "      <td>Rec</td>\n",
              "      <td>468.0</td>\n",
              "      <td>LwQ</td>\n",
              "      <td>144.0</td>\n",
              "      <td>270.0</td>\n",
              "      <td>882.0</td>\n",
              "      <td>GasA</td>\n",
              "      <td>TA</td>\n",
              "      <td>Y</td>\n",
              "      <td>SBrkr</td>\n",
              "      <td>896</td>\n",
              "      <td>0</td>\n",
              "      <td>0</td>\n",
              "      <td>896</td>\n",
              "      <td>0.0</td>\n",
              "      <td>0.0</td>\n",
              "      <td>1</td>\n",
              "      <td>0</td>\n",
              "      <td>2</td>\n",
              "      <td>1</td>\n",
              "      <td>TA</td>\n",
              "      <td>5</td>\n",
              "      <td>Typ</td>\n",
              "      <td>0</td>\n",
              "      <td>NaN</td>\n",
              "      <td>Attchd</td>\n",
              "      <td>1961.0</td>\n",
              "      <td>Unf</td>\n",
              "      <td>1.0</td>\n",
              "      <td>730.0</td>\n",
              "      <td>TA</td>\n",
              "      <td>TA</td>\n",
              "      <td>Y</td>\n",
              "      <td>140</td>\n",
              "      <td>0</td>\n",
              "      <td>0</td>\n",
              "      <td>0</td>\n",
              "      <td>120</td>\n",
              "      <td>0</td>\n",
              "      <td>NaN</td>\n",
              "      <td>MnPrv</td>\n",
              "      <td>NaN</td>\n",
              "      <td>0</td>\n",
              "      <td>6</td>\n",
              "      <td>2010</td>\n",
              "      <td>WD</td>\n",
              "      <td>Normal</td>\n",
              "    </tr>\n",
              "    <tr>\n",
              "      <th>1</th>\n",
              "      <td>1462</td>\n",
              "      <td>20</td>\n",
              "      <td>RL</td>\n",
              "      <td>81.0</td>\n",
              "      <td>14267</td>\n",
              "      <td>Pave</td>\n",
              "      <td>NaN</td>\n",
              "      <td>IR1</td>\n",
              "      <td>Lvl</td>\n",
              "      <td>AllPub</td>\n",
              "      <td>Corner</td>\n",
              "      <td>Gtl</td>\n",
              "      <td>NAmes</td>\n",
              "      <td>Norm</td>\n",
              "      <td>Norm</td>\n",
              "      <td>1Fam</td>\n",
              "      <td>1Story</td>\n",
              "      <td>6</td>\n",
              "      <td>6</td>\n",
              "      <td>1958</td>\n",
              "      <td>1958</td>\n",
              "      <td>Hip</td>\n",
              "      <td>CompShg</td>\n",
              "      <td>Wd Sdng</td>\n",
              "      <td>Wd Sdng</td>\n",
              "      <td>BrkFace</td>\n",
              "      <td>108.0</td>\n",
              "      <td>TA</td>\n",
              "      <td>TA</td>\n",
              "      <td>CBlock</td>\n",
              "      <td>TA</td>\n",
              "      <td>TA</td>\n",
              "      <td>No</td>\n",
              "      <td>ALQ</td>\n",
              "      <td>923.0</td>\n",
              "      <td>Unf</td>\n",
              "      <td>0.0</td>\n",
              "      <td>406.0</td>\n",
              "      <td>1329.0</td>\n",
              "      <td>GasA</td>\n",
              "      <td>TA</td>\n",
              "      <td>Y</td>\n",
              "      <td>SBrkr</td>\n",
              "      <td>1329</td>\n",
              "      <td>0</td>\n",
              "      <td>0</td>\n",
              "      <td>1329</td>\n",
              "      <td>0.0</td>\n",
              "      <td>0.0</td>\n",
              "      <td>1</td>\n",
              "      <td>1</td>\n",
              "      <td>3</td>\n",
              "      <td>1</td>\n",
              "      <td>Gd</td>\n",
              "      <td>6</td>\n",
              "      <td>Typ</td>\n",
              "      <td>0</td>\n",
              "      <td>NaN</td>\n",
              "      <td>Attchd</td>\n",
              "      <td>1958.0</td>\n",
              "      <td>Unf</td>\n",
              "      <td>1.0</td>\n",
              "      <td>312.0</td>\n",
              "      <td>TA</td>\n",
              "      <td>TA</td>\n",
              "      <td>Y</td>\n",
              "      <td>393</td>\n",
              "      <td>36</td>\n",
              "      <td>0</td>\n",
              "      <td>0</td>\n",
              "      <td>0</td>\n",
              "      <td>0</td>\n",
              "      <td>NaN</td>\n",
              "      <td>NaN</td>\n",
              "      <td>Gar2</td>\n",
              "      <td>12500</td>\n",
              "      <td>6</td>\n",
              "      <td>2010</td>\n",
              "      <td>WD</td>\n",
              "      <td>Normal</td>\n",
              "    </tr>\n",
              "    <tr>\n",
              "      <th>2</th>\n",
              "      <td>1463</td>\n",
              "      <td>60</td>\n",
              "      <td>RL</td>\n",
              "      <td>74.0</td>\n",
              "      <td>13830</td>\n",
              "      <td>Pave</td>\n",
              "      <td>NaN</td>\n",
              "      <td>IR1</td>\n",
              "      <td>Lvl</td>\n",
              "      <td>AllPub</td>\n",
              "      <td>Inside</td>\n",
              "      <td>Gtl</td>\n",
              "      <td>Gilbert</td>\n",
              "      <td>Norm</td>\n",
              "      <td>Norm</td>\n",
              "      <td>1Fam</td>\n",
              "      <td>2Story</td>\n",
              "      <td>5</td>\n",
              "      <td>5</td>\n",
              "      <td>1997</td>\n",
              "      <td>1998</td>\n",
              "      <td>Gable</td>\n",
              "      <td>CompShg</td>\n",
              "      <td>VinylSd</td>\n",
              "      <td>VinylSd</td>\n",
              "      <td>None</td>\n",
              "      <td>0.0</td>\n",
              "      <td>TA</td>\n",
              "      <td>TA</td>\n",
              "      <td>PConc</td>\n",
              "      <td>Gd</td>\n",
              "      <td>TA</td>\n",
              "      <td>No</td>\n",
              "      <td>GLQ</td>\n",
              "      <td>791.0</td>\n",
              "      <td>Unf</td>\n",
              "      <td>0.0</td>\n",
              "      <td>137.0</td>\n",
              "      <td>928.0</td>\n",
              "      <td>GasA</td>\n",
              "      <td>Gd</td>\n",
              "      <td>Y</td>\n",
              "      <td>SBrkr</td>\n",
              "      <td>928</td>\n",
              "      <td>701</td>\n",
              "      <td>0</td>\n",
              "      <td>1629</td>\n",
              "      <td>0.0</td>\n",
              "      <td>0.0</td>\n",
              "      <td>2</td>\n",
              "      <td>1</td>\n",
              "      <td>3</td>\n",
              "      <td>1</td>\n",
              "      <td>TA</td>\n",
              "      <td>6</td>\n",
              "      <td>Typ</td>\n",
              "      <td>1</td>\n",
              "      <td>TA</td>\n",
              "      <td>Attchd</td>\n",
              "      <td>1997.0</td>\n",
              "      <td>Fin</td>\n",
              "      <td>2.0</td>\n",
              "      <td>482.0</td>\n",
              "      <td>TA</td>\n",
              "      <td>TA</td>\n",
              "      <td>Y</td>\n",
              "      <td>212</td>\n",
              "      <td>34</td>\n",
              "      <td>0</td>\n",
              "      <td>0</td>\n",
              "      <td>0</td>\n",
              "      <td>0</td>\n",
              "      <td>NaN</td>\n",
              "      <td>MnPrv</td>\n",
              "      <td>NaN</td>\n",
              "      <td>0</td>\n",
              "      <td>3</td>\n",
              "      <td>2010</td>\n",
              "      <td>WD</td>\n",
              "      <td>Normal</td>\n",
              "    </tr>\n",
              "    <tr>\n",
              "      <th>3</th>\n",
              "      <td>1464</td>\n",
              "      <td>60</td>\n",
              "      <td>RL</td>\n",
              "      <td>78.0</td>\n",
              "      <td>9978</td>\n",
              "      <td>Pave</td>\n",
              "      <td>NaN</td>\n",
              "      <td>IR1</td>\n",
              "      <td>Lvl</td>\n",
              "      <td>AllPub</td>\n",
              "      <td>Inside</td>\n",
              "      <td>Gtl</td>\n",
              "      <td>Gilbert</td>\n",
              "      <td>Norm</td>\n",
              "      <td>Norm</td>\n",
              "      <td>1Fam</td>\n",
              "      <td>2Story</td>\n",
              "      <td>6</td>\n",
              "      <td>6</td>\n",
              "      <td>1998</td>\n",
              "      <td>1998</td>\n",
              "      <td>Gable</td>\n",
              "      <td>CompShg</td>\n",
              "      <td>VinylSd</td>\n",
              "      <td>VinylSd</td>\n",
              "      <td>BrkFace</td>\n",
              "      <td>20.0</td>\n",
              "      <td>TA</td>\n",
              "      <td>TA</td>\n",
              "      <td>PConc</td>\n",
              "      <td>TA</td>\n",
              "      <td>TA</td>\n",
              "      <td>No</td>\n",
              "      <td>GLQ</td>\n",
              "      <td>602.0</td>\n",
              "      <td>Unf</td>\n",
              "      <td>0.0</td>\n",
              "      <td>324.0</td>\n",
              "      <td>926.0</td>\n",
              "      <td>GasA</td>\n",
              "      <td>Ex</td>\n",
              "      <td>Y</td>\n",
              "      <td>SBrkr</td>\n",
              "      <td>926</td>\n",
              "      <td>678</td>\n",
              "      <td>0</td>\n",
              "      <td>1604</td>\n",
              "      <td>0.0</td>\n",
              "      <td>0.0</td>\n",
              "      <td>2</td>\n",
              "      <td>1</td>\n",
              "      <td>3</td>\n",
              "      <td>1</td>\n",
              "      <td>Gd</td>\n",
              "      <td>7</td>\n",
              "      <td>Typ</td>\n",
              "      <td>1</td>\n",
              "      <td>Gd</td>\n",
              "      <td>Attchd</td>\n",
              "      <td>1998.0</td>\n",
              "      <td>Fin</td>\n",
              "      <td>2.0</td>\n",
              "      <td>470.0</td>\n",
              "      <td>TA</td>\n",
              "      <td>TA</td>\n",
              "      <td>Y</td>\n",
              "      <td>360</td>\n",
              "      <td>36</td>\n",
              "      <td>0</td>\n",
              "      <td>0</td>\n",
              "      <td>0</td>\n",
              "      <td>0</td>\n",
              "      <td>NaN</td>\n",
              "      <td>NaN</td>\n",
              "      <td>NaN</td>\n",
              "      <td>0</td>\n",
              "      <td>6</td>\n",
              "      <td>2010</td>\n",
              "      <td>WD</td>\n",
              "      <td>Normal</td>\n",
              "    </tr>\n",
              "    <tr>\n",
              "      <th>4</th>\n",
              "      <td>1465</td>\n",
              "      <td>120</td>\n",
              "      <td>RL</td>\n",
              "      <td>43.0</td>\n",
              "      <td>5005</td>\n",
              "      <td>Pave</td>\n",
              "      <td>NaN</td>\n",
              "      <td>IR1</td>\n",
              "      <td>HLS</td>\n",
              "      <td>AllPub</td>\n",
              "      <td>Inside</td>\n",
              "      <td>Gtl</td>\n",
              "      <td>StoneBr</td>\n",
              "      <td>Norm</td>\n",
              "      <td>Norm</td>\n",
              "      <td>TwnhsE</td>\n",
              "      <td>1Story</td>\n",
              "      <td>8</td>\n",
              "      <td>5</td>\n",
              "      <td>1992</td>\n",
              "      <td>1992</td>\n",
              "      <td>Gable</td>\n",
              "      <td>CompShg</td>\n",
              "      <td>HdBoard</td>\n",
              "      <td>HdBoard</td>\n",
              "      <td>None</td>\n",
              "      <td>0.0</td>\n",
              "      <td>Gd</td>\n",
              "      <td>TA</td>\n",
              "      <td>PConc</td>\n",
              "      <td>Gd</td>\n",
              "      <td>TA</td>\n",
              "      <td>No</td>\n",
              "      <td>ALQ</td>\n",
              "      <td>263.0</td>\n",
              "      <td>Unf</td>\n",
              "      <td>0.0</td>\n",
              "      <td>1017.0</td>\n",
              "      <td>1280.0</td>\n",
              "      <td>GasA</td>\n",
              "      <td>Ex</td>\n",
              "      <td>Y</td>\n",
              "      <td>SBrkr</td>\n",
              "      <td>1280</td>\n",
              "      <td>0</td>\n",
              "      <td>0</td>\n",
              "      <td>1280</td>\n",
              "      <td>0.0</td>\n",
              "      <td>0.0</td>\n",
              "      <td>2</td>\n",
              "      <td>0</td>\n",
              "      <td>2</td>\n",
              "      <td>1</td>\n",
              "      <td>Gd</td>\n",
              "      <td>5</td>\n",
              "      <td>Typ</td>\n",
              "      <td>0</td>\n",
              "      <td>NaN</td>\n",
              "      <td>Attchd</td>\n",
              "      <td>1992.0</td>\n",
              "      <td>RFn</td>\n",
              "      <td>2.0</td>\n",
              "      <td>506.0</td>\n",
              "      <td>TA</td>\n",
              "      <td>TA</td>\n",
              "      <td>Y</td>\n",
              "      <td>0</td>\n",
              "      <td>82</td>\n",
              "      <td>0</td>\n",
              "      <td>0</td>\n",
              "      <td>144</td>\n",
              "      <td>0</td>\n",
              "      <td>NaN</td>\n",
              "      <td>NaN</td>\n",
              "      <td>NaN</td>\n",
              "      <td>0</td>\n",
              "      <td>1</td>\n",
              "      <td>2010</td>\n",
              "      <td>WD</td>\n",
              "      <td>Normal</td>\n",
              "    </tr>\n",
              "  </tbody>\n",
              "</table>\n",
              "</div>"
            ],
            "text/plain": [
              "     Id  MSSubClass MSZoning  ...  YrSold  SaleType SaleCondition\n",
              "0  1461          20       RH  ...    2010        WD        Normal\n",
              "1  1462          20       RL  ...    2010        WD        Normal\n",
              "2  1463          60       RL  ...    2010        WD        Normal\n",
              "3  1464          60       RL  ...    2010        WD        Normal\n",
              "4  1465         120       RL  ...    2010        WD        Normal\n",
              "\n",
              "[5 rows x 80 columns]"
            ]
          },
          "metadata": {
            "tags": []
          },
          "execution_count": 19
        }
      ]
    },
    {
      "cell_type": "code",
      "metadata": {
        "id": "EbLydziBZB8n",
        "colab_type": "code",
        "colab": {}
      },
      "source": [
        "#provided data seems just splitted\n",
        "x_predict_ids = x_predict['Id'].copy()"
      ],
      "execution_count": 0,
      "outputs": []
    },
    {
      "cell_type": "code",
      "metadata": {
        "colab_type": "code",
        "id": "gd91hUzK9eNE",
        "colab": {}
      },
      "source": [
        "#copy of the original target and it's Id\n",
        "df_train0_id_target = df_train0[['Id', 'SalePrice']].copy()"
      ],
      "execution_count": 0,
      "outputs": []
    },
    {
      "cell_type": "code",
      "metadata": {
        "id": "QlafIEbp91N_",
        "colab_type": "code",
        "colab": {}
      },
      "source": [
        "del df_train0['SalePrice']"
      ],
      "execution_count": 0,
      "outputs": []
    },
    {
      "cell_type": "code",
      "metadata": {
        "id": "dWIblzZSZ_ID",
        "colab_type": "code",
        "outputId": "2248a5eb-95d7-4786-8537-0ee448d65247",
        "colab": {
          "base_uri": "https://localhost:8080/",
          "height": 173
        }
      },
      "source": [
        "df_train0.columns == x_predict.columns\n"
      ],
      "execution_count": 0,
      "outputs": [
        {
          "output_type": "execute_result",
          "data": {
            "text/plain": [
              "array([ True,  True,  True,  True,  True,  True,  True,  True,  True,\n",
              "        True,  True,  True,  True,  True,  True,  True,  True,  True,\n",
              "        True,  True,  True,  True,  True,  True,  True,  True,  True,\n",
              "        True,  True,  True,  True,  True,  True,  True,  True,  True,\n",
              "        True,  True,  True,  True,  True,  True,  True,  True,  True,\n",
              "        True,  True,  True,  True,  True,  True,  True,  True,  True,\n",
              "        True,  True,  True,  True,  True,  True,  True,  True,  True,\n",
              "        True,  True,  True,  True,  True,  True,  True,  True,  True,\n",
              "        True,  True,  True,  True,  True,  True,  True,  True])"
            ]
          },
          "metadata": {
            "tags": []
          },
          "execution_count": 23
        }
      ]
    },
    {
      "cell_type": "code",
      "metadata": {
        "id": "v-zpENGWaFgx",
        "colab_type": "code",
        "colab": {}
      },
      "source": [
        "#all data is put together for feature selection. identification is on 'Id' label, so the the original \"test.csv\" data can be popped \n",
        "df_train0 = df_train0.append(x_predict)"
      ],
      "execution_count": 0,
      "outputs": []
    },
    {
      "cell_type": "code",
      "metadata": {
        "id": "42XJvYrPe2oS",
        "colab_type": "code",
        "colab": {}
      },
      "source": [
        "#google facet's overview is a really cool tool for inspection\n",
        "!pip install -q facets-overview"
      ],
      "execution_count": 0,
      "outputs": []
    },
    {
      "cell_type": "code",
      "metadata": {
        "id": "YzkBmVhgfcgO",
        "colab_type": "code",
        "outputId": "7caf267b-1f35-469b-fa23-b4efcd3145d9",
        "colab": {
          "base_uri": "https://localhost:8080/",
          "height": 1000
        }
      },
      "source": [
        "from IPython.core.display import display, HTML\n",
        "import base64\n",
        "from facets_overview.generic_feature_statistics_generator import GenericFeatureStatisticsGenerator\n",
        "\n",
        "gfsg = GenericFeatureStatisticsGenerator()\n",
        "proto = gfsg.ProtoFromDataFrames([{'name': 'df_train0', 'table': df_train0}])\n",
        "protostr = base64.b64encode(proto.SerializeToString()).decode(\"utf-8\")\n",
        "\n",
        "HTML_TEMPLATE = \"\"\"\n",
        "        <script src=\"https://cdnjs.cloudflare.com/ajax/libs/webcomponentsjs/1.3.3/webcomponents-lite.js\"></script>\n",
        "        <link rel=\"import\" href=\"https://raw.githubusercontent.com/PAIR-code/facets/1.0.0/facets-dist/facets-jupyter.html\" >\n",
        "        <facets-overview id=\"elem\"></facets-overview>\n",
        "        <script>\n",
        "          document.querySelector(\"#elem\").protoInput = \"{protostr}\";\n",
        "        </script>\"\"\"\n",
        "html = HTML_TEMPLATE.format(protostr=protostr)\n",
        "display(HTML(html))"
      ],
      "execution_count": 0,
      "outputs": [
        {
          "output_type": "display_data",
          "data": {
            "text/html": [
              "\n",
              "        <script src=\"https://cdnjs.cloudflare.com/ajax/libs/webcomponentsjs/1.3.3/webcomponents-lite.js\"></script>\n",
              "        <link rel=\"import\" href=\"https://raw.githubusercontent.com/PAIR-code/facets/1.0.0/facets-dist/facets-jupyter.html\" >\n",
              "        <facets-overview id=\"elem\"></facets-overview>\n",
              "        <script>\n",
              "          document.querySelector(\"#elem\").protoInput = \"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\";\n",
              "        </script>"
            ],
            "text/plain": [
              "<IPython.core.display.HTML object>"
            ]
          },
          "metadata": {
            "tags": []
          }
        }
      ]
    },
    {
      "cell_type": "code",
      "metadata": {
        "id": "bJkiel-hQ32k",
        "colab_type": "code",
        "colab": {}
      },
      "source": [
        "def heat_map_corr(df):\n",
        "\n",
        "  df_corr = df.corr()\n",
        "  f = plt.figure(figsize=(10, 10))\n",
        "  plt.matshow(np.abs(df_corr), fignum=f.number)\n",
        "  plt.xticks(range(df_corr.shape[1]), df_corr.columns, fontsize=10, rotation=90)\n",
        "  plt.yticks(range(df_corr.shape[1]), df_corr.columns, fontsize=10)\n",
        "  cb = plt.colorbar()\n",
        "  cb.ax.tick_params(labelsize=14)\n",
        "  plt.title('Correlation Matrix \\n\\n\\n\\n', fontsize=16);\n",
        "\n",
        "  return plt.show(), display(df_corr)\n"
      ],
      "execution_count": 0,
      "outputs": []
    },
    {
      "cell_type": "markdown",
      "metadata": {
        "id": "nudfVusuUai4",
        "colab_type": "text"
      },
      "source": [
        "defining RMSE metric,as prescribed"
      ]
    },
    {
      "cell_type": "code",
      "metadata": {
        "id": "MAGjv4NmUZWm",
        "colab_type": "code",
        "colab": {}
      },
      "source": [
        "import keras.backend as K\n",
        "\n",
        "def rmse(y_true, y_pred):\n",
        "    rmse = K.sqrt(K.mean(K.square(y_true-y_pred)))\n",
        "    return rmse"
      ],
      "execution_count": 0,
      "outputs": []
    },
    {
      "cell_type": "markdown",
      "metadata": {
        "id": "lJIXcBAB5P2C",
        "colab_type": "text"
      },
      "source": [
        "# **MODEL VERSION 3**\n",
        "\n",
        "After several data featurings and models, this is the best that could be achieved given the time set for it.\n",
        "\n",
        "* NaN values will be processed: imputed or destroyed.\n",
        "* non-notmalized predictors\n",
        "* One-hot cat\n",
        "* scaled target to e-log\n"
      ]
    },
    {
      "cell_type": "code",
      "metadata": {
        "id": "K9eJ27u95PM5",
        "colab_type": "code",
        "outputId": "dc33295f-e9b8-4351-e6b9-eabf0a051d66",
        "colab": {
          "base_uri": "https://localhost:8080/",
          "height": 222
        }
      },
      "source": [
        "df_train_v3 = df_train0.copy()\n",
        "df_train_v3.head()"
      ],
      "execution_count": 0,
      "outputs": [
        {
          "output_type": "execute_result",
          "data": {
            "text/html": [
              "<div>\n",
              "<style scoped>\n",
              "    .dataframe tbody tr th:only-of-type {\n",
              "        vertical-align: middle;\n",
              "    }\n",
              "\n",
              "    .dataframe tbody tr th {\n",
              "        vertical-align: top;\n",
              "    }\n",
              "\n",
              "    .dataframe thead th {\n",
              "        text-align: right;\n",
              "    }\n",
              "</style>\n",
              "<table border=\"1\" class=\"dataframe\">\n",
              "  <thead>\n",
              "    <tr style=\"text-align: right;\">\n",
              "      <th></th>\n",
              "      <th>Id</th>\n",
              "      <th>MSSubClass</th>\n",
              "      <th>MSZoning</th>\n",
              "      <th>LotFrontage</th>\n",
              "      <th>LotArea</th>\n",
              "      <th>Street</th>\n",
              "      <th>Alley</th>\n",
              "      <th>LotShape</th>\n",
              "      <th>LandContour</th>\n",
              "      <th>Utilities</th>\n",
              "      <th>LotConfig</th>\n",
              "      <th>LandSlope</th>\n",
              "      <th>Neighborhood</th>\n",
              "      <th>Condition1</th>\n",
              "      <th>Condition2</th>\n",
              "      <th>BldgType</th>\n",
              "      <th>HouseStyle</th>\n",
              "      <th>OverallQual</th>\n",
              "      <th>OverallCond</th>\n",
              "      <th>YearBuilt</th>\n",
              "      <th>YearRemodAdd</th>\n",
              "      <th>RoofStyle</th>\n",
              "      <th>RoofMatl</th>\n",
              "      <th>Exterior1st</th>\n",
              "      <th>Exterior2nd</th>\n",
              "      <th>MasVnrType</th>\n",
              "      <th>MasVnrArea</th>\n",
              "      <th>ExterQual</th>\n",
              "      <th>ExterCond</th>\n",
              "      <th>Foundation</th>\n",
              "      <th>BsmtQual</th>\n",
              "      <th>BsmtCond</th>\n",
              "      <th>BsmtExposure</th>\n",
              "      <th>BsmtFinType1</th>\n",
              "      <th>BsmtFinSF1</th>\n",
              "      <th>BsmtFinType2</th>\n",
              "      <th>BsmtFinSF2</th>\n",
              "      <th>BsmtUnfSF</th>\n",
              "      <th>TotalBsmtSF</th>\n",
              "      <th>Heating</th>\n",
              "      <th>HeatingQC</th>\n",
              "      <th>CentralAir</th>\n",
              "      <th>Electrical</th>\n",
              "      <th>1stFlrSF</th>\n",
              "      <th>2ndFlrSF</th>\n",
              "      <th>LowQualFinSF</th>\n",
              "      <th>GrLivArea</th>\n",
              "      <th>BsmtFullBath</th>\n",
              "      <th>BsmtHalfBath</th>\n",
              "      <th>FullBath</th>\n",
              "      <th>HalfBath</th>\n",
              "      <th>BedroomAbvGr</th>\n",
              "      <th>KitchenAbvGr</th>\n",
              "      <th>KitchenQual</th>\n",
              "      <th>TotRmsAbvGrd</th>\n",
              "      <th>Functional</th>\n",
              "      <th>Fireplaces</th>\n",
              "      <th>FireplaceQu</th>\n",
              "      <th>GarageType</th>\n",
              "      <th>GarageYrBlt</th>\n",
              "      <th>GarageFinish</th>\n",
              "      <th>GarageCars</th>\n",
              "      <th>GarageArea</th>\n",
              "      <th>GarageQual</th>\n",
              "      <th>GarageCond</th>\n",
              "      <th>PavedDrive</th>\n",
              "      <th>WoodDeckSF</th>\n",
              "      <th>OpenPorchSF</th>\n",
              "      <th>EnclosedPorch</th>\n",
              "      <th>3SsnPorch</th>\n",
              "      <th>ScreenPorch</th>\n",
              "      <th>PoolArea</th>\n",
              "      <th>PoolQC</th>\n",
              "      <th>Fence</th>\n",
              "      <th>MiscFeature</th>\n",
              "      <th>MiscVal</th>\n",
              "      <th>MoSold</th>\n",
              "      <th>YrSold</th>\n",
              "      <th>SaleType</th>\n",
              "      <th>SaleCondition</th>\n",
              "    </tr>\n",
              "  </thead>\n",
              "  <tbody>\n",
              "    <tr>\n",
              "      <th>0</th>\n",
              "      <td>1</td>\n",
              "      <td>60</td>\n",
              "      <td>RL</td>\n",
              "      <td>65.0</td>\n",
              "      <td>8450</td>\n",
              "      <td>Pave</td>\n",
              "      <td>NaN</td>\n",
              "      <td>Reg</td>\n",
              "      <td>Lvl</td>\n",
              "      <td>AllPub</td>\n",
              "      <td>Inside</td>\n",
              "      <td>Gtl</td>\n",
              "      <td>CollgCr</td>\n",
              "      <td>Norm</td>\n",
              "      <td>Norm</td>\n",
              "      <td>1Fam</td>\n",
              "      <td>2Story</td>\n",
              "      <td>7</td>\n",
              "      <td>5</td>\n",
              "      <td>2003</td>\n",
              "      <td>2003</td>\n",
              "      <td>Gable</td>\n",
              "      <td>CompShg</td>\n",
              "      <td>VinylSd</td>\n",
              "      <td>VinylSd</td>\n",
              "      <td>BrkFace</td>\n",
              "      <td>196.0</td>\n",
              "      <td>Gd</td>\n",
              "      <td>TA</td>\n",
              "      <td>PConc</td>\n",
              "      <td>Gd</td>\n",
              "      <td>TA</td>\n",
              "      <td>No</td>\n",
              "      <td>GLQ</td>\n",
              "      <td>706.0</td>\n",
              "      <td>Unf</td>\n",
              "      <td>0.0</td>\n",
              "      <td>150.0</td>\n",
              "      <td>856.0</td>\n",
              "      <td>GasA</td>\n",
              "      <td>Ex</td>\n",
              "      <td>Y</td>\n",
              "      <td>SBrkr</td>\n",
              "      <td>856</td>\n",
              "      <td>854</td>\n",
              "      <td>0</td>\n",
              "      <td>1710</td>\n",
              "      <td>1.0</td>\n",
              "      <td>0.0</td>\n",
              "      <td>2</td>\n",
              "      <td>1</td>\n",
              "      <td>3</td>\n",
              "      <td>1</td>\n",
              "      <td>Gd</td>\n",
              "      <td>8</td>\n",
              "      <td>Typ</td>\n",
              "      <td>0</td>\n",
              "      <td>NaN</td>\n",
              "      <td>Attchd</td>\n",
              "      <td>2003.0</td>\n",
              "      <td>RFn</td>\n",
              "      <td>2.0</td>\n",
              "      <td>548.0</td>\n",
              "      <td>TA</td>\n",
              "      <td>TA</td>\n",
              "      <td>Y</td>\n",
              "      <td>0</td>\n",
              "      <td>61</td>\n",
              "      <td>0</td>\n",
              "      <td>0</td>\n",
              "      <td>0</td>\n",
              "      <td>0</td>\n",
              "      <td>NaN</td>\n",
              "      <td>NaN</td>\n",
              "      <td>NaN</td>\n",
              "      <td>0</td>\n",
              "      <td>2</td>\n",
              "      <td>2008</td>\n",
              "      <td>WD</td>\n",
              "      <td>Normal</td>\n",
              "    </tr>\n",
              "    <tr>\n",
              "      <th>1</th>\n",
              "      <td>2</td>\n",
              "      <td>20</td>\n",
              "      <td>RL</td>\n",
              "      <td>80.0</td>\n",
              "      <td>9600</td>\n",
              "      <td>Pave</td>\n",
              "      <td>NaN</td>\n",
              "      <td>Reg</td>\n",
              "      <td>Lvl</td>\n",
              "      <td>AllPub</td>\n",
              "      <td>FR2</td>\n",
              "      <td>Gtl</td>\n",
              "      <td>Veenker</td>\n",
              "      <td>Feedr</td>\n",
              "      <td>Norm</td>\n",
              "      <td>1Fam</td>\n",
              "      <td>1Story</td>\n",
              "      <td>6</td>\n",
              "      <td>8</td>\n",
              "      <td>1976</td>\n",
              "      <td>1976</td>\n",
              "      <td>Gable</td>\n",
              "      <td>CompShg</td>\n",
              "      <td>MetalSd</td>\n",
              "      <td>MetalSd</td>\n",
              "      <td>None</td>\n",
              "      <td>0.0</td>\n",
              "      <td>TA</td>\n",
              "      <td>TA</td>\n",
              "      <td>CBlock</td>\n",
              "      <td>Gd</td>\n",
              "      <td>TA</td>\n",
              "      <td>Gd</td>\n",
              "      <td>ALQ</td>\n",
              "      <td>978.0</td>\n",
              "      <td>Unf</td>\n",
              "      <td>0.0</td>\n",
              "      <td>284.0</td>\n",
              "      <td>1262.0</td>\n",
              "      <td>GasA</td>\n",
              "      <td>Ex</td>\n",
              "      <td>Y</td>\n",
              "      <td>SBrkr</td>\n",
              "      <td>1262</td>\n",
              "      <td>0</td>\n",
              "      <td>0</td>\n",
              "      <td>1262</td>\n",
              "      <td>0.0</td>\n",
              "      <td>1.0</td>\n",
              "      <td>2</td>\n",
              "      <td>0</td>\n",
              "      <td>3</td>\n",
              "      <td>1</td>\n",
              "      <td>TA</td>\n",
              "      <td>6</td>\n",
              "      <td>Typ</td>\n",
              "      <td>1</td>\n",
              "      <td>TA</td>\n",
              "      <td>Attchd</td>\n",
              "      <td>1976.0</td>\n",
              "      <td>RFn</td>\n",
              "      <td>2.0</td>\n",
              "      <td>460.0</td>\n",
              "      <td>TA</td>\n",
              "      <td>TA</td>\n",
              "      <td>Y</td>\n",
              "      <td>298</td>\n",
              "      <td>0</td>\n",
              "      <td>0</td>\n",
              "      <td>0</td>\n",
              "      <td>0</td>\n",
              "      <td>0</td>\n",
              "      <td>NaN</td>\n",
              "      <td>NaN</td>\n",
              "      <td>NaN</td>\n",
              "      <td>0</td>\n",
              "      <td>5</td>\n",
              "      <td>2007</td>\n",
              "      <td>WD</td>\n",
              "      <td>Normal</td>\n",
              "    </tr>\n",
              "    <tr>\n",
              "      <th>2</th>\n",
              "      <td>3</td>\n",
              "      <td>60</td>\n",
              "      <td>RL</td>\n",
              "      <td>68.0</td>\n",
              "      <td>11250</td>\n",
              "      <td>Pave</td>\n",
              "      <td>NaN</td>\n",
              "      <td>IR1</td>\n",
              "      <td>Lvl</td>\n",
              "      <td>AllPub</td>\n",
              "      <td>Inside</td>\n",
              "      <td>Gtl</td>\n",
              "      <td>CollgCr</td>\n",
              "      <td>Norm</td>\n",
              "      <td>Norm</td>\n",
              "      <td>1Fam</td>\n",
              "      <td>2Story</td>\n",
              "      <td>7</td>\n",
              "      <td>5</td>\n",
              "      <td>2001</td>\n",
              "      <td>2002</td>\n",
              "      <td>Gable</td>\n",
              "      <td>CompShg</td>\n",
              "      <td>VinylSd</td>\n",
              "      <td>VinylSd</td>\n",
              "      <td>BrkFace</td>\n",
              "      <td>162.0</td>\n",
              "      <td>Gd</td>\n",
              "      <td>TA</td>\n",
              "      <td>PConc</td>\n",
              "      <td>Gd</td>\n",
              "      <td>TA</td>\n",
              "      <td>Mn</td>\n",
              "      <td>GLQ</td>\n",
              "      <td>486.0</td>\n",
              "      <td>Unf</td>\n",
              "      <td>0.0</td>\n",
              "      <td>434.0</td>\n",
              "      <td>920.0</td>\n",
              "      <td>GasA</td>\n",
              "      <td>Ex</td>\n",
              "      <td>Y</td>\n",
              "      <td>SBrkr</td>\n",
              "      <td>920</td>\n",
              "      <td>866</td>\n",
              "      <td>0</td>\n",
              "      <td>1786</td>\n",
              "      <td>1.0</td>\n",
              "      <td>0.0</td>\n",
              "      <td>2</td>\n",
              "      <td>1</td>\n",
              "      <td>3</td>\n",
              "      <td>1</td>\n",
              "      <td>Gd</td>\n",
              "      <td>6</td>\n",
              "      <td>Typ</td>\n",
              "      <td>1</td>\n",
              "      <td>TA</td>\n",
              "      <td>Attchd</td>\n",
              "      <td>2001.0</td>\n",
              "      <td>RFn</td>\n",
              "      <td>2.0</td>\n",
              "      <td>608.0</td>\n",
              "      <td>TA</td>\n",
              "      <td>TA</td>\n",
              "      <td>Y</td>\n",
              "      <td>0</td>\n",
              "      <td>42</td>\n",
              "      <td>0</td>\n",
              "      <td>0</td>\n",
              "      <td>0</td>\n",
              "      <td>0</td>\n",
              "      <td>NaN</td>\n",
              "      <td>NaN</td>\n",
              "      <td>NaN</td>\n",
              "      <td>0</td>\n",
              "      <td>9</td>\n",
              "      <td>2008</td>\n",
              "      <td>WD</td>\n",
              "      <td>Normal</td>\n",
              "    </tr>\n",
              "    <tr>\n",
              "      <th>3</th>\n",
              "      <td>4</td>\n",
              "      <td>70</td>\n",
              "      <td>RL</td>\n",
              "      <td>60.0</td>\n",
              "      <td>9550</td>\n",
              "      <td>Pave</td>\n",
              "      <td>NaN</td>\n",
              "      <td>IR1</td>\n",
              "      <td>Lvl</td>\n",
              "      <td>AllPub</td>\n",
              "      <td>Corner</td>\n",
              "      <td>Gtl</td>\n",
              "      <td>Crawfor</td>\n",
              "      <td>Norm</td>\n",
              "      <td>Norm</td>\n",
              "      <td>1Fam</td>\n",
              "      <td>2Story</td>\n",
              "      <td>7</td>\n",
              "      <td>5</td>\n",
              "      <td>1915</td>\n",
              "      <td>1970</td>\n",
              "      <td>Gable</td>\n",
              "      <td>CompShg</td>\n",
              "      <td>Wd Sdng</td>\n",
              "      <td>Wd Shng</td>\n",
              "      <td>None</td>\n",
              "      <td>0.0</td>\n",
              "      <td>TA</td>\n",
              "      <td>TA</td>\n",
              "      <td>BrkTil</td>\n",
              "      <td>TA</td>\n",
              "      <td>Gd</td>\n",
              "      <td>No</td>\n",
              "      <td>ALQ</td>\n",
              "      <td>216.0</td>\n",
              "      <td>Unf</td>\n",
              "      <td>0.0</td>\n",
              "      <td>540.0</td>\n",
              "      <td>756.0</td>\n",
              "      <td>GasA</td>\n",
              "      <td>Gd</td>\n",
              "      <td>Y</td>\n",
              "      <td>SBrkr</td>\n",
              "      <td>961</td>\n",
              "      <td>756</td>\n",
              "      <td>0</td>\n",
              "      <td>1717</td>\n",
              "      <td>1.0</td>\n",
              "      <td>0.0</td>\n",
              "      <td>1</td>\n",
              "      <td>0</td>\n",
              "      <td>3</td>\n",
              "      <td>1</td>\n",
              "      <td>Gd</td>\n",
              "      <td>7</td>\n",
              "      <td>Typ</td>\n",
              "      <td>1</td>\n",
              "      <td>Gd</td>\n",
              "      <td>Detchd</td>\n",
              "      <td>1998.0</td>\n",
              "      <td>Unf</td>\n",
              "      <td>3.0</td>\n",
              "      <td>642.0</td>\n",
              "      <td>TA</td>\n",
              "      <td>TA</td>\n",
              "      <td>Y</td>\n",
              "      <td>0</td>\n",
              "      <td>35</td>\n",
              "      <td>272</td>\n",
              "      <td>0</td>\n",
              "      <td>0</td>\n",
              "      <td>0</td>\n",
              "      <td>NaN</td>\n",
              "      <td>NaN</td>\n",
              "      <td>NaN</td>\n",
              "      <td>0</td>\n",
              "      <td>2</td>\n",
              "      <td>2006</td>\n",
              "      <td>WD</td>\n",
              "      <td>Abnorml</td>\n",
              "    </tr>\n",
              "    <tr>\n",
              "      <th>4</th>\n",
              "      <td>5</td>\n",
              "      <td>60</td>\n",
              "      <td>RL</td>\n",
              "      <td>84.0</td>\n",
              "      <td>14260</td>\n",
              "      <td>Pave</td>\n",
              "      <td>NaN</td>\n",
              "      <td>IR1</td>\n",
              "      <td>Lvl</td>\n",
              "      <td>AllPub</td>\n",
              "      <td>FR2</td>\n",
              "      <td>Gtl</td>\n",
              "      <td>NoRidge</td>\n",
              "      <td>Norm</td>\n",
              "      <td>Norm</td>\n",
              "      <td>1Fam</td>\n",
              "      <td>2Story</td>\n",
              "      <td>8</td>\n",
              "      <td>5</td>\n",
              "      <td>2000</td>\n",
              "      <td>2000</td>\n",
              "      <td>Gable</td>\n",
              "      <td>CompShg</td>\n",
              "      <td>VinylSd</td>\n",
              "      <td>VinylSd</td>\n",
              "      <td>BrkFace</td>\n",
              "      <td>350.0</td>\n",
              "      <td>Gd</td>\n",
              "      <td>TA</td>\n",
              "      <td>PConc</td>\n",
              "      <td>Gd</td>\n",
              "      <td>TA</td>\n",
              "      <td>Av</td>\n",
              "      <td>GLQ</td>\n",
              "      <td>655.0</td>\n",
              "      <td>Unf</td>\n",
              "      <td>0.0</td>\n",
              "      <td>490.0</td>\n",
              "      <td>1145.0</td>\n",
              "      <td>GasA</td>\n",
              "      <td>Ex</td>\n",
              "      <td>Y</td>\n",
              "      <td>SBrkr</td>\n",
              "      <td>1145</td>\n",
              "      <td>1053</td>\n",
              "      <td>0</td>\n",
              "      <td>2198</td>\n",
              "      <td>1.0</td>\n",
              "      <td>0.0</td>\n",
              "      <td>2</td>\n",
              "      <td>1</td>\n",
              "      <td>4</td>\n",
              "      <td>1</td>\n",
              "      <td>Gd</td>\n",
              "      <td>9</td>\n",
              "      <td>Typ</td>\n",
              "      <td>1</td>\n",
              "      <td>TA</td>\n",
              "      <td>Attchd</td>\n",
              "      <td>2000.0</td>\n",
              "      <td>RFn</td>\n",
              "      <td>3.0</td>\n",
              "      <td>836.0</td>\n",
              "      <td>TA</td>\n",
              "      <td>TA</td>\n",
              "      <td>Y</td>\n",
              "      <td>192</td>\n",
              "      <td>84</td>\n",
              "      <td>0</td>\n",
              "      <td>0</td>\n",
              "      <td>0</td>\n",
              "      <td>0</td>\n",
              "      <td>NaN</td>\n",
              "      <td>NaN</td>\n",
              "      <td>NaN</td>\n",
              "      <td>0</td>\n",
              "      <td>12</td>\n",
              "      <td>2008</td>\n",
              "      <td>WD</td>\n",
              "      <td>Normal</td>\n",
              "    </tr>\n",
              "  </tbody>\n",
              "</table>\n",
              "</div>"
            ],
            "text/plain": [
              "   Id  MSSubClass MSZoning  LotFrontage  ...  MoSold YrSold SaleType SaleCondition\n",
              "0   1          60       RL         65.0  ...       2   2008       WD        Normal\n",
              "1   2          20       RL         80.0  ...       5   2007       WD        Normal\n",
              "2   3          60       RL         68.0  ...       9   2008       WD        Normal\n",
              "3   4          70       RL         60.0  ...       2   2006       WD       Abnorml\n",
              "4   5          60       RL         84.0  ...      12   2008       WD        Normal\n",
              "\n",
              "[5 rows x 80 columns]"
            ]
          },
          "metadata": {
            "tags": []
          },
          "execution_count": 29
        }
      ]
    },
    {
      "cell_type": "markdown",
      "metadata": {
        "id": "JWgzYSsoAfgJ",
        "colab_type": "text"
      },
      "source": [
        ", NaN values in cols are as follows:"
      ]
    },
    {
      "cell_type": "code",
      "metadata": {
        "id": "MypCSQAGy1s7",
        "colab_type": "code",
        "outputId": "cad1a809-329e-49c6-fd12-dbd180f5629e",
        "colab": {
          "base_uri": "https://localhost:8080/",
          "height": 69
        }
      },
      "source": [
        "print('df_train_v3\\'s len: ', len(df_train_v3), '\\n\\n')\n"
      ],
      "execution_count": 0,
      "outputs": [
        {
          "output_type": "stream",
          "text": [
            "df_train_v3's len:  2919 \n",
            "\n",
            "\n"
          ],
          "name": "stdout"
        }
      ]
    },
    {
      "cell_type": "markdown",
      "metadata": {
        "id": "btZ2uvB-ApmR",
        "colab_type": "text"
      },
      "source": [
        "259 events are NaN on LotFrontage (Linear feet of street connected to property) could be imputed from the total property area LotArea (Lot size in square feet) suposing a it has a squared shape -as usual-. But, first let's check if this two labels data are correlated"
      ]
    },
    {
      "cell_type": "code",
      "metadata": {
        "id": "od1xI7YiAHgn",
        "colab_type": "code",
        "outputId": "7948b526-1347-441d-d82b-b79c983dcb18",
        "colab": {
          "base_uri": "https://localhost:8080/",
          "height": 753
        }
      },
      "source": [
        "token = df_train_v3[['LotFrontage','LotArea']].dropna()\n",
        "heat_map_corr(token)"
      ],
      "execution_count": 0,
      "outputs": [
        {
          "output_type": "display_data",
          "data": {
            "image/png": "[encoded data removed]",
            "text/plain": [
              "<Figure size 720x720 with 2 Axes>"
            ]
          },
          "metadata": {
            "tags": []
          }
        },
        {
          "output_type": "display_data",
          "data": {
            "text/html": [
              "<div>\n",
              "<style scoped>\n",
              "    .dataframe tbody tr th:only-of-type {\n",
              "        vertical-align: middle;\n",
              "    }\n",
              "\n",
              "    .dataframe tbody tr th {\n",
              "        vertical-align: top;\n",
              "    }\n",
              "\n",
              "    .dataframe thead th {\n",
              "        text-align: right;\n",
              "    }\n",
              "</style>\n",
              "<table border=\"1\" class=\"dataframe\">\n",
              "  <thead>\n",
              "    <tr style=\"text-align: right;\">\n",
              "      <th></th>\n",
              "      <th>LotFrontage</th>\n",
              "      <th>LotArea</th>\n",
              "    </tr>\n",
              "  </thead>\n",
              "  <tbody>\n",
              "    <tr>\n",
              "      <th>LotFrontage</th>\n",
              "      <td>1.000000</td>\n",
              "      <td>0.489896</td>\n",
              "    </tr>\n",
              "    <tr>\n",
              "      <th>LotArea</th>\n",
              "      <td>0.489896</td>\n",
              "      <td>1.000000</td>\n",
              "    </tr>\n",
              "  </tbody>\n",
              "</table>\n",
              "</div>"
            ],
            "text/plain": [
              "             LotFrontage   LotArea\n",
              "LotFrontage     1.000000  0.489896\n",
              "LotArea         0.489896  1.000000"
            ]
          },
          "metadata": {
            "tags": []
          }
        },
        {
          "output_type": "execute_result",
          "data": {
            "text/plain": [
              "(None, None)"
            ]
          },
          "metadata": {
            "tags": []
          },
          "execution_count": 31
        }
      ]
    },
    {
      "cell_type": "markdown",
      "metadata": {
        "id": "xObR34WvDrIK",
        "colab_type": "text"
      },
      "source": [
        "correlation is significant, but not complete. missing data will be imputed as if total area where in a squared shape"
      ]
    },
    {
      "cell_type": "code",
      "metadata": {
        "id": "7pEqlDrzDo9k",
        "colab_type": "code",
        "outputId": "37e2df30-2bb6-43dd-bf92-de79ced4ac46",
        "colab": {
          "base_uri": "https://localhost:8080/",
          "height": 52
        }
      },
      "source": [
        "df_train_v3['LotFrontage'].fillna(np.sqrt(df_train_v3['LotArea']), axis = 0, inplace = True)\n",
        "df_train_v3[['LotFrontage']].isna().sum()"
      ],
      "execution_count": 0,
      "outputs": [
        {
          "output_type": "execute_result",
          "data": {
            "text/plain": [
              "LotFrontage    0\n",
              "dtype: int64"
            ]
          },
          "metadata": {
            "tags": []
          },
          "execution_count": 32
        }
      ]
    },
    {
      "cell_type": "code",
      "metadata": {
        "id": "gS_T78LnHHpK",
        "colab_type": "code",
        "outputId": "61ce8d17-0c23-4c01-f29d-173f7763c6a9",
        "colab": {
          "base_uri": "https://localhost:8080/",
          "height": 753
        }
      },
      "source": [
        "heat_map_corr(token)"
      ],
      "execution_count": 0,
      "outputs": [
        {
          "output_type": "display_data",
          "data": {
            "image/png": "[encoded data removed]",
            "text/plain": [
              "<Figure size 720x720 with 2 Axes>"
            ]
          },
          "metadata": {
            "tags": []
          }
        },
        {
          "output_type": "display_data",
          "data": {
            "text/html": [
              "<div>\n",
              "<style scoped>\n",
              "    .dataframe tbody tr th:only-of-type {\n",
              "        vertical-align: middle;\n",
              "    }\n",
              "\n",
              "    .dataframe tbody tr th {\n",
              "        vertical-align: top;\n",
              "    }\n",
              "\n",
              "    .dataframe thead th {\n",
              "        text-align: right;\n",
              "    }\n",
              "</style>\n",
              "<table border=\"1\" class=\"dataframe\">\n",
              "  <thead>\n",
              "    <tr style=\"text-align: right;\">\n",
              "      <th></th>\n",
              "      <th>LotFrontage</th>\n",
              "      <th>LotArea</th>\n",
              "    </tr>\n",
              "  </thead>\n",
              "  <tbody>\n",
              "    <tr>\n",
              "      <th>LotFrontage</th>\n",
              "      <td>1.000000</td>\n",
              "      <td>0.489896</td>\n",
              "    </tr>\n",
              "    <tr>\n",
              "      <th>LotArea</th>\n",
              "      <td>0.489896</td>\n",
              "      <td>1.000000</td>\n",
              "    </tr>\n",
              "  </tbody>\n",
              "</table>\n",
              "</div>"
            ],
            "text/plain": [
              "             LotFrontage   LotArea\n",
              "LotFrontage     1.000000  0.489896\n",
              "LotArea         0.489896  1.000000"
            ]
          },
          "metadata": {
            "tags": []
          }
        },
        {
          "output_type": "execute_result",
          "data": {
            "text/plain": [
              "(None, None)"
            ]
          },
          "metadata": {
            "tags": []
          },
          "execution_count": 33
        }
      ]
    },
    {
      "cell_type": "markdown",
      "metadata": {
        "id": "-R0g2bqcHM8X",
        "colab_type": "text"
      },
      "source": [
        "imputing data didn't changed correlation."
      ]
    },
    {
      "cell_type": "markdown",
      "metadata": {
        "id": "_JuzEMlxHV5H",
        "colab_type": "text"
      },
      "source": [
        "Alley (Type of alley access) has 1369 NaN values."
      ]
    },
    {
      "cell_type": "code",
      "metadata": {
        "id": "tC7TDuC_Hmhv",
        "colab_type": "code",
        "outputId": "9fdb6aba-cd5b-48f1-c3f0-30a4d552bbfb",
        "colab": {
          "base_uri": "https://localhost:8080/",
          "height": 34
        }
      },
      "source": [
        "df_train_v3['Alley'].unique()"
      ],
      "execution_count": 0,
      "outputs": [
        {
          "output_type": "execute_result",
          "data": {
            "text/plain": [
              "array([nan, 'Grvl', 'Pave'], dtype=object)"
            ]
          },
          "metadata": {
            "tags": []
          },
          "execution_count": 34
        }
      ]
    },
    {
      "cell_type": "markdown",
      "metadata": {
        "id": "n9gLTLqaLKd2",
        "colab_type": "text"
      },
      "source": [
        "from data description we have\n",
        "\n",
        "Alley: Type of alley access to property\n",
        "\n",
        "       Grvl\tGravel\n",
        "       Pave\tPaved\n",
        "       NA \tNo alley access\n",
        "Alley access is a singular condition for a property. This suggest that the NaN values could be just empty field.\n",
        "\n",
        "he one hot method pd.get_dummies ignores NaN, so it would be better to change NaN to 'NA', meaning 'No Alley Access'"
      ]
    },
    {
      "cell_type": "code",
      "metadata": {
        "id": "PTp7AaRnHwOp",
        "colab_type": "code",
        "outputId": "ec0591ba-a020-4d70-951a-b9374ecf7ca6",
        "colab": {
          "base_uri": "https://localhost:8080/",
          "height": 34
        }
      },
      "source": [
        "df_train_v3['Alley'].fillna('NA', axis = 0, inplace = True)\n",
        "df_train_v3['Alley'].isna().sum()"
      ],
      "execution_count": 0,
      "outputs": [
        {
          "output_type": "execute_result",
          "data": {
            "text/plain": [
              "0"
            ]
          },
          "metadata": {
            "tags": []
          },
          "execution_count": 35
        }
      ]
    },
    {
      "cell_type": "markdown",
      "metadata": {
        "id": "2tYSf0N3MVYk",
        "colab_type": "text"
      },
      "source": [
        "MasVnrType  has 8 NaN. The description is as follows:\n",
        "\n",
        "MasVnrType: Masonry veneer type\n",
        "\n",
        "       BrkCmn\tBrick Common\n",
        "       BrkFace\tBrick Face\n",
        "       CBlock\tCinder Block\n",
        "       None\tNone\n",
        "       Stone\tStone"
      ]
    },
    {
      "cell_type": "markdown",
      "metadata": {
        "id": "e7oPnjFlNMR9",
        "colab_type": "text"
      },
      "source": [
        "8 data is insignificant, but this mean also to drop all others labels, for this. So it will be imputed as None."
      ]
    },
    {
      "cell_type": "code",
      "metadata": {
        "id": "PjeDqdvKMumq",
        "colab_type": "code",
        "outputId": "01dcca0a-8233-4759-8d4e-453f00ecb1cf",
        "colab": {
          "base_uri": "https://localhost:8080/",
          "height": 34
        }
      },
      "source": [
        "df_train_v3['MasVnrType'].fillna('None', axis = 0, inplace = True)\n",
        "df_train_v3['MasVnrType'].isna().sum()"
      ],
      "execution_count": 0,
      "outputs": [
        {
          "output_type": "execute_result",
          "data": {
            "text/plain": [
              "0"
            ]
          },
          "metadata": {
            "tags": []
          },
          "execution_count": 36
        }
      ]
    },
    {
      "cell_type": "markdown",
      "metadata": {
        "id": "FD4NebmxNaY8",
        "colab_type": "text"
      },
      "source": [
        "MasVnrArea  has 8 NaN. \n",
        "\n",
        "MasVnrArea: Masonry veneer area in square feet\n"
      ]
    },
    {
      "cell_type": "code",
      "metadata": {
        "id": "pzurJUbKNekl",
        "colab_type": "code",
        "outputId": "ee18993f-a0bc-4cce-d153-96c7c0cd45bd",
        "colab": {
          "base_uri": "https://localhost:8080/",
          "height": 121
        }
      },
      "source": [
        "df_train_v3['MasVnrArea'].head()"
      ],
      "execution_count": 0,
      "outputs": [
        {
          "output_type": "execute_result",
          "data": {
            "text/plain": [
              "0    196.0\n",
              "1      0.0\n",
              "2    162.0\n",
              "3      0.0\n",
              "4    350.0\n",
              "Name: MasVnrArea, dtype: float64"
            ]
          },
          "metadata": {
            "tags": []
          },
          "execution_count": 37
        }
      ]
    },
    {
      "cell_type": "code",
      "metadata": {
        "id": "z-qWImTZRmka",
        "colab_type": "code",
        "outputId": "10374d67-34f0-4771-9b0f-c61a8813f68c",
        "colab": {
          "base_uri": "https://localhost:8080/",
          "height": 288
        }
      },
      "source": [
        "df_train_v3['MasVnrArea'].hist(bins = 10)"
      ],
      "execution_count": 0,
      "outputs": [
        {
          "output_type": "execute_result",
          "data": {
            "text/plain": [
              "<matplotlib.axes._subplots.AxesSubplot at 0x7f2606928208>"
            ]
          },
          "metadata": {
            "tags": []
          },
          "execution_count": 38
        },
        {
          "output_type": "display_data",
          "data": {
            "image/png": "[encoded data removed]",
            "text/plain": [
              "<Figure size 432x288 with 1 Axes>"
            ]
          },
          "metadata": {
            "tags": []
          }
        }
      ]
    },
    {
      "cell_type": "markdown",
      "metadata": {
        "id": "BPJRZX2uR8mc",
        "colab_type": "text"
      },
      "source": [
        "by far, most data is coupled into bin 0. NaNs will be imputed."
      ]
    },
    {
      "cell_type": "code",
      "metadata": {
        "id": "RZs0JhmNSE3Q",
        "colab_type": "code",
        "outputId": "db51f170-9502-44fe-9fce-f30f7ded4012",
        "colab": {
          "base_uri": "https://localhost:8080/",
          "height": 34
        }
      },
      "source": [
        "df_train_v3['MasVnrArea'].fillna(0, axis = 0, inplace = True)\n",
        "df_train_v3['MasVnrArea'].isna().sum()"
      ],
      "execution_count": 0,
      "outputs": [
        {
          "output_type": "execute_result",
          "data": {
            "text/plain": [
              "0"
            ]
          },
          "metadata": {
            "tags": []
          },
          "execution_count": 39
        }
      ]
    },
    {
      "cell_type": "markdown",
      "metadata": {
        "id": "VCoJugVxSRtV",
        "colab_type": "text"
      },
      "source": [
        "BsmtQual has 37 NaN records. Field description is as follows\n",
        "\n",
        "BsmtQual: Evaluates the height of the basement\n",
        "\n",
        "       Ex\tExcellent (100+ inches)\t\n",
        "       Gd\tGood (90-99 inches)\n",
        "       TA\tTypical (80-89 inches)\n",
        "       Fa\tFair (70-79 inches)\n",
        "       Po\tPoor (<70 inches)\n",
        "       NA\tNo Basement\n",
        "\n",
        "\n",
        "so it is a categorical field. This NaN should be contrasted with the other basement data, maybe this are juts empty fields for properties that doesn't have basement.\n",
        "\n",
        "Checking other columns:\n",
        "\n"
      ]
    },
    {
      "cell_type": "code",
      "metadata": {
        "id": "2FrLFpv9SW9E",
        "colab_type": "code",
        "outputId": "a55cbda5-2d30-4ace-ac1a-737b424501fc",
        "colab": {
          "base_uri": "https://localhost:8080/",
          "height": 34
        }
      },
      "source": [
        "Bsmt = ['BsmtQual', 'BsmtCond', 'BsmtExposure', 'BsmtFinType1', 'BsmtFinType2', 'BsmtFullBath', 'BsmtHalfBath']\n",
        "print(Bsmt)"
      ],
      "execution_count": 0,
      "outputs": [
        {
          "output_type": "stream",
          "text": [
            "['BsmtQual', 'BsmtCond', 'BsmtExposure', 'BsmtFinType1', 'BsmtFinType2', 'BsmtFullBath', 'BsmtHalfBath']\n"
          ],
          "name": "stdout"
        }
      ]
    },
    {
      "cell_type": "code",
      "metadata": {
        "id": "kRUNmwOhtiUy",
        "colab_type": "code",
        "outputId": "ffc5868b-3273-4b12-f477-f4eea1980bee",
        "colab": {
          "base_uri": "https://localhost:8080/",
          "height": 433
        }
      },
      "source": [
        "token = df_train_v3[Bsmt]\n",
        "display(len(token[token['BsmtQual'].isnull()]))\n",
        "token[token['BsmtQual'].isnull()]"
      ],
      "execution_count": 0,
      "outputs": [
        {
          "output_type": "display_data",
          "data": {
            "text/plain": [
              "81"
            ]
          },
          "metadata": {
            "tags": []
          }
        },
        {
          "output_type": "execute_result",
          "data": {
            "text/html": [
              "<div>\n",
              "<style scoped>\n",
              "    .dataframe tbody tr th:only-of-type {\n",
              "        vertical-align: middle;\n",
              "    }\n",
              "\n",
              "    .dataframe tbody tr th {\n",
              "        vertical-align: top;\n",
              "    }\n",
              "\n",
              "    .dataframe thead th {\n",
              "        text-align: right;\n",
              "    }\n",
              "</style>\n",
              "<table border=\"1\" class=\"dataframe\">\n",
              "  <thead>\n",
              "    <tr style=\"text-align: right;\">\n",
              "      <th></th>\n",
              "      <th>BsmtQual</th>\n",
              "      <th>BsmtCond</th>\n",
              "      <th>BsmtExposure</th>\n",
              "      <th>BsmtFinType1</th>\n",
              "      <th>BsmtFinType2</th>\n",
              "      <th>BsmtFullBath</th>\n",
              "      <th>BsmtHalfBath</th>\n",
              "    </tr>\n",
              "  </thead>\n",
              "  <tbody>\n",
              "    <tr>\n",
              "      <th>17</th>\n",
              "      <td>NaN</td>\n",
              "      <td>NaN</td>\n",
              "      <td>NaN</td>\n",
              "      <td>NaN</td>\n",
              "      <td>NaN</td>\n",
              "      <td>0.0</td>\n",
              "      <td>0.0</td>\n",
              "    </tr>\n",
              "    <tr>\n",
              "      <th>39</th>\n",
              "      <td>NaN</td>\n",
              "      <td>NaN</td>\n",
              "      <td>NaN</td>\n",
              "      <td>NaN</td>\n",
              "      <td>NaN</td>\n",
              "      <td>0.0</td>\n",
              "      <td>0.0</td>\n",
              "    </tr>\n",
              "    <tr>\n",
              "      <th>90</th>\n",
              "      <td>NaN</td>\n",
              "      <td>NaN</td>\n",
              "      <td>NaN</td>\n",
              "      <td>NaN</td>\n",
              "      <td>NaN</td>\n",
              "      <td>0.0</td>\n",
              "      <td>0.0</td>\n",
              "    </tr>\n",
              "    <tr>\n",
              "      <th>102</th>\n",
              "      <td>NaN</td>\n",
              "      <td>NaN</td>\n",
              "      <td>NaN</td>\n",
              "      <td>NaN</td>\n",
              "      <td>NaN</td>\n",
              "      <td>0.0</td>\n",
              "      <td>0.0</td>\n",
              "    </tr>\n",
              "    <tr>\n",
              "      <th>156</th>\n",
              "      <td>NaN</td>\n",
              "      <td>NaN</td>\n",
              "      <td>NaN</td>\n",
              "      <td>NaN</td>\n",
              "      <td>NaN</td>\n",
              "      <td>0.0</td>\n",
              "      <td>0.0</td>\n",
              "    </tr>\n",
              "    <tr>\n",
              "      <th>...</th>\n",
              "      <td>...</td>\n",
              "      <td>...</td>\n",
              "      <td>...</td>\n",
              "      <td>...</td>\n",
              "      <td>...</td>\n",
              "      <td>...</td>\n",
              "      <td>...</td>\n",
              "    </tr>\n",
              "    <tr>\n",
              "      <th>1343</th>\n",
              "      <td>NaN</td>\n",
              "      <td>NaN</td>\n",
              "      <td>NaN</td>\n",
              "      <td>NaN</td>\n",
              "      <td>NaN</td>\n",
              "      <td>0.0</td>\n",
              "      <td>0.0</td>\n",
              "    </tr>\n",
              "    <tr>\n",
              "      <th>1344</th>\n",
              "      <td>NaN</td>\n",
              "      <td>NaN</td>\n",
              "      <td>NaN</td>\n",
              "      <td>NaN</td>\n",
              "      <td>NaN</td>\n",
              "      <td>0.0</td>\n",
              "      <td>0.0</td>\n",
              "    </tr>\n",
              "    <tr>\n",
              "      <th>1364</th>\n",
              "      <td>NaN</td>\n",
              "      <td>NaN</td>\n",
              "      <td>NaN</td>\n",
              "      <td>NaN</td>\n",
              "      <td>NaN</td>\n",
              "      <td>0.0</td>\n",
              "      <td>0.0</td>\n",
              "    </tr>\n",
              "    <tr>\n",
              "      <th>1431</th>\n",
              "      <td>NaN</td>\n",
              "      <td>NaN</td>\n",
              "      <td>NaN</td>\n",
              "      <td>NaN</td>\n",
              "      <td>NaN</td>\n",
              "      <td>0.0</td>\n",
              "      <td>0.0</td>\n",
              "    </tr>\n",
              "    <tr>\n",
              "      <th>1444</th>\n",
              "      <td>NaN</td>\n",
              "      <td>NaN</td>\n",
              "      <td>NaN</td>\n",
              "      <td>NaN</td>\n",
              "      <td>NaN</td>\n",
              "      <td>0.0</td>\n",
              "      <td>0.0</td>\n",
              "    </tr>\n",
              "  </tbody>\n",
              "</table>\n",
              "<p>81 rows × 7 columns</p>\n",
              "</div>"
            ],
            "text/plain": [
              "     BsmtQual BsmtCond BsmtExposure  ... BsmtFinType2 BsmtFullBath  BsmtHalfBath\n",
              "17        NaN      NaN          NaN  ...          NaN          0.0           0.0\n",
              "39        NaN      NaN          NaN  ...          NaN          0.0           0.0\n",
              "90        NaN      NaN          NaN  ...          NaN          0.0           0.0\n",
              "102       NaN      NaN          NaN  ...          NaN          0.0           0.0\n",
              "156       NaN      NaN          NaN  ...          NaN          0.0           0.0\n",
              "...       ...      ...          ...  ...          ...          ...           ...\n",
              "1343      NaN      NaN          NaN  ...          NaN          0.0           0.0\n",
              "1344      NaN      NaN          NaN  ...          NaN          0.0           0.0\n",
              "1364      NaN      NaN          NaN  ...          NaN          0.0           0.0\n",
              "1431      NaN      NaN          NaN  ...          NaN          0.0           0.0\n",
              "1444      NaN      NaN          NaN  ...          NaN          0.0           0.0\n",
              "\n",
              "[81 rows x 7 columns]"
            ]
          },
          "metadata": {
            "tags": []
          },
          "execution_count": 41
        }
      ]
    },
    {
      "cell_type": "markdown",
      "metadata": {
        "id": "8caSeBI9zGuT",
        "colab_type": "text"
      },
      "source": [
        "only NaN and 0's.\n",
        "\n",
        "TotalBsmtSF: Total square feet of basement area\n",
        "\n",
        "means that basement has 0 square feet. meaning that the NaN values actually should be of the 'No Basement kind'\n",
        "\n",
        "Now, definiions are\n",
        "\n",
        "BsmtQual: Evaluates the height of the basement\n",
        "\n",
        "       NA\tNo Basement\n",
        "\t\t\n",
        "BsmtCond: Evaluates the general condition of the basement\n",
        "\n",
        "       NA\tNo Basement\n",
        "\t\n",
        "BsmtExposure: Refers to walkout or garden level walls\n",
        "\n",
        "       NA\tNo Basement\n",
        "\t\n",
        "BsmtFinType1: Rating of basement finished area\n",
        "\n",
        "       NA\tNo Basement\n",
        "\t\t\n",
        "BsmtFinSF1: Type 1 finished square feet\n",
        "\n",
        "BsmtFinType2: Rating of basement finished area (if multiple types)\n",
        "\n",
        "       NA\tNo Basement\n",
        "\n",
        "\n",
        "all the NaN containing columns, of the Bsmt class, have the same key for 'No Basement'. This simplify the imputation for this columns."
      ]
    },
    {
      "cell_type": "code",
      "metadata": {
        "id": "62aq7da0TsOE",
        "colab_type": "code",
        "colab": {}
      },
      "source": [
        "for i  in Bsmt:\n",
        "  df_train_v3[i].fillna('NA', axis = 0, inplace = True)"
      ],
      "execution_count": 0,
      "outputs": []
    },
    {
      "cell_type": "code",
      "metadata": {
        "id": "pUSK26ajVgDb",
        "colab_type": "code",
        "colab": {}
      },
      "source": [
        "token = ['BsmtFinSF1', 'BsmtFinSF2', 'BsmtUnfSF', 'TotalBsmtSF']\n",
        "for i  in token:\n",
        "  df_train_v3[i].fillna(0, axis = 0, inplace = True)"
      ],
      "execution_count": 0,
      "outputs": []
    },
    {
      "cell_type": "code",
      "metadata": {
        "id": "CdPgnvNB1o_p",
        "colab_type": "code",
        "outputId": "ec236cda-c739-46c6-c3ae-6e48ffc32744",
        "colab": {
          "base_uri": "https://localhost:8080/",
          "height": 208
        }
      },
      "source": [
        "for i  in Bsmt+token:\n",
        "  print(i, ' : ', df_train_v3[i].isnull().sum())"
      ],
      "execution_count": 0,
      "outputs": [
        {
          "output_type": "stream",
          "text": [
            "BsmtQual  :  0\n",
            "BsmtCond  :  0\n",
            "BsmtExposure  :  0\n",
            "BsmtFinType1  :  0\n",
            "BsmtFinType2  :  0\n",
            "BsmtFullBath  :  0\n",
            "BsmtHalfBath  :  0\n",
            "BsmtFinSF1  :  0\n",
            "BsmtFinSF2  :  0\n",
            "BsmtUnfSF  :  0\n",
            "TotalBsmtSF  :  0\n"
          ],
          "name": "stdout"
        }
      ]
    },
    {
      "cell_type": "markdown",
      "metadata": {
        "id": "9XluTVFm3GhT",
        "colab_type": "text"
      },
      "source": [
        "So, the 'Bsmt' class of labels has no NaN."
      ]
    },
    {
      "cell_type": "markdown",
      "metadata": {
        "id": "UThfdKg-2Mhn",
        "colab_type": "text"
      },
      "source": [
        "'Electrical' column records contain 1 NaN. The data Description is as follows:\n",
        "Electrical: Electrical system\n",
        "\n",
        "       SBrkr\tStandard Circuit Breakers & Romex\n",
        "       FuseA\tFuse Box over 60 AMP and all Romex wiring (Average)\t\n",
        "       FuseF\t60 AMP Fuse Box and mostly Romex wiring (Fair)\n",
        "       FuseP\t60 AMP Fuse Box and mostly knob & tube wiring (poor)\n",
        "       Mix\tMixed\n",
        "\n",
        "\n"
      ]
    },
    {
      "cell_type": "code",
      "metadata": {
        "id": "mc6wtMGW7OWX",
        "colab_type": "code",
        "outputId": "7575e238-0610-461b-818a-f1a1348e1235",
        "colab": {
          "base_uri": "https://localhost:8080/",
          "height": 100
        }
      },
      "source": [
        "df_train_v3[df_train_v3['Electrical'].isnull()]"
      ],
      "execution_count": 0,
      "outputs": [
        {
          "output_type": "execute_result",
          "data": {
            "text/html": [
              "<div>\n",
              "<style scoped>\n",
              "    .dataframe tbody tr th:only-of-type {\n",
              "        vertical-align: middle;\n",
              "    }\n",
              "\n",
              "    .dataframe tbody tr th {\n",
              "        vertical-align: top;\n",
              "    }\n",
              "\n",
              "    .dataframe thead th {\n",
              "        text-align: right;\n",
              "    }\n",
              "</style>\n",
              "<table border=\"1\" class=\"dataframe\">\n",
              "  <thead>\n",
              "    <tr style=\"text-align: right;\">\n",
              "      <th></th>\n",
              "      <th>Id</th>\n",
              "      <th>MSSubClass</th>\n",
              "      <th>MSZoning</th>\n",
              "      <th>LotFrontage</th>\n",
              "      <th>LotArea</th>\n",
              "      <th>Street</th>\n",
              "      <th>Alley</th>\n",
              "      <th>LotShape</th>\n",
              "      <th>LandContour</th>\n",
              "      <th>Utilities</th>\n",
              "      <th>LotConfig</th>\n",
              "      <th>LandSlope</th>\n",
              "      <th>Neighborhood</th>\n",
              "      <th>Condition1</th>\n",
              "      <th>Condition2</th>\n",
              "      <th>BldgType</th>\n",
              "      <th>HouseStyle</th>\n",
              "      <th>OverallQual</th>\n",
              "      <th>OverallCond</th>\n",
              "      <th>YearBuilt</th>\n",
              "      <th>YearRemodAdd</th>\n",
              "      <th>RoofStyle</th>\n",
              "      <th>RoofMatl</th>\n",
              "      <th>Exterior1st</th>\n",
              "      <th>Exterior2nd</th>\n",
              "      <th>MasVnrType</th>\n",
              "      <th>MasVnrArea</th>\n",
              "      <th>ExterQual</th>\n",
              "      <th>ExterCond</th>\n",
              "      <th>Foundation</th>\n",
              "      <th>BsmtQual</th>\n",
              "      <th>BsmtCond</th>\n",
              "      <th>BsmtExposure</th>\n",
              "      <th>BsmtFinType1</th>\n",
              "      <th>BsmtFinSF1</th>\n",
              "      <th>BsmtFinType2</th>\n",
              "      <th>BsmtFinSF2</th>\n",
              "      <th>BsmtUnfSF</th>\n",
              "      <th>TotalBsmtSF</th>\n",
              "      <th>Heating</th>\n",
              "      <th>HeatingQC</th>\n",
              "      <th>CentralAir</th>\n",
              "      <th>Electrical</th>\n",
              "      <th>1stFlrSF</th>\n",
              "      <th>2ndFlrSF</th>\n",
              "      <th>LowQualFinSF</th>\n",
              "      <th>GrLivArea</th>\n",
              "      <th>BsmtFullBath</th>\n",
              "      <th>BsmtHalfBath</th>\n",
              "      <th>FullBath</th>\n",
              "      <th>HalfBath</th>\n",
              "      <th>BedroomAbvGr</th>\n",
              "      <th>KitchenAbvGr</th>\n",
              "      <th>KitchenQual</th>\n",
              "      <th>TotRmsAbvGrd</th>\n",
              "      <th>Functional</th>\n",
              "      <th>Fireplaces</th>\n",
              "      <th>FireplaceQu</th>\n",
              "      <th>GarageType</th>\n",
              "      <th>GarageYrBlt</th>\n",
              "      <th>GarageFinish</th>\n",
              "      <th>GarageCars</th>\n",
              "      <th>GarageArea</th>\n",
              "      <th>GarageQual</th>\n",
              "      <th>GarageCond</th>\n",
              "      <th>PavedDrive</th>\n",
              "      <th>WoodDeckSF</th>\n",
              "      <th>OpenPorchSF</th>\n",
              "      <th>EnclosedPorch</th>\n",
              "      <th>3SsnPorch</th>\n",
              "      <th>ScreenPorch</th>\n",
              "      <th>PoolArea</th>\n",
              "      <th>PoolQC</th>\n",
              "      <th>Fence</th>\n",
              "      <th>MiscFeature</th>\n",
              "      <th>MiscVal</th>\n",
              "      <th>MoSold</th>\n",
              "      <th>YrSold</th>\n",
              "      <th>SaleType</th>\n",
              "      <th>SaleCondition</th>\n",
              "    </tr>\n",
              "  </thead>\n",
              "  <tbody>\n",
              "    <tr>\n",
              "      <th>1379</th>\n",
              "      <td>1380</td>\n",
              "      <td>80</td>\n",
              "      <td>RL</td>\n",
              "      <td>73.0</td>\n",
              "      <td>9735</td>\n",
              "      <td>Pave</td>\n",
              "      <td>NA</td>\n",
              "      <td>Reg</td>\n",
              "      <td>Lvl</td>\n",
              "      <td>AllPub</td>\n",
              "      <td>Inside</td>\n",
              "      <td>Gtl</td>\n",
              "      <td>Timber</td>\n",
              "      <td>Norm</td>\n",
              "      <td>Norm</td>\n",
              "      <td>1Fam</td>\n",
              "      <td>SLvl</td>\n",
              "      <td>5</td>\n",
              "      <td>5</td>\n",
              "      <td>2006</td>\n",
              "      <td>2007</td>\n",
              "      <td>Gable</td>\n",
              "      <td>CompShg</td>\n",
              "      <td>VinylSd</td>\n",
              "      <td>VinylSd</td>\n",
              "      <td>None</td>\n",
              "      <td>0.0</td>\n",
              "      <td>TA</td>\n",
              "      <td>TA</td>\n",
              "      <td>PConc</td>\n",
              "      <td>Gd</td>\n",
              "      <td>TA</td>\n",
              "      <td>No</td>\n",
              "      <td>Unf</td>\n",
              "      <td>0.0</td>\n",
              "      <td>Unf</td>\n",
              "      <td>0.0</td>\n",
              "      <td>384.0</td>\n",
              "      <td>384.0</td>\n",
              "      <td>GasA</td>\n",
              "      <td>Gd</td>\n",
              "      <td>Y</td>\n",
              "      <td>NaN</td>\n",
              "      <td>754</td>\n",
              "      <td>640</td>\n",
              "      <td>0</td>\n",
              "      <td>1394</td>\n",
              "      <td>0</td>\n",
              "      <td>0</td>\n",
              "      <td>2</td>\n",
              "      <td>1</td>\n",
              "      <td>3</td>\n",
              "      <td>1</td>\n",
              "      <td>Gd</td>\n",
              "      <td>7</td>\n",
              "      <td>Typ</td>\n",
              "      <td>0</td>\n",
              "      <td>NaN</td>\n",
              "      <td>BuiltIn</td>\n",
              "      <td>2007.0</td>\n",
              "      <td>Fin</td>\n",
              "      <td>2.0</td>\n",
              "      <td>400.0</td>\n",
              "      <td>TA</td>\n",
              "      <td>TA</td>\n",
              "      <td>Y</td>\n",
              "      <td>100</td>\n",
              "      <td>0</td>\n",
              "      <td>0</td>\n",
              "      <td>0</td>\n",
              "      <td>0</td>\n",
              "      <td>0</td>\n",
              "      <td>NaN</td>\n",
              "      <td>NaN</td>\n",
              "      <td>NaN</td>\n",
              "      <td>0</td>\n",
              "      <td>5</td>\n",
              "      <td>2008</td>\n",
              "      <td>WD</td>\n",
              "      <td>Normal</td>\n",
              "    </tr>\n",
              "  </tbody>\n",
              "</table>\n",
              "</div>"
            ],
            "text/plain": [
              "        Id  MSSubClass MSZoning  ...  YrSold  SaleType SaleCondition\n",
              "1379  1380          80       RL  ...    2008        WD        Normal\n",
              "\n",
              "[1 rows x 80 columns]"
            ]
          },
          "metadata": {
            "tags": []
          },
          "execution_count": 45
        }
      ]
    },
    {
      "cell_type": "code",
      "metadata": {
        "id": "nAILUWe18iq3",
        "colab_type": "code",
        "outputId": "dc373a8f-825a-4f34-e0f6-f9b19e6282ab",
        "colab": {
          "base_uri": "https://localhost:8080/",
          "height": 288
        }
      },
      "source": [
        "df_train_v3['Electrical'].hist()"
      ],
      "execution_count": 0,
      "outputs": [
        {
          "output_type": "execute_result",
          "data": {
            "text/plain": [
              "<matplotlib.axes._subplots.AxesSubplot at 0x7f26068aeba8>"
            ]
          },
          "metadata": {
            "tags": []
          },
          "execution_count": 46
        },
        {
          "output_type": "display_data",
          "data": {
            "image/png": "[encoded data removed]",
            "text/plain": [
              "<Figure size 432x288 with 1 Axes>"
            ]
          },
          "metadata": {
            "tags": []
          }
        }
      ]
    },
    {
      "cell_type": "markdown",
      "metadata": {
        "id": "4S5K5lXE8xj7",
        "colab_type": "text"
      },
      "source": [
        "most of the cases are 'SBrkr', so this unique case will be set to the mayority."
      ]
    },
    {
      "cell_type": "code",
      "metadata": {
        "id": "lfqKUL0N858T",
        "colab_type": "code",
        "colab": {}
      },
      "source": [
        "df_train_v3['Electrical'].fillna('SBrkr', axis = 0, inplace = True)"
      ],
      "execution_count": 0,
      "outputs": []
    },
    {
      "cell_type": "markdown",
      "metadata": {
        "id": "0dFkkl7F2q2V",
        "colab_type": "text"
      },
      "source": [
        "FireplaceQu has 690 amount of NaN values. Data description is as follows:\n",
        "\n",
        "FireplaceQu: Fireplace quality\n",
        "\n",
        "       Ex\tExcellent - Exceptional Masonry Fireplace\n",
        "       Gd\tGood - Masonry Fireplace in main level\n",
        "       TA\tAverage - Prefabricated Fireplace in main living area or Masonry Fireplace in basement\n",
        "       Fa\tFair - Prefabricated Fireplace in basement\n",
        "       Po\tPoor - Ben Franklin Stove\n",
        "       NA\tNo Fireplace\n",
        "\n",
        "And has at least two more of the 'fireplace' kind:\n",
        "\n",
        "Fireplaces: Number of fireplaces\n",
        "\n",
        "\n",
        "\n",
        "so we can check if for this NaN values is or not a fireplace"
      ]
    },
    {
      "cell_type": "code",
      "metadata": {
        "id": "83UwbeCh9GKA",
        "colab_type": "code",
        "outputId": "6ad94de3-56df-4304-b729-405189c0e16c",
        "colab": {
          "base_uri": "https://localhost:8080/",
          "height": 34
        }
      },
      "source": [
        "df_train_v3['Fireplaces'].unique()"
      ],
      "execution_count": 0,
      "outputs": [
        {
          "output_type": "execute_result",
          "data": {
            "text/plain": [
              "array([0, 1, 2, 3, 4])"
            ]
          },
          "metadata": {
            "tags": []
          },
          "execution_count": 48
        }
      ]
    },
    {
      "cell_type": "code",
      "metadata": {
        "id": "KUB0JumK9F_m",
        "colab_type": "code",
        "outputId": "e8d5e7cd-7bc8-49fc-f457-1bb757299a78",
        "colab": {
          "base_uri": "https://localhost:8080/",
          "height": 34
        }
      },
      "source": [
        "df_train_v3['Fireplaces'].isnull().sum()"
      ],
      "execution_count": 0,
      "outputs": [
        {
          "output_type": "execute_result",
          "data": {
            "text/plain": [
              "0"
            ]
          },
          "metadata": {
            "tags": []
          },
          "execution_count": 49
        }
      ]
    },
    {
      "cell_type": "code",
      "metadata": {
        "id": "yELIwymQAn1s",
        "colab_type": "code",
        "outputId": "9c9ca229-60ca-477d-9c5e-46ae128e53e3",
        "colab": {
          "base_uri": "https://localhost:8080/",
          "height": 34
        }
      },
      "source": [
        "token = df_train_v3[['Fireplaces', 'FireplaceQu']]\n",
        "token = token[token['FireplaceQu'].isnull()]\n",
        "len(token)"
      ],
      "execution_count": 0,
      "outputs": [
        {
          "output_type": "execute_result",
          "data": {
            "text/plain": [
              "1420"
            ]
          },
          "metadata": {
            "tags": []
          },
          "execution_count": 50
        }
      ]
    },
    {
      "cell_type": "code",
      "metadata": {
        "id": "Uf-a3QoqBMY-",
        "colab_type": "code",
        "outputId": "c39a32d9-f48d-419b-dc2b-546405950841",
        "colab": {
          "base_uri": "https://localhost:8080/",
          "height": 34
        }
      },
      "source": [
        "token['Fireplaces'].dtype"
      ],
      "execution_count": 0,
      "outputs": [
        {
          "output_type": "execute_result",
          "data": {
            "text/plain": [
              "dtype('int64')"
            ]
          },
          "metadata": {
            "tags": []
          },
          "execution_count": 51
        }
      ]
    },
    {
      "cell_type": "markdown",
      "metadata": {
        "id": "h4kRV93xBjpu",
        "colab_type": "text"
      },
      "source": [
        ", so we know there are 4 unique possible values for 'Fireplaces', and that are integers. So if we sum the column filtered wih 'FireplaceQu' NaN, we can know if this NaN are due to nonexistant fireplaces to report a quality for."
      ]
    },
    {
      "cell_type": "code",
      "metadata": {
        "id": "H_ziSx2jBgCk",
        "colab_type": "code",
        "outputId": "8565d0bb-a5a0-4365-b3f2-c1963bb800b1",
        "colab": {
          "base_uri": "https://localhost:8080/",
          "height": 34
        }
      },
      "source": [
        "token['Fireplaces'].sum()"
      ],
      "execution_count": 0,
      "outputs": [
        {
          "output_type": "execute_result",
          "data": {
            "text/plain": [
              "0"
            ]
          },
          "metadata": {
            "tags": []
          },
          "execution_count": 52
        }
      ]
    },
    {
      "cell_type": "markdown",
      "metadata": {
        "id": "2SLm7eoxB_9K",
        "colab_type": "text"
      },
      "source": [
        ", so this can be replaced with a 'NA' string, according to documentation."
      ]
    },
    {
      "cell_type": "code",
      "metadata": {
        "id": "7Fn2M1E6B_Q0",
        "colab_type": "code",
        "outputId": "d06aed08-9953-476e-d802-86f58e9e0b6d",
        "colab": {
          "base_uri": "https://localhost:8080/",
          "height": 34
        }
      },
      "source": [
        "df_train_v3['FireplaceQu'].fillna('NA', axis = 0, inplace = True)\n",
        "df_train_v3['FireplaceQu'].isnull().sum()"
      ],
      "execution_count": 0,
      "outputs": [
        {
          "output_type": "execute_result",
          "data": {
            "text/plain": [
              "0"
            ]
          },
          "metadata": {
            "tags": []
          },
          "execution_count": 53
        }
      ]
    },
    {
      "cell_type": "markdown",
      "metadata": {
        "id": "34IKFlBG2vTq",
        "colab_type": "text"
      },
      "source": [
        "There are labels of the 'garage' type that have the same number of NaN records, so this will be examined altogether.\n",
        "\n",
        "GarageType   81\n",
        "\n",
        "GarageYrBlt   81\n",
        "\n",
        "GarageFinish   81\n",
        "\n",
        "GarageQual   81\n",
        "\n",
        "GarageCond   81\n",
        "\n",
        ", generaly in this DB there is a column that can indicate the existance of a item, such as a Garage. So this will be examined first."
      ]
    },
    {
      "cell_type": "code",
      "metadata": {
        "id": "6LLZTJreDrCk",
        "colab_type": "code",
        "outputId": "224be624-58f5-4ba2-fba7-dbe79fdb6234",
        "colab": {
          "base_uri": "https://localhost:8080/",
          "height": 52
        }
      },
      "source": [
        "token = df_train_v3.columns\n",
        "Garage = []\n",
        "for i in range(len(token)):\n",
        "  if ('Garage' in token[i]):\n",
        "    Garage.append(token[i]) \n",
        "print(Garage)\n",
        "print('Garage type len: ',len(Garage))"
      ],
      "execution_count": 0,
      "outputs": [
        {
          "output_type": "stream",
          "text": [
            "['GarageType', 'GarageYrBlt', 'GarageFinish', 'GarageCars', 'GarageArea', 'GarageQual', 'GarageCond']\n",
            "Garage type len:  7\n"
          ],
          "name": "stdout"
        }
      ]
    },
    {
      "cell_type": "markdown",
      "metadata": {
        "id": "mrP_ZYZxENqc",
        "colab_type": "text"
      },
      "source": [
        "'GarageArea' has no NaN, this can be of use."
      ]
    },
    {
      "cell_type": "code",
      "metadata": {
        "id": "eSA7KY22DVAg",
        "colab_type": "code",
        "outputId": "4a2f268c-b6ec-4a60-b84c-3e4cf6a1db2c",
        "colab": {
          "base_uri": "https://localhost:8080/",
          "height": 416
        }
      },
      "source": [
        "token = df_train_v3[Garage]\n",
        "token = token[token['GarageType'].isnull()]\n",
        "token"
      ],
      "execution_count": 0,
      "outputs": [
        {
          "output_type": "execute_result",
          "data": {
            "text/html": [
              "<div>\n",
              "<style scoped>\n",
              "    .dataframe tbody tr th:only-of-type {\n",
              "        vertical-align: middle;\n",
              "    }\n",
              "\n",
              "    .dataframe tbody tr th {\n",
              "        vertical-align: top;\n",
              "    }\n",
              "\n",
              "    .dataframe thead th {\n",
              "        text-align: right;\n",
              "    }\n",
              "</style>\n",
              "<table border=\"1\" class=\"dataframe\">\n",
              "  <thead>\n",
              "    <tr style=\"text-align: right;\">\n",
              "      <th></th>\n",
              "      <th>GarageType</th>\n",
              "      <th>GarageYrBlt</th>\n",
              "      <th>GarageFinish</th>\n",
              "      <th>GarageCars</th>\n",
              "      <th>GarageArea</th>\n",
              "      <th>GarageQual</th>\n",
              "      <th>GarageCond</th>\n",
              "    </tr>\n",
              "  </thead>\n",
              "  <tbody>\n",
              "    <tr>\n",
              "      <th>39</th>\n",
              "      <td>NaN</td>\n",
              "      <td>NaN</td>\n",
              "      <td>NaN</td>\n",
              "      <td>0.0</td>\n",
              "      <td>0.0</td>\n",
              "      <td>NaN</td>\n",
              "      <td>NaN</td>\n",
              "    </tr>\n",
              "    <tr>\n",
              "      <th>48</th>\n",
              "      <td>NaN</td>\n",
              "      <td>NaN</td>\n",
              "      <td>NaN</td>\n",
              "      <td>0.0</td>\n",
              "      <td>0.0</td>\n",
              "      <td>NaN</td>\n",
              "      <td>NaN</td>\n",
              "    </tr>\n",
              "    <tr>\n",
              "      <th>78</th>\n",
              "      <td>NaN</td>\n",
              "      <td>NaN</td>\n",
              "      <td>NaN</td>\n",
              "      <td>0.0</td>\n",
              "      <td>0.0</td>\n",
              "      <td>NaN</td>\n",
              "      <td>NaN</td>\n",
              "    </tr>\n",
              "    <tr>\n",
              "      <th>88</th>\n",
              "      <td>NaN</td>\n",
              "      <td>NaN</td>\n",
              "      <td>NaN</td>\n",
              "      <td>0.0</td>\n",
              "      <td>0.0</td>\n",
              "      <td>NaN</td>\n",
              "      <td>NaN</td>\n",
              "    </tr>\n",
              "    <tr>\n",
              "      <th>89</th>\n",
              "      <td>NaN</td>\n",
              "      <td>NaN</td>\n",
              "      <td>NaN</td>\n",
              "      <td>0.0</td>\n",
              "      <td>0.0</td>\n",
              "      <td>NaN</td>\n",
              "      <td>NaN</td>\n",
              "    </tr>\n",
              "    <tr>\n",
              "      <th>...</th>\n",
              "      <td>...</td>\n",
              "      <td>...</td>\n",
              "      <td>...</td>\n",
              "      <td>...</td>\n",
              "      <td>...</td>\n",
              "      <td>...</td>\n",
              "      <td>...</td>\n",
              "    </tr>\n",
              "    <tr>\n",
              "      <th>1433</th>\n",
              "      <td>NaN</td>\n",
              "      <td>NaN</td>\n",
              "      <td>NaN</td>\n",
              "      <td>0.0</td>\n",
              "      <td>0.0</td>\n",
              "      <td>NaN</td>\n",
              "      <td>NaN</td>\n",
              "    </tr>\n",
              "    <tr>\n",
              "      <th>1449</th>\n",
              "      <td>NaN</td>\n",
              "      <td>NaN</td>\n",
              "      <td>NaN</td>\n",
              "      <td>0.0</td>\n",
              "      <td>0.0</td>\n",
              "      <td>NaN</td>\n",
              "      <td>NaN</td>\n",
              "    </tr>\n",
              "    <tr>\n",
              "      <th>1453</th>\n",
              "      <td>NaN</td>\n",
              "      <td>NaN</td>\n",
              "      <td>NaN</td>\n",
              "      <td>0.0</td>\n",
              "      <td>0.0</td>\n",
              "      <td>NaN</td>\n",
              "      <td>NaN</td>\n",
              "    </tr>\n",
              "    <tr>\n",
              "      <th>1454</th>\n",
              "      <td>NaN</td>\n",
              "      <td>NaN</td>\n",
              "      <td>NaN</td>\n",
              "      <td>0.0</td>\n",
              "      <td>0.0</td>\n",
              "      <td>NaN</td>\n",
              "      <td>NaN</td>\n",
              "    </tr>\n",
              "    <tr>\n",
              "      <th>1457</th>\n",
              "      <td>NaN</td>\n",
              "      <td>NaN</td>\n",
              "      <td>NaN</td>\n",
              "      <td>0.0</td>\n",
              "      <td>0.0</td>\n",
              "      <td>NaN</td>\n",
              "      <td>NaN</td>\n",
              "    </tr>\n",
              "  </tbody>\n",
              "</table>\n",
              "<p>157 rows × 7 columns</p>\n",
              "</div>"
            ],
            "text/plain": [
              "     GarageType  GarageYrBlt GarageFinish  ...  GarageArea  GarageQual GarageCond\n",
              "39          NaN          NaN          NaN  ...         0.0         NaN        NaN\n",
              "48          NaN          NaN          NaN  ...         0.0         NaN        NaN\n",
              "78          NaN          NaN          NaN  ...         0.0         NaN        NaN\n",
              "88          NaN          NaN          NaN  ...         0.0         NaN        NaN\n",
              "89          NaN          NaN          NaN  ...         0.0         NaN        NaN\n",
              "...         ...          ...          ...  ...         ...         ...        ...\n",
              "1433        NaN          NaN          NaN  ...         0.0         NaN        NaN\n",
              "1449        NaN          NaN          NaN  ...         0.0         NaN        NaN\n",
              "1453        NaN          NaN          NaN  ...         0.0         NaN        NaN\n",
              "1454        NaN          NaN          NaN  ...         0.0         NaN        NaN\n",
              "1457        NaN          NaN          NaN  ...         0.0         NaN        NaN\n",
              "\n",
              "[157 rows x 7 columns]"
            ]
          },
          "metadata": {
            "tags": []
          },
          "execution_count": 55
        }
      ]
    },
    {
      "cell_type": "markdown",
      "metadata": {
        "id": "a_7I-KWkeQ8c",
        "colab_type": "text"
      },
      "source": [
        "the sum of Garage Area will show any singular case, if sum is 0 then all characterizations of Garage naturale are not applyable and thi NaN will be imputed as of the 'NA' kind."
      ]
    },
    {
      "cell_type": "code",
      "metadata": {
        "id": "UdI98E_neQpg",
        "colab_type": "code",
        "outputId": "8bad6cf4-5822-4eb4-bc21-2b0258116785",
        "colab": {
          "base_uri": "https://localhost:8080/",
          "height": 34
        }
      },
      "source": [
        "token['GarageArea'].sum()"
      ],
      "execution_count": 0,
      "outputs": [
        {
          "output_type": "execute_result",
          "data": {
            "text/plain": [
              "0.0"
            ]
          },
          "metadata": {
            "tags": []
          },
          "execution_count": 56
        }
      ]
    },
    {
      "cell_type": "code",
      "metadata": {
        "id": "GWvRN54qgZi8",
        "colab_type": "code",
        "outputId": "5c5ce322-0187-4749-c2c1-610e5e0e4e17",
        "colab": {
          "base_uri": "https://localhost:8080/",
          "height": 34
        }
      },
      "source": [
        "token['GarageCars'].sum()"
      ],
      "execution_count": 0,
      "outputs": [
        {
          "output_type": "execute_result",
          "data": {
            "text/plain": [
              "0.0"
            ]
          },
          "metadata": {
            "tags": []
          },
          "execution_count": 57
        }
      ]
    },
    {
      "cell_type": "markdown",
      "metadata": {
        "id": "jTxEf-cde16o",
        "colab_type": "text"
      },
      "source": [
        "there are no cases where there is a valid value for GarageArea but no Garage characterization. So replacemente must be done according to data description, as follows:\n",
        "\n",
        "GarageType: Garage location\n",
        "\n",
        "       NA\tNo Garage\n",
        "\t\t\n",
        "GarageYrBlt: Year garage was built\n",
        "\t\t\n",
        "GarageFinish: Interior finish of the garage\n",
        "\n",
        "       NA\tNo Garage\n",
        "\t\t\n",
        "GarageCars: Size of garage in car capacity\n",
        "\n",
        "GarageArea: Size of garage in square feet\n",
        "\n",
        "GarageQual: Garage quality\n",
        "\n",
        "       NA\tNo Garage\n",
        "\t\t\n",
        "GarageCond: Garage condition\n",
        "\n",
        "       NA\tNo Garage\n",
        "\n",
        "and the labels that present NaN are \n",
        "\n",
        "      [GarageType,\tGarageYrBlt,\tGarageFinish,\tGarageQual, GarageCond]\n",
        "\n",
        "\n",
        "and it is the case that\n",
        "\n",
        "        GarageYrBlt\n",
        "\n",
        "is not cathegorical. so tis will be check appart."
      ]
    },
    {
      "cell_type": "code",
      "metadata": {
        "id": "lOgSQaYufA-y",
        "colab_type": "code",
        "colab": {}
      },
      "source": [
        "#categorical\n",
        "Garage = ['GarageType', 'GarageFinish', 'GarageQual', 'GarageCond']\n",
        "\n",
        "for i  in Garage:\n",
        "  df_train_v3[i].fillna('NA', axis = 0, inplace = True)"
      ],
      "execution_count": 0,
      "outputs": []
    },
    {
      "cell_type": "code",
      "metadata": {
        "id": "sViL-5myheMZ",
        "colab_type": "code",
        "outputId": "6330c06e-cf50-45b7-df47-ad3d21faffef",
        "colab": {
          "base_uri": "https://localhost:8080/",
          "height": 104
        }
      },
      "source": [
        "df_train_v3[Garage].isnull().sum()"
      ],
      "execution_count": 0,
      "outputs": [
        {
          "output_type": "execute_result",
          "data": {
            "text/plain": [
              "GarageType      0\n",
              "GarageFinish    0\n",
              "GarageQual      0\n",
              "GarageCond      0\n",
              "dtype: int64"
            ]
          },
          "metadata": {
            "tags": []
          },
          "execution_count": 59
        }
      ]
    },
    {
      "cell_type": "markdown",
      "metadata": {
        "id": "vfmbQslOhYhR",
        "colab_type": "text"
      },
      "source": [
        "and now, the \n",
        "\n",
        "     GarageYrBlt\n",
        "\n",
        "case"
      ]
    },
    {
      "cell_type": "code",
      "metadata": {
        "id": "TQqXXVlwfA8A",
        "colab_type": "code",
        "outputId": "7df305e4-ef24-4549-9b3d-a8013ee1c75d",
        "colab": {
          "base_uri": "https://localhost:8080/",
          "height": 416
        }
      },
      "source": [
        "token = df_train_v3[['GarageYrBlt', 'GarageArea']]\n",
        "token[token['GarageYrBlt'].isnull()]"
      ],
      "execution_count": 0,
      "outputs": [
        {
          "output_type": "execute_result",
          "data": {
            "text/html": [
              "<div>\n",
              "<style scoped>\n",
              "    .dataframe tbody tr th:only-of-type {\n",
              "        vertical-align: middle;\n",
              "    }\n",
              "\n",
              "    .dataframe tbody tr th {\n",
              "        vertical-align: top;\n",
              "    }\n",
              "\n",
              "    .dataframe thead th {\n",
              "        text-align: right;\n",
              "    }\n",
              "</style>\n",
              "<table border=\"1\" class=\"dataframe\">\n",
              "  <thead>\n",
              "    <tr style=\"text-align: right;\">\n",
              "      <th></th>\n",
              "      <th>GarageYrBlt</th>\n",
              "      <th>GarageArea</th>\n",
              "    </tr>\n",
              "  </thead>\n",
              "  <tbody>\n",
              "    <tr>\n",
              "      <th>39</th>\n",
              "      <td>NaN</td>\n",
              "      <td>0.0</td>\n",
              "    </tr>\n",
              "    <tr>\n",
              "      <th>48</th>\n",
              "      <td>NaN</td>\n",
              "      <td>0.0</td>\n",
              "    </tr>\n",
              "    <tr>\n",
              "      <th>78</th>\n",
              "      <td>NaN</td>\n",
              "      <td>0.0</td>\n",
              "    </tr>\n",
              "    <tr>\n",
              "      <th>88</th>\n",
              "      <td>NaN</td>\n",
              "      <td>0.0</td>\n",
              "    </tr>\n",
              "    <tr>\n",
              "      <th>89</th>\n",
              "      <td>NaN</td>\n",
              "      <td>0.0</td>\n",
              "    </tr>\n",
              "    <tr>\n",
              "      <th>...</th>\n",
              "      <td>...</td>\n",
              "      <td>...</td>\n",
              "    </tr>\n",
              "    <tr>\n",
              "      <th>1433</th>\n",
              "      <td>NaN</td>\n",
              "      <td>0.0</td>\n",
              "    </tr>\n",
              "    <tr>\n",
              "      <th>1449</th>\n",
              "      <td>NaN</td>\n",
              "      <td>0.0</td>\n",
              "    </tr>\n",
              "    <tr>\n",
              "      <th>1453</th>\n",
              "      <td>NaN</td>\n",
              "      <td>0.0</td>\n",
              "    </tr>\n",
              "    <tr>\n",
              "      <th>1454</th>\n",
              "      <td>NaN</td>\n",
              "      <td>0.0</td>\n",
              "    </tr>\n",
              "    <tr>\n",
              "      <th>1457</th>\n",
              "      <td>NaN</td>\n",
              "      <td>0.0</td>\n",
              "    </tr>\n",
              "  </tbody>\n",
              "</table>\n",
              "<p>159 rows × 2 columns</p>\n",
              "</div>"
            ],
            "text/plain": [
              "      GarageYrBlt  GarageArea\n",
              "39            NaN         0.0\n",
              "48            NaN         0.0\n",
              "78            NaN         0.0\n",
              "88            NaN         0.0\n",
              "89            NaN         0.0\n",
              "...           ...         ...\n",
              "1433          NaN         0.0\n",
              "1449          NaN         0.0\n",
              "1453          NaN         0.0\n",
              "1454          NaN         0.0\n",
              "1457          NaN         0.0\n",
              "\n",
              "[159 rows x 2 columns]"
            ]
          },
          "metadata": {
            "tags": []
          },
          "execution_count": 60
        }
      ]
    },
    {
      "cell_type": "markdown",
      "metadata": {
        "id": "Y6WN0c7JiLvb",
        "colab_type": "text"
      },
      "source": [
        "This is actually a problem because how to represent that it is not built in any year, in a numerical data."
      ]
    },
    {
      "cell_type": "code",
      "metadata": {
        "id": "vYB24a7DfA3W",
        "colab_type": "code",
        "outputId": "8bdacd17-1356-469a-85bd-10a0e4c308fc",
        "colab": {
          "base_uri": "https://localhost:8080/",
          "height": 225
        }
      },
      "source": [
        "display(token['GarageYrBlt'].unique())"
      ],
      "execution_count": 0,
      "outputs": [
        {
          "output_type": "display_data",
          "data": {
            "text/plain": [
              "array([2003., 1976., 2001., 1998., 2000., 1993., 2004., 1973., 1931.,\n",
              "       1939., 1965., 2005., 1962., 2006., 1960., 1991., 1970., 1967.,\n",
              "       1958., 1930., 2002., 1968., 2007., 2008., 1957., 1920., 1966.,\n",
              "       1959., 1995., 1954., 1953.,   nan, 1983., 1977., 1997., 1985.,\n",
              "       1963., 1981., 1964., 1999., 1935., 1990., 1945., 1987., 1989.,\n",
              "       1915., 1956., 1948., 1974., 2009., 1950., 1961., 1921., 1900.,\n",
              "       1979., 1951., 1969., 1936., 1975., 1971., 1923., 1984., 1926.,\n",
              "       1955., 1986., 1988., 1916., 1932., 1972., 1918., 1980., 1924.,\n",
              "       1996., 1940., 1949., 1994., 1910., 1978., 1982., 1992., 1925.,\n",
              "       1941., 2010., 1927., 1947., 1937., 1942., 1938., 1952., 1928.,\n",
              "       1922., 1934., 1906., 1914., 1946., 1908., 1929., 1933., 1917.,\n",
              "       1896., 1895., 2207., 1943., 1919.])"
            ]
          },
          "metadata": {
            "tags": []
          }
        }
      ]
    },
    {
      "cell_type": "markdown",
      "metadata": {
        "id": "tQunbZ93mZH3",
        "colab_type": "text"
      },
      "source": [
        "if the NaN is replaced by 0, it would mean that it is less important, but that isn't the case.\n",
        "\n",
        "One alternative is to one-hot this column and delete the nan.(pd.get_dummies just ignore NaN)\n",
        "\n",
        "another alternative is impute the mean of the 'GarageYrBlt', and let the label to be ordinal as it should be.\n",
        "\n",
        "nother alternative is to estimate the correlation in between 'SalePrice' and the 'GarageYrBlt' without the NaN and then use, for example, the year average for replacing the NaN and estimate correlation again. why this can be of use? because the amount of rows is 81 over 1300 aprox. and that the degrees of freedom resultant from the one-hot method do multiply the amount of input data in a significant way."
      ]
    },
    {
      "cell_type": "code",
      "metadata": {
        "colab_type": "code",
        "outputId": "163d04fe-365c-4983-e91c-74cc4d606954",
        "id": "8w6zVHlCvkkh",
        "colab": {
          "base_uri": "https://localhost:8080/",
          "height": 753
        }
      },
      "source": [
        "token = df_train[['GarageYrBlt', 'SalePrice']].dropna()\n",
        "heat_map_corr(token)\n",
        "\n",
        "\n",
        "Garage_mean = df_train_v3['GarageYrBlt'].mean()\n",
        "\n",
        "display(Garage_mean)\n"
      ],
      "execution_count": 0,
      "outputs": [
        {
          "output_type": "display_data",
          "data": {
            "image/png": "[encoded data removed]",
            "text/plain": [
              "<Figure size 720x720 with 2 Axes>"
            ]
          },
          "metadata": {
            "tags": []
          }
        },
        {
          "output_type": "display_data",
          "data": {
            "text/html": [
              "<div>\n",
              "<style scoped>\n",
              "    .dataframe tbody tr th:only-of-type {\n",
              "        vertical-align: middle;\n",
              "    }\n",
              "\n",
              "    .dataframe tbody tr th {\n",
              "        vertical-align: top;\n",
              "    }\n",
              "\n",
              "    .dataframe thead th {\n",
              "        text-align: right;\n",
              "    }\n",
              "</style>\n",
              "<table border=\"1\" class=\"dataframe\">\n",
              "  <thead>\n",
              "    <tr style=\"text-align: right;\">\n",
              "      <th></th>\n",
              "      <th>GarageYrBlt</th>\n",
              "      <th>SalePrice</th>\n",
              "    </tr>\n",
              "  </thead>\n",
              "  <tbody>\n",
              "    <tr>\n",
              "      <th>GarageYrBlt</th>\n",
              "      <td>1.000000</td>\n",
              "      <td>0.486362</td>\n",
              "    </tr>\n",
              "    <tr>\n",
              "      <th>SalePrice</th>\n",
              "      <td>0.486362</td>\n",
              "      <td>1.000000</td>\n",
              "    </tr>\n",
              "  </tbody>\n",
              "</table>\n",
              "</div>"
            ],
            "text/plain": [
              "             GarageYrBlt  SalePrice\n",
              "GarageYrBlt     1.000000   0.486362\n",
              "SalePrice       0.486362   1.000000"
            ]
          },
          "metadata": {
            "tags": []
          }
        },
        {
          "output_type": "display_data",
          "data": {
            "text/plain": [
              "1978.1134057971014"
            ]
          },
          "metadata": {
            "tags": []
          }
        }
      ]
    },
    {
      "cell_type": "markdown",
      "metadata": {
        "id": "g8MpdcAx1tKw",
        "colab_type": "text"
      },
      "source": [
        "replacing by 0 there is a significant change in the nature of both variables relation. so it is better to replace the NaN values using the media."
      ]
    },
    {
      "cell_type": "code",
      "metadata": {
        "id": "idVbQoQIhWpJ",
        "colab_type": "code",
        "colab": {}
      },
      "source": [
        "df_train_v3['GarageYrBlt'].fillna(Garage_mean, axis = 0, inplace = True)"
      ],
      "execution_count": 0,
      "outputs": []
    },
    {
      "cell_type": "markdown",
      "metadata": {
        "id": "G2Z1JSjp26Lx",
        "colab_type": "text"
      },
      "source": [
        "PoolQC has 1453 events in NaN. Similarties are:"
      ]
    },
    {
      "cell_type": "code",
      "metadata": {
        "id": "shhFvAqg2Q7L",
        "colab_type": "code",
        "outputId": "7587ac97-4bc2-4de2-e82d-8a81bb9d51cf",
        "colab": {
          "base_uri": "https://localhost:8080/",
          "height": 52
        }
      },
      "source": [
        "token = df_train_v3.columns\n",
        "Pool = []\n",
        "for i in range(len(token)):\n",
        "  if ('Pool' in token[i]):\n",
        "    Pool.append(token[i]) \n",
        "print(Pool)\n",
        "print('Pool type len: ',len(Pool))"
      ],
      "execution_count": 0,
      "outputs": [
        {
          "output_type": "stream",
          "text": [
            "['PoolArea', 'PoolQC']\n",
            "Pool type len:  2\n"
          ],
          "name": "stdout"
        }
      ]
    },
    {
      "cell_type": "markdown",
      "metadata": {
        "id": "S0KducyM2tDG",
        "colab_type": "text"
      },
      "source": [
        "The documentation for this is as follows:\n",
        "\n",
        "PoolArea: Pool area in square feet\n",
        "\n",
        "PoolQC: Pool quality\n",
        "\t\t\n",
        "       Ex\tExcellent\n",
        "       Gd\tGood\n",
        "       TA\tAverage/Typical\n",
        "       Fa\tFair\n",
        "       NA\tNo Pool\n",
        "\t\t"
      ]
    },
    {
      "cell_type": "code",
      "metadata": {
        "id": "N6_z4GnN326-",
        "colab_type": "code",
        "outputId": "175346d4-fad4-4664-c537-d4bb90b4f068",
        "colab": {
          "base_uri": "https://localhost:8080/",
          "height": 416
        }
      },
      "source": [
        "token = df_train_v3[Pool]\n",
        "token[token['PoolQC'].isnull()]"
      ],
      "execution_count": 0,
      "outputs": [
        {
          "output_type": "execute_result",
          "data": {
            "text/html": [
              "<div>\n",
              "<style scoped>\n",
              "    .dataframe tbody tr th:only-of-type {\n",
              "        vertical-align: middle;\n",
              "    }\n",
              "\n",
              "    .dataframe tbody tr th {\n",
              "        vertical-align: top;\n",
              "    }\n",
              "\n",
              "    .dataframe thead th {\n",
              "        text-align: right;\n",
              "    }\n",
              "</style>\n",
              "<table border=\"1\" class=\"dataframe\">\n",
              "  <thead>\n",
              "    <tr style=\"text-align: right;\">\n",
              "      <th></th>\n",
              "      <th>PoolArea</th>\n",
              "      <th>PoolQC</th>\n",
              "    </tr>\n",
              "  </thead>\n",
              "  <tbody>\n",
              "    <tr>\n",
              "      <th>0</th>\n",
              "      <td>0</td>\n",
              "      <td>NaN</td>\n",
              "    </tr>\n",
              "    <tr>\n",
              "      <th>1</th>\n",
              "      <td>0</td>\n",
              "      <td>NaN</td>\n",
              "    </tr>\n",
              "    <tr>\n",
              "      <th>2</th>\n",
              "      <td>0</td>\n",
              "      <td>NaN</td>\n",
              "    </tr>\n",
              "    <tr>\n",
              "      <th>3</th>\n",
              "      <td>0</td>\n",
              "      <td>NaN</td>\n",
              "    </tr>\n",
              "    <tr>\n",
              "      <th>4</th>\n",
              "      <td>0</td>\n",
              "      <td>NaN</td>\n",
              "    </tr>\n",
              "    <tr>\n",
              "      <th>...</th>\n",
              "      <td>...</td>\n",
              "      <td>...</td>\n",
              "    </tr>\n",
              "    <tr>\n",
              "      <th>1454</th>\n",
              "      <td>0</td>\n",
              "      <td>NaN</td>\n",
              "    </tr>\n",
              "    <tr>\n",
              "      <th>1455</th>\n",
              "      <td>0</td>\n",
              "      <td>NaN</td>\n",
              "    </tr>\n",
              "    <tr>\n",
              "      <th>1456</th>\n",
              "      <td>0</td>\n",
              "      <td>NaN</td>\n",
              "    </tr>\n",
              "    <tr>\n",
              "      <th>1457</th>\n",
              "      <td>0</td>\n",
              "      <td>NaN</td>\n",
              "    </tr>\n",
              "    <tr>\n",
              "      <th>1458</th>\n",
              "      <td>0</td>\n",
              "      <td>NaN</td>\n",
              "    </tr>\n",
              "  </tbody>\n",
              "</table>\n",
              "<p>2909 rows × 2 columns</p>\n",
              "</div>"
            ],
            "text/plain": [
              "      PoolArea PoolQC\n",
              "0            0    NaN\n",
              "1            0    NaN\n",
              "2            0    NaN\n",
              "3            0    NaN\n",
              "4            0    NaN\n",
              "...        ...    ...\n",
              "1454         0    NaN\n",
              "1455         0    NaN\n",
              "1456         0    NaN\n",
              "1457         0    NaN\n",
              "1458         0    NaN\n",
              "\n",
              "[2909 rows x 2 columns]"
            ]
          },
          "metadata": {
            "tags": []
          },
          "execution_count": 65
        }
      ]
    },
    {
      "cell_type": "code",
      "metadata": {
        "id": "bJSPmikh4FGt",
        "colab_type": "code",
        "outputId": "999dd123-d046-4c0a-f2b4-7e6c95293aeb",
        "colab": {
          "base_uri": "https://localhost:8080/",
          "height": 69
        }
      },
      "source": [
        "token = df_train_v3[Pool]\n",
        "token[token['PoolQC'].isnull()].sum()"
      ],
      "execution_count": 0,
      "outputs": [
        {
          "output_type": "execute_result",
          "data": {
            "text/plain": [
              "PoolArea    1373.0\n",
              "PoolQC         0.0\n",
              "dtype: float64"
            ]
          },
          "metadata": {
            "tags": []
          },
          "execution_count": 66
        }
      ]
    },
    {
      "cell_type": "code",
      "metadata": {
        "id": "BErjC1JV4ZOW",
        "colab_type": "code",
        "colab": {}
      },
      "source": [
        "df_train_v3['PoolQC'].fillna('NA', axis = 0, inplace = True)"
      ],
      "execution_count": 0,
      "outputs": []
    },
    {
      "cell_type": "markdown",
      "metadata": {
        "id": "plHyilj426G1",
        "colab_type": "text"
      },
      "source": [
        "in the same way,\n",
        "\n",
        "Fence: 1179\n",
        "\n",
        "Fence: Fence quality\n",
        "\t\t\n",
        "       GdPrv\tGood Privacy\n",
        "       MnPrv\tMinimum Privacy\n",
        "       GdWo\tGood Wood\n",
        "       MnWw\tMinimum Wood/Wire\n",
        "       NA\tNo Fence\n"
      ]
    },
    {
      "cell_type": "code",
      "metadata": {
        "id": "P7AEfoyQ4itS",
        "colab_type": "code",
        "outputId": "f63a314e-ff23-47ed-c713-f9aa0db66724",
        "colab": {
          "base_uri": "https://localhost:8080/",
          "height": 52
        }
      },
      "source": [
        "token = df_train_v3.columns\n",
        "Fence = []\n",
        "for i in range(len(token)):\n",
        "  if ('Fence' in token[i]):\n",
        "    Fence.append(token[i]) \n",
        "print(Fence)\n",
        "print('Fence type len: ',len(Fence))"
      ],
      "execution_count": 0,
      "outputs": [
        {
          "output_type": "stream",
          "text": [
            "['Fence']\n",
            "Fence type len:  1\n"
          ],
          "name": "stdout"
        }
      ]
    },
    {
      "cell_type": "markdown",
      "metadata": {
        "id": "rc24ecAZ5Ift",
        "colab_type": "text"
      },
      "source": [
        "Too many missing data, but it is more likely to be NA"
      ]
    },
    {
      "cell_type": "code",
      "metadata": {
        "id": "KHEpY1p74iiE",
        "colab_type": "code",
        "colab": {}
      },
      "source": [
        "df_train_v3['Fence'].fillna('NA', axis = 0, inplace = True)"
      ],
      "execution_count": 0,
      "outputs": []
    },
    {
      "cell_type": "markdown",
      "metadata": {
        "id": "f2mpFNha254X",
        "colab_type": "text"
      },
      "source": [
        "and,\n",
        "\n",
        "MiscFeature: 1406\n",
        "\n",
        "MiscFeature: Miscellaneous feature not covered in other categories\n",
        "\t\t\n",
        "       Elev\tElevator\n",
        "       Gar2\t2nd Garage (if not described in garage section)\n",
        "       Othr\tOther\n",
        "       Shed\tShed (over 100 SF)\n",
        "       TenC\tTennis Court\n",
        "       NA\tNone\n",
        "\n",
        "MiscVal: $Value of miscellaneous feature"
      ]
    },
    {
      "cell_type": "code",
      "metadata": {
        "id": "WyvGf8vE5cfU",
        "colab_type": "code",
        "outputId": "11482a52-0852-47ef-9d8e-db475defa2e5",
        "colab": {
          "base_uri": "https://localhost:8080/",
          "height": 52
        }
      },
      "source": [
        "token = df_train_v3.columns\n",
        "Misc = []\n",
        "for i in range(len(token)):\n",
        "  if ('Misc' in token[i]):\n",
        "    Misc.append(token[i]) \n",
        "print(Misc)\n",
        "print('Misc type len: ',len(Misc))"
      ],
      "execution_count": 0,
      "outputs": [
        {
          "output_type": "stream",
          "text": [
            "['MiscFeature', 'MiscVal']\n",
            "Misc type len:  2\n"
          ],
          "name": "stdout"
        }
      ]
    },
    {
      "cell_type": "code",
      "metadata": {
        "id": "a3e_YWYo6GT1",
        "colab_type": "code",
        "outputId": "a7d7c09e-15e4-4c70-d210-4f3aaf1356b2",
        "colab": {
          "base_uri": "https://localhost:8080/",
          "height": 69
        }
      },
      "source": [
        "token = df_train_v3[Misc]\n",
        "token[token['MiscFeature'].isnull()].sum()"
      ],
      "execution_count": 0,
      "outputs": [
        {
          "output_type": "execute_result",
          "data": {
            "text/plain": [
              "MiscFeature        0.0\n",
              "MiscVal        17000.0\n",
              "dtype: float64"
            ]
          },
          "metadata": {
            "tags": []
          },
          "execution_count": 71
        }
      ]
    },
    {
      "cell_type": "code",
      "metadata": {
        "id": "lhYDH08v6ZWu",
        "colab_type": "code",
        "colab": {}
      },
      "source": [
        "df_train_v3['MiscFeature'].fillna('NA', axis = 0, inplace = True)"
      ],
      "execution_count": 0,
      "outputs": []
    },
    {
      "cell_type": "markdown",
      "metadata": {
        "id": "DWY-nD1S6qnP",
        "colab_type": "text"
      },
      "source": [
        "checking the results"
      ]
    },
    {
      "cell_type": "code",
      "metadata": {
        "id": "Bqql1_xz6px4",
        "colab_type": "code",
        "outputId": "0cce7a8b-0eee-4ffd-f5c7-7d7fff6f91d4",
        "colab": {
          "base_uri": "https://localhost:8080/",
          "height": 1000
        }
      },
      "source": [
        "proto = gfsg.ProtoFromDataFrames([{'name': 'df_train_v3', 'table': df_train_v3}])\n",
        "protostr = base64.b64encode(proto.SerializeToString()).decode(\"utf-8\")\n",
        "\n",
        "HTML_TEMPLATE = \"\"\"\n",
        "        <script src=\"https://cdnjs.cloudflare.com/ajax/libs/webcomponentsjs/1.3.3/webcomponents-lite.js\"></script>\n",
        "        <link rel=\"import\" href=\"https://raw.githubusercontent.com/PAIR-code/facets/1.0.0/facets-dist/facets-jupyter.html\" >\n",
        "        <facets-overview id=\"elem\"></facets-overview>\n",
        "        <script>\n",
        "          document.querySelector(\"#elem\").protoInput = \"{protostr}\";\n",
        "        </script>\"\"\"\n",
        "html = HTML_TEMPLATE.format(protostr=protostr)\n",
        "display(HTML(html))\n",
        "\n",
        "\n"
      ],
      "execution_count": 0,
      "outputs": [
        {
          "output_type": "display_data",
          "data": {
            "text/html": [
              "\n",
              "        <script src=\"https://cdnjs.cloudflare.com/ajax/libs/webcomponentsjs/1.3.3/webcomponents-lite.js\"></script>\n",
              "        <link rel=\"import\" href=\"https://raw.githubusercontent.com/PAIR-code/facets/1.0.0/facets-dist/facets-jupyter.html\" >\n",
              "        <facets-overview id=\"elem\"></facets-overview>\n",
              "        <script>\n",
              "          document.querySelector(\"#elem\").protoInput = \"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\";\n",
              "        </script>"
            ],
            "text/plain": [
              "<IPython.core.display.HTML object>"
            ]
          },
          "metadata": {
            "tags": []
          }
        }
      ]
    },
    {
      "cell_type": "code",
      "metadata": {
        "id": "37zHepyTr_pF",
        "colab_type": "code",
        "outputId": "c718cf55-9c0e-46fd-ac15-b291cc5c7a17",
        "colab": {
          "base_uri": "https://localhost:8080/",
          "height": 34
        }
      },
      "source": [
        "#hay na en la data para predecir?\n",
        "token1 = df_train_v3[1460:].copy()\n",
        "token = df_train_v3[1460:].dropna().copy()\n",
        "len(token1) - len(token)\n",
        "token3 = []\n",
        "for i in token1.columns:\n",
        "  if token1[i].isna().any() == True:\n",
        "    token3.append(i)\n",
        "print(token3)\n"
      ],
      "execution_count": 0,
      "outputs": [
        {
          "output_type": "stream",
          "text": [
            "['MSZoning', 'Utilities', 'Exterior1st', 'Exterior2nd', 'KitchenQual', 'Functional', 'GarageCars', 'GarageArea', 'SaleType']\n"
          ],
          "name": "stdout"
        }
      ]
    },
    {
      "cell_type": "markdown",
      "metadata": {
        "id": "0TYCyceiuFb5",
        "colab_type": "text"
      },
      "source": [
        "MSZoning: Identifies the general zoning classification of the sale.\n",
        "\t\t\n",
        "       A\tAgriculture\n",
        "       C\tCommercial\n",
        "       FV\tFloating Village Residential\n",
        "       I\tIndustrial\n",
        "       RH\tResidential High Density\n",
        "       RL\tResidential Low Density\n",
        "       RP\tResidential Low Density Park \n",
        "       RM\tResidential Medium Density\n",
        "\t"
      ]
    },
    {
      "cell_type": "code",
      "metadata": {
        "id": "yjf2tDJcsToe",
        "colab_type": "code",
        "outputId": "65f00956-2dee-4bfd-ad42-4d9dac199757",
        "colab": {
          "base_uri": "https://localhost:8080/",
          "height": 305
        }
      },
      "source": [
        "display(df_train_v3['MSZoning'].isna().sum())\n",
        "df_train_v3['MSZoning'].hist()\n"
      ],
      "execution_count": 0,
      "outputs": [
        {
          "output_type": "display_data",
          "data": {
            "text/plain": [
              "4"
            ]
          },
          "metadata": {
            "tags": []
          }
        },
        {
          "output_type": "execute_result",
          "data": {
            "text/plain": [
              "<matplotlib.axes._subplots.AxesSubplot at 0x7f260675cd30>"
            ]
          },
          "metadata": {
            "tags": []
          },
          "execution_count": 75
        },
        {
          "output_type": "display_data",
          "data": {
            "image/png": "[encoded data removed]",
            "text/plain": [
              "<Figure size 432x288 with 1 Axes>"
            ]
          },
          "metadata": {
            "tags": []
          }
        }
      ]
    },
    {
      "cell_type": "markdown",
      "metadata": {
        "id": "N8OhJXECug5-",
        "colab_type": "text"
      },
      "source": [
        "most zones are RL, and 4 records are missiog, this will be just imputed."
      ]
    },
    {
      "cell_type": "code",
      "metadata": {
        "id": "M0OVcWqsuhp8",
        "colab_type": "code",
        "colab": {}
      },
      "source": [
        "df_train_v3['MSZoning'].fillna('RL', axis = 0, inplace = True)"
      ],
      "execution_count": 0,
      "outputs": []
    },
    {
      "cell_type": "markdown",
      "metadata": {
        "id": "shhC4qdzu7Ew",
        "colab_type": "text"
      },
      "source": [
        "Utilities: Type of utilities available\n",
        "\t\t\n",
        "       AllPub\tAll public Utilities (E,G,W,& S)\t\n",
        "       NoSewr\tElectricity, Gas, and Water (Septic Tank)\n",
        "       NoSeWa\tElectricity and Gas Only\n",
        "       ELO\tElectricity only\t"
      ]
    },
    {
      "cell_type": "code",
      "metadata": {
        "id": "udW5SGnNvA8O",
        "colab_type": "code",
        "outputId": "baf78bb9-5358-46be-f542-4fba0c3c661b",
        "colab": {
          "base_uri": "https://localhost:8080/",
          "height": 306
        }
      },
      "source": [
        "display(df_train_v3['Utilities'].isna().sum())\n",
        "df_train_v3['Utilities'].hist()"
      ],
      "execution_count": 0,
      "outputs": [
        {
          "output_type": "display_data",
          "data": {
            "text/plain": [
              "2"
            ]
          },
          "metadata": {
            "tags": []
          }
        },
        {
          "output_type": "execute_result",
          "data": {
            "text/plain": [
              "<matplotlib.axes._subplots.AxesSubplot at 0x7f26068977b8>"
            ]
          },
          "metadata": {
            "tags": []
          },
          "execution_count": 77
        },
        {
          "output_type": "display_data",
          "data": {
            "image/png": "[encoded data removed]",
            "text/plain": [
              "<Figure size 432x288 with 1 Axes>"
            ]
          },
          "metadata": {
            "tags": []
          }
        }
      ]
    },
    {
      "cell_type": "code",
      "metadata": {
        "id": "-KwnF3kpvAx8",
        "colab_type": "code",
        "colab": {}
      },
      "source": [
        "df_train_v3['Utilities'].fillna('AllPub', axis = 0, inplace = True)"
      ],
      "execution_count": 0,
      "outputs": []
    },
    {
      "cell_type": "markdown",
      "metadata": {
        "id": "rhVXRYgcvkU-",
        "colab_type": "text"
      },
      "source": [
        "Exterior1st: Exterior covering on house\n",
        "\n",
        "       AsbShng\tAsbestos Shingles\n",
        "       AsphShn\tAsphalt Shingles\n",
        "       BrkComm\tBrick Common\n",
        "       BrkFace\tBrick Face\n",
        "       CBlock\tCinder Block\n",
        "       CemntBd\tCement Board\n",
        "       HdBoard\tHard Board\n",
        "       ImStucc\tImitation Stucco\n",
        "       MetalSd\tMetal Siding\n",
        "       Other\tOther\n",
        "       Plywood\tPlywood\n",
        "       PreCast\tPreCast\t\n",
        "       Stone\tStone\n",
        "       Stucco\tStucco\n",
        "       VinylSd\tVinyl Siding\n",
        "       Wd Sdng\tWood Siding\n",
        "       WdShing\tWood Shingles"
      ]
    },
    {
      "cell_type": "code",
      "metadata": {
        "id": "HotGBaE7vAqG",
        "colab_type": "code",
        "outputId": "7d63acb0-4b74-42fb-a0ee-bd6bfabd4fbd",
        "colab": {
          "base_uri": "https://localhost:8080/",
          "height": 305
        }
      },
      "source": [
        "display(df_train_v3['Exterior1st'].isna().sum())\n",
        "df_train_v3['Exterior1st'].hist()\n"
      ],
      "execution_count": 0,
      "outputs": [
        {
          "output_type": "display_data",
          "data": {
            "text/plain": [
              "1"
            ]
          },
          "metadata": {
            "tags": []
          }
        },
        {
          "output_type": "execute_result",
          "data": {
            "text/plain": [
              "<matplotlib.axes._subplots.AxesSubplot at 0x7f26067d2668>"
            ]
          },
          "metadata": {
            "tags": []
          },
          "execution_count": 79
        },
        {
          "output_type": "display_data",
          "data": {
            "image/png": "[encoded data removed]",
            "text/plain": [
              "<Figure size 432x288 with 1 Axes>"
            ]
          },
          "metadata": {
            "tags": []
          }
        }
      ]
    },
    {
      "cell_type": "code",
      "metadata": {
        "id": "9orquxUCvAhR",
        "colab_type": "code",
        "colab": {}
      },
      "source": [
        "df_train_v3['Exterior1st'].fillna('VinylSd', axis = 0, inplace = True)"
      ],
      "execution_count": 0,
      "outputs": []
    },
    {
      "cell_type": "markdown",
      "metadata": {
        "id": "rDKNYWPjwD4_",
        "colab_type": "text"
      },
      "source": [
        "Exterior2nd: Exterior covering on house (if more than one material)\n",
        "\n",
        "       AsbShng\tAsbestos Shingles\n",
        "       AsphShn\tAsphalt Shingles\n",
        "       BrkComm\tBrick Common\n",
        "       BrkFace\tBrick Face\n",
        "       CBlock\tCinder Block\n",
        "       CemntBd\tCement Board\n",
        "       HdBoard\tHard Board\n",
        "       ImStucc\tImitation Stucco\n",
        "       MetalSd\tMetal Siding\n",
        "       Other\tOther\n",
        "       Plywood\tPlywood\n",
        "       PreCast\tPreCast\n",
        "       Stone\tStone\n",
        "       Stucco\tStucco\n",
        "       VinylSd\tVinyl Siding\n",
        "       Wd Sdng\tWood Siding\n",
        "       WdShing\tWood Shingles"
      ]
    },
    {
      "cell_type": "code",
      "metadata": {
        "id": "q4mvt0J4vAXU",
        "colab_type": "code",
        "outputId": "17672e7d-656f-4fd4-a01a-b7eae3460b8b",
        "colab": {
          "base_uri": "https://localhost:8080/",
          "height": 308
        }
      },
      "source": [
        "display(df_train_v3['Exterior2nd'].isna().sum())\n",
        "df_train_v3['Exterior2nd'].hist()"
      ],
      "execution_count": 0,
      "outputs": [
        {
          "output_type": "display_data",
          "data": {
            "text/plain": [
              "1"
            ]
          },
          "metadata": {
            "tags": []
          }
        },
        {
          "output_type": "execute_result",
          "data": {
            "text/plain": [
              "<matplotlib.axes._subplots.AxesSubplot at 0x7f26067d2c18>"
            ]
          },
          "metadata": {
            "tags": []
          },
          "execution_count": 81
        },
        {
          "output_type": "display_data",
          "data": {
            "image/png": "[encoded data removed]",
            "text/plain": [
              "<Figure size 432x288 with 1 Axes>"
            ]
          },
          "metadata": {
            "tags": []
          }
        }
      ]
    },
    {
      "cell_type": "code",
      "metadata": {
        "id": "ivcZgx10wA37",
        "colab_type": "code",
        "colab": {}
      },
      "source": [
        "df_train_v3['Exterior2nd'].fillna('VinylSd', axis = 0, inplace = True)"
      ],
      "execution_count": 0,
      "outputs": []
    },
    {
      "cell_type": "markdown",
      "metadata": {
        "id": "AKNAMCQuwWPc",
        "colab_type": "text"
      },
      "source": [
        "KitchenQual: Kitchen quality\n",
        "\n",
        "       Ex\tExcellent\n",
        "       Gd\tGood\n",
        "       TA\tTypical/Average\n",
        "       Fa\tFair\n",
        "       Po\tPoor"
      ]
    },
    {
      "cell_type": "code",
      "metadata": {
        "id": "KdzUK9O8wA1n",
        "colab_type": "code",
        "outputId": "879cbfb3-5980-4f9a-bcf1-521af5407a4e",
        "colab": {
          "base_uri": "https://localhost:8080/",
          "height": 305
        }
      },
      "source": [
        "display(df_train_v3['KitchenQual'].isna().sum())\n",
        "df_train_v3['KitchenQual'].hist()"
      ],
      "execution_count": 0,
      "outputs": [
        {
          "output_type": "display_data",
          "data": {
            "text/plain": [
              "1"
            ]
          },
          "metadata": {
            "tags": []
          }
        },
        {
          "output_type": "execute_result",
          "data": {
            "text/plain": [
              "<matplotlib.axes._subplots.AxesSubplot at 0x7f26066f7c88>"
            ]
          },
          "metadata": {
            "tags": []
          },
          "execution_count": 83
        },
        {
          "output_type": "display_data",
          "data": {
            "image/png": "[encoded data removed]",
            "text/plain": [
              "<Figure size 432x288 with 1 Axes>"
            ]
          },
          "metadata": {
            "tags": []
          }
        }
      ]
    },
    {
      "cell_type": "code",
      "metadata": {
        "id": "APmfcahmwvQL",
        "colab_type": "code",
        "colab": {}
      },
      "source": [
        "df_train_v3['KitchenQual'].fillna('TA', axis = 0, inplace = True)"
      ],
      "execution_count": 0,
      "outputs": []
    },
    {
      "cell_type": "markdown",
      "metadata": {
        "id": "b7660hsew4ZB",
        "colab_type": "text"
      },
      "source": [
        "Functional: Home functionality (Assume typical unless deductions are warranted)\n",
        "\n",
        "       Typ\tTypical Functionality\n",
        "       Min1\tMinor Deductions 1\n",
        "       Min2\tMinor Deductions 2\n",
        "       Mod\tModerate Deductions\n",
        "       Maj1\tMajor Deductions 1\n",
        "       Maj2\tMajor Deductions 2\n",
        "       Sev\tSeverely Damaged\n",
        "       Sal\tSalvage only"
      ]
    },
    {
      "cell_type": "code",
      "metadata": {
        "id": "0Ez9elddw7bQ",
        "colab_type": "code",
        "outputId": "fdfcc530-40c1-4d8a-f59b-5c7824e94f46",
        "colab": {
          "base_uri": "https://localhost:8080/",
          "height": 306
        }
      },
      "source": [
        "display(df_train_v3['Functional'].isna().sum())\n",
        "df_train_v3['Functional'].hist()"
      ],
      "execution_count": 0,
      "outputs": [
        {
          "output_type": "display_data",
          "data": {
            "text/plain": [
              "2"
            ]
          },
          "metadata": {
            "tags": []
          }
        },
        {
          "output_type": "execute_result",
          "data": {
            "text/plain": [
              "<matplotlib.axes._subplots.AxesSubplot at 0x7f26065504a8>"
            ]
          },
          "metadata": {
            "tags": []
          },
          "execution_count": 85
        },
        {
          "output_type": "display_data",
          "data": {
            "image/png": "[encoded data removed]",
            "text/plain": [
              "<Figure size 432x288 with 1 Axes>"
            ]
          },
          "metadata": {
            "tags": []
          }
        }
      ]
    },
    {
      "cell_type": "code",
      "metadata": {
        "id": "yTkf56NQxCK0",
        "colab_type": "code",
        "colab": {}
      },
      "source": [
        "df_train_v3['Functional'].fillna('Typ', axis = 0, inplace = True)"
      ],
      "execution_count": 0,
      "outputs": []
    },
    {
      "cell_type": "markdown",
      "metadata": {
        "id": "X9_ejBp3xMFp",
        "colab_type": "text"
      },
      "source": [
        "GarageCars: Size of garage in car capacity\n"
      ]
    },
    {
      "cell_type": "code",
      "metadata": {
        "id": "V4sW6RzrxJGR",
        "colab_type": "code",
        "outputId": "02d6db5f-2b04-4aa9-9aa5-beac2d7e16bc",
        "colab": {
          "base_uri": "https://localhost:8080/",
          "height": 190
        }
      },
      "source": [
        "display(df_train_v3['GarageCars'].isna().sum())\n",
        "df_train_v3['GarageCars'].describe()"
      ],
      "execution_count": 0,
      "outputs": [
        {
          "output_type": "display_data",
          "data": {
            "text/plain": [
              "1"
            ]
          },
          "metadata": {
            "tags": []
          }
        },
        {
          "output_type": "execute_result",
          "data": {
            "text/plain": [
              "count    2918.000000\n",
              "mean        1.766621\n",
              "std         0.761624\n",
              "min         0.000000\n",
              "25%         1.000000\n",
              "50%         2.000000\n",
              "75%         2.000000\n",
              "max         5.000000\n",
              "Name: GarageCars, dtype: float64"
            ]
          },
          "metadata": {
            "tags": []
          },
          "execution_count": 87
        }
      ]
    },
    {
      "cell_type": "code",
      "metadata": {
        "id": "Xoppnj4OxJDe",
        "colab_type": "code",
        "colab": {}
      },
      "source": [
        "df_train_v3['GarageCars'].fillna(2, axis = 0, inplace = True)"
      ],
      "execution_count": 0,
      "outputs": []
    },
    {
      "cell_type": "markdown",
      "metadata": {
        "id": "TfueXC1Qxi3i",
        "colab_type": "text"
      },
      "source": [
        "GarageArea: Size of garage in square feet\n"
      ]
    },
    {
      "cell_type": "code",
      "metadata": {
        "id": "4OVPoZngxJBI",
        "colab_type": "code",
        "outputId": "b828347e-9d8c-415b-e285-6baae7dbe757",
        "colab": {
          "base_uri": "https://localhost:8080/",
          "height": 190
        }
      },
      "source": [
        "display(df_train_v3['GarageArea'].isna().sum())\n",
        "df_train_v3['GarageArea'].describe()"
      ],
      "execution_count": 0,
      "outputs": [
        {
          "output_type": "display_data",
          "data": {
            "text/plain": [
              "1"
            ]
          },
          "metadata": {
            "tags": []
          }
        },
        {
          "output_type": "execute_result",
          "data": {
            "text/plain": [
              "count    2918.000000\n",
              "mean      472.874572\n",
              "std       215.394815\n",
              "min         0.000000\n",
              "25%       320.000000\n",
              "50%       480.000000\n",
              "75%       576.000000\n",
              "max      1488.000000\n",
              "Name: GarageArea, dtype: float64"
            ]
          },
          "metadata": {
            "tags": []
          },
          "execution_count": 89
        }
      ]
    },
    {
      "cell_type": "code",
      "metadata": {
        "id": "S7oZkfonxI6f",
        "colab_type": "code",
        "colab": {}
      },
      "source": [
        "df_train_v3['GarageArea'].fillna(473, axis = 0, inplace = True)"
      ],
      "execution_count": 0,
      "outputs": []
    },
    {
      "cell_type": "markdown",
      "metadata": {
        "id": "thO08bj8xwKd",
        "colab_type": "text"
      },
      "source": [
        "SaleType: Type of sale\n",
        "\t\t\n",
        "       WD \tWarranty Deed - Conventional\n",
        "       CWD\tWarranty Deed - Cash\n",
        "       VWD\tWarranty Deed - VA Loan\n",
        "       New\tHome just constructed and sold\n",
        "       COD\tCourt Officer Deed/Estate\n",
        "       Con\tContract 15% Down payment regular terms\n",
        "       ConLw\tContract Low Down payment and low interest\n",
        "       ConLI\tContract Low Interest\n",
        "       ConLD\tContract Low Down\n",
        "       Oth\tOther"
      ]
    },
    {
      "cell_type": "code",
      "metadata": {
        "id": "YWS4a0M1yDBF",
        "colab_type": "code",
        "outputId": "71748f59-209d-435e-d079-72035f6b7e16",
        "colab": {
          "base_uri": "https://localhost:8080/",
          "height": 305
        }
      },
      "source": [
        "display(df_train_v3['SaleType'].isna().sum())\n",
        "df_train_v3['SaleType'].hist()"
      ],
      "execution_count": 0,
      "outputs": [
        {
          "output_type": "display_data",
          "data": {
            "text/plain": [
              "1"
            ]
          },
          "metadata": {
            "tags": []
          }
        },
        {
          "output_type": "execute_result",
          "data": {
            "text/plain": [
              "<matplotlib.axes._subplots.AxesSubplot at 0x7f2608687f98>"
            ]
          },
          "metadata": {
            "tags": []
          },
          "execution_count": 91
        },
        {
          "output_type": "display_data",
          "data": {
            "image/png": "[encoded data removed]",
            "text/plain": [
              "<Figure size 432x288 with 1 Axes>"
            ]
          },
          "metadata": {
            "tags": []
          }
        }
      ]
    },
    {
      "cell_type": "code",
      "metadata": {
        "id": "gWKiO0EuwAvZ",
        "colab_type": "code",
        "colab": {}
      },
      "source": [
        "df_train_v3['SaleType'].fillna('WD', axis = 0, inplace = True)"
      ],
      "execution_count": 0,
      "outputs": []
    },
    {
      "cell_type": "markdown",
      "metadata": {
        "id": "LfaBgDbyySSx",
        "colab_type": "text"
      },
      "source": [
        "featuring seems done. Let's check the entire df"
      ]
    },
    {
      "cell_type": "code",
      "metadata": {
        "id": "QbvFO6OowAnF",
        "colab_type": "code",
        "outputId": "581706b8-0276-4a8f-b0c8-7b8d0f54ba19",
        "colab": {
          "base_uri": "https://localhost:8080/",
          "height": 52
        }
      },
      "source": [
        "token1 = df_train_v3.copy()\n",
        "token = df_train_v3.dropna().copy()\n",
        "display(len(token1) - len(token))\n",
        "token3 = []\n",
        "for i in token1.columns:\n",
        "  if token1[i].isna().any() == True:\n",
        "    token3.append(i)\n",
        "print(token3)"
      ],
      "execution_count": 0,
      "outputs": [
        {
          "output_type": "display_data",
          "data": {
            "text/plain": [
              "0"
            ]
          },
          "metadata": {
            "tags": []
          }
        },
        {
          "output_type": "stream",
          "text": [
            "[]\n"
          ],
          "name": "stdout"
        }
      ]
    },
    {
      "cell_type": "markdown",
      "metadata": {
        "id": "WiRlQSDdzKZ7",
        "colab_type": "text"
      },
      "source": [
        "seems ok."
      ]
    },
    {
      "cell_type": "code",
      "metadata": {
        "id": "w_12RJRM7UWf",
        "colab_type": "code",
        "colab": {}
      },
      "source": [
        "df_train_v3_1 = df_train_v3.copy()"
      ],
      "execution_count": 0,
      "outputs": []
    },
    {
      "cell_type": "code",
      "metadata": {
        "id": "hKjSGYTUBEmA",
        "colab_type": "code",
        "outputId": "bbc7409c-a692-479f-ea89-b0f17c5e636a",
        "colab": {
          "base_uri": "https://localhost:8080/",
          "height": 1000
        }
      },
      "source": [
        "for i  in df_train_v3_1.columns:\n",
        "  print(i,': ',df_train_v3_1[i].dtype)"
      ],
      "execution_count": 0,
      "outputs": [
        {
          "output_type": "stream",
          "text": [
            "Id :  int64\n",
            "MSSubClass :  int64\n",
            "MSZoning :  object\n",
            "LotFrontage :  float64\n",
            "LotArea :  int64\n",
            "Street :  object\n",
            "Alley :  object\n",
            "LotShape :  object\n",
            "LandContour :  object\n",
            "Utilities :  object\n",
            "LotConfig :  object\n",
            "LandSlope :  object\n",
            "Neighborhood :  object\n",
            "Condition1 :  object\n",
            "Condition2 :  object\n",
            "BldgType :  object\n",
            "HouseStyle :  object\n",
            "OverallQual :  int64\n",
            "OverallCond :  int64\n",
            "YearBuilt :  int64\n",
            "YearRemodAdd :  int64\n",
            "RoofStyle :  object\n",
            "RoofMatl :  object\n",
            "Exterior1st :  object\n",
            "Exterior2nd :  object\n",
            "MasVnrType :  object\n",
            "MasVnrArea :  float64\n",
            "ExterQual :  object\n",
            "ExterCond :  object\n",
            "Foundation :  object\n",
            "BsmtQual :  object\n",
            "BsmtCond :  object\n",
            "BsmtExposure :  object\n",
            "BsmtFinType1 :  object\n",
            "BsmtFinSF1 :  float64\n",
            "BsmtFinType2 :  object\n",
            "BsmtFinSF2 :  float64\n",
            "BsmtUnfSF :  float64\n",
            "TotalBsmtSF :  float64\n",
            "Heating :  object\n",
            "HeatingQC :  object\n",
            "CentralAir :  object\n",
            "Electrical :  object\n",
            "1stFlrSF :  int64\n",
            "2ndFlrSF :  int64\n",
            "LowQualFinSF :  int64\n",
            "GrLivArea :  int64\n",
            "BsmtFullBath :  object\n",
            "BsmtHalfBath :  object\n",
            "FullBath :  int64\n",
            "HalfBath :  int64\n",
            "BedroomAbvGr :  int64\n",
            "KitchenAbvGr :  int64\n",
            "KitchenQual :  object\n",
            "TotRmsAbvGrd :  int64\n",
            "Functional :  object\n",
            "Fireplaces :  int64\n",
            "FireplaceQu :  object\n",
            "GarageType :  object\n",
            "GarageYrBlt :  float64\n",
            "GarageFinish :  object\n",
            "GarageCars :  float64\n",
            "GarageArea :  float64\n",
            "GarageQual :  object\n",
            "GarageCond :  object\n",
            "PavedDrive :  object\n",
            "WoodDeckSF :  int64\n",
            "OpenPorchSF :  int64\n",
            "EnclosedPorch :  int64\n",
            "3SsnPorch :  int64\n",
            "ScreenPorch :  int64\n",
            "PoolArea :  int64\n",
            "PoolQC :  object\n",
            "Fence :  object\n",
            "MiscFeature :  object\n",
            "MiscVal :  int64\n",
            "MoSold :  int64\n",
            "YrSold :  int64\n",
            "SaleType :  object\n",
            "SaleCondition :  object\n"
          ],
          "name": "stdout"
        }
      ]
    },
    {
      "cell_type": "code",
      "metadata": {
        "id": "Fxju3e1yB0yg",
        "colab_type": "code",
        "outputId": "fa44006a-8ffb-4724-eecc-ac8a7a92504f",
        "colab": {
          "base_uri": "https://localhost:8080/",
          "height": 1000
        }
      },
      "source": [
        "#select the features to one hot\n",
        "txt = open('data_description.txt', 'r')\n",
        "print(txt.read())"
      ],
      "execution_count": 0,
      "outputs": [
        {
          "output_type": "stream",
          "text": [
            "MSSubClass: Identifies the type of dwelling involved in the sale.\t\n",
            "\n",
            "        20\t1-STORY 1946 & NEWER ALL STYLES\n",
            "        30\t1-STORY 1945 & OLDER\n",
            "        40\t1-STORY W/FINISHED ATTIC ALL AGES\n",
            "        45\t1-1/2 STORY - UNFINISHED ALL AGES\n",
            "        50\t1-1/2 STORY FINISHED ALL AGES\n",
            "        60\t2-STORY 1946 & NEWER\n",
            "        70\t2-STORY 1945 & OLDER\n",
            "        75\t2-1/2 STORY ALL AGES\n",
            "        80\tSPLIT OR MULTI-LEVEL\n",
            "        85\tSPLIT FOYER\n",
            "        90\tDUPLEX - ALL STYLES AND AGES\n",
            "       120\t1-STORY PUD (Planned Unit Development) - 1946 & NEWER\n",
            "       150\t1-1/2 STORY PUD - ALL AGES\n",
            "       160\t2-STORY PUD - 1946 & NEWER\n",
            "       180\tPUD - MULTILEVEL - INCL SPLIT LEV/FOYER\n",
            "       190\t2 FAMILY CONVERSION - ALL STYLES AND AGES\n",
            "\n",
            "MSZoning: Identifies the general zoning classification of the sale.\n",
            "\t\t\n",
            "       A\tAgriculture\n",
            "       C\tCommercial\n",
            "       FV\tFloating Village Residential\n",
            "       I\tIndustrial\n",
            "       RH\tResidential High Density\n",
            "       RL\tResidential Low Density\n",
            "       RP\tResidential Low Density Park \n",
            "       RM\tResidential Medium Density\n",
            "\t\n",
            "LotFrontage: Linear feet of street connected to property\n",
            "\n",
            "LotArea: Lot size in square feet\n",
            "\n",
            "Street: Type of road access to property\n",
            "\n",
            "       Grvl\tGravel\t\n",
            "       Pave\tPaved\n",
            "       \t\n",
            "Alley: Type of alley access to property\n",
            "\n",
            "       Grvl\tGravel\n",
            "       Pave\tPaved\n",
            "       NA \tNo alley access\n",
            "\t\t\n",
            "LotShape: General shape of property\n",
            "\n",
            "       Reg\tRegular\t\n",
            "       IR1\tSlightly irregular\n",
            "       IR2\tModerately Irregular\n",
            "       IR3\tIrregular\n",
            "       \n",
            "LandContour: Flatness of the property\n",
            "\n",
            "       Lvl\tNear Flat/Level\t\n",
            "       Bnk\tBanked - Quick and significant rise from street grade to building\n",
            "       HLS\tHillside - Significant slope from side to side\n",
            "       Low\tDepression\n",
            "\t\t\n",
            "Utilities: Type of utilities available\n",
            "\t\t\n",
            "       AllPub\tAll public Utilities (E,G,W,& S)\t\n",
            "       NoSewr\tElectricity, Gas, and Water (Septic Tank)\n",
            "       NoSeWa\tElectricity and Gas Only\n",
            "       ELO\tElectricity only\t\n",
            "\t\n",
            "LotConfig: Lot configuration\n",
            "\n",
            "       Inside\tInside lot\n",
            "       Corner\tCorner lot\n",
            "       CulDSac\tCul-de-sac\n",
            "       FR2\tFrontage on 2 sides of property\n",
            "       FR3\tFrontage on 3 sides of property\n",
            "\t\n",
            "LandSlope: Slope of property\n",
            "\t\t\n",
            "       Gtl\tGentle slope\n",
            "       Mod\tModerate Slope\t\n",
            "       Sev\tSevere Slope\n",
            "\t\n",
            "Neighborhood: Physical locations within Ames city limits\n",
            "\n",
            "       Blmngtn\tBloomington Heights\n",
            "       Blueste\tBluestem\n",
            "       BrDale\tBriardale\n",
            "       BrkSide\tBrookside\n",
            "       ClearCr\tClear Creek\n",
            "       CollgCr\tCollege Creek\n",
            "       Crawfor\tCrawford\n",
            "       Edwards\tEdwards\n",
            "       Gilbert\tGilbert\n",
            "       IDOTRR\tIowa DOT and Rail Road\n",
            "       MeadowV\tMeadow Village\n",
            "       Mitchel\tMitchell\n",
            "       Names\tNorth Ames\n",
            "       NoRidge\tNorthridge\n",
            "       NPkVill\tNorthpark Villa\n",
            "       NridgHt\tNorthridge Heights\n",
            "       NWAmes\tNorthwest Ames\n",
            "       OldTown\tOld Town\n",
            "       SWISU\tSouth & West of Iowa State University\n",
            "       Sawyer\tSawyer\n",
            "       SawyerW\tSawyer West\n",
            "       Somerst\tSomerset\n",
            "       StoneBr\tStone Brook\n",
            "       Timber\tTimberland\n",
            "       Veenker\tVeenker\n",
            "\t\t\t\n",
            "Condition1: Proximity to various conditions\n",
            "\t\n",
            "       Artery\tAdjacent to arterial street\n",
            "       Feedr\tAdjacent to feeder street\t\n",
            "       Norm\tNormal\t\n",
            "       RRNn\tWithin 200' of North-South Railroad\n",
            "       RRAn\tAdjacent to North-South Railroad\n",
            "       PosN\tNear positive off-site feature--park, greenbelt, etc.\n",
            "       PosA\tAdjacent to postive off-site feature\n",
            "       RRNe\tWithin 200' of East-West Railroad\n",
            "       RRAe\tAdjacent to East-West Railroad\n",
            "\t\n",
            "Condition2: Proximity to various conditions (if more than one is present)\n",
            "\t\t\n",
            "       Artery\tAdjacent to arterial street\n",
            "       Feedr\tAdjacent to feeder street\t\n",
            "       Norm\tNormal\t\n",
            "       RRNn\tWithin 200' of North-South Railroad\n",
            "       RRAn\tAdjacent to North-South Railroad\n",
            "       PosN\tNear positive off-site feature--park, greenbelt, etc.\n",
            "       PosA\tAdjacent to postive off-site feature\n",
            "       RRNe\tWithin 200' of East-West Railroad\n",
            "       RRAe\tAdjacent to East-West Railroad\n",
            "\t\n",
            "BldgType: Type of dwelling\n",
            "\t\t\n",
            "       1Fam\tSingle-family Detached\t\n",
            "       2FmCon\tTwo-family Conversion; originally built as one-family dwelling\n",
            "       Duplx\tDuplex\n",
            "       TwnhsE\tTownhouse End Unit\n",
            "       TwnhsI\tTownhouse Inside Unit\n",
            "\t\n",
            "HouseStyle: Style of dwelling\n",
            "\t\n",
            "       1Story\tOne story\n",
            "       1.5Fin\tOne and one-half story: 2nd level finished\n",
            "       1.5Unf\tOne and one-half story: 2nd level unfinished\n",
            "       2Story\tTwo story\n",
            "       2.5Fin\tTwo and one-half story: 2nd level finished\n",
            "       2.5Unf\tTwo and one-half story: 2nd level unfinished\n",
            "       SFoyer\tSplit Foyer\n",
            "       SLvl\tSplit Level\n",
            "\t\n",
            "OverallQual: Rates the overall material and finish of the house\n",
            "\n",
            "       10\tVery Excellent\n",
            "       9\tExcellent\n",
            "       8\tVery Good\n",
            "       7\tGood\n",
            "       6\tAbove Average\n",
            "       5\tAverage\n",
            "       4\tBelow Average\n",
            "       3\tFair\n",
            "       2\tPoor\n",
            "       1\tVery Poor\n",
            "\t\n",
            "OverallCond: Rates the overall condition of the house\n",
            "\n",
            "       10\tVery Excellent\n",
            "       9\tExcellent\n",
            "       8\tVery Good\n",
            "       7\tGood\n",
            "       6\tAbove Average\t\n",
            "       5\tAverage\n",
            "       4\tBelow Average\t\n",
            "       3\tFair\n",
            "       2\tPoor\n",
            "       1\tVery Poor\n",
            "\t\t\n",
            "YearBuilt: Original construction date\n",
            "\n",
            "YearRemodAdd: Remodel date (same as construction date if no remodeling or additions)\n",
            "\n",
            "RoofStyle: Type of roof\n",
            "\n",
            "       Flat\tFlat\n",
            "       Gable\tGable\n",
            "       Gambrel\tGabrel (Barn)\n",
            "       Hip\tHip\n",
            "       Mansard\tMansard\n",
            "       Shed\tShed\n",
            "\t\t\n",
            "RoofMatl: Roof material\n",
            "\n",
            "       ClyTile\tClay or Tile\n",
            "       CompShg\tStandard (Composite) Shingle\n",
            "       Membran\tMembrane\n",
            "       Metal\tMetal\n",
            "       Roll\tRoll\n",
            "       Tar&Grv\tGravel & Tar\n",
            "       WdShake\tWood Shakes\n",
            "       WdShngl\tWood Shingles\n",
            "\t\t\n",
            "Exterior1st: Exterior covering on house\n",
            "\n",
            "       AsbShng\tAsbestos Shingles\n",
            "       AsphShn\tAsphalt Shingles\n",
            "       BrkComm\tBrick Common\n",
            "       BrkFace\tBrick Face\n",
            "       CBlock\tCinder Block\n",
            "       CemntBd\tCement Board\n",
            "       HdBoard\tHard Board\n",
            "       ImStucc\tImitation Stucco\n",
            "       MetalSd\tMetal Siding\n",
            "       Other\tOther\n",
            "       Plywood\tPlywood\n",
            "       PreCast\tPreCast\t\n",
            "       Stone\tStone\n",
            "       Stucco\tStucco\n",
            "       VinylSd\tVinyl Siding\n",
            "       Wd Sdng\tWood Siding\n",
            "       WdShing\tWood Shingles\n",
            "\t\n",
            "Exterior2nd: Exterior covering on house (if more than one material)\n",
            "\n",
            "       AsbShng\tAsbestos Shingles\n",
            "       AsphShn\tAsphalt Shingles\n",
            "       BrkComm\tBrick Common\n",
            "       BrkFace\tBrick Face\n",
            "       CBlock\tCinder Block\n",
            "       CemntBd\tCement Board\n",
            "       HdBoard\tHard Board\n",
            "       ImStucc\tImitation Stucco\n",
            "       MetalSd\tMetal Siding\n",
            "       Other\tOther\n",
            "       Plywood\tPlywood\n",
            "       PreCast\tPreCast\n",
            "       Stone\tStone\n",
            "       Stucco\tStucco\n",
            "       VinylSd\tVinyl Siding\n",
            "       Wd Sdng\tWood Siding\n",
            "       WdShing\tWood Shingles\n",
            "\t\n",
            "MasVnrType: Masonry veneer type\n",
            "\n",
            "       BrkCmn\tBrick Common\n",
            "       BrkFace\tBrick Face\n",
            "       CBlock\tCinder Block\n",
            "       None\tNone\n",
            "       Stone\tStone\n",
            "\t\n",
            "MasVnrArea: Masonry veneer area in square feet\n",
            "\n",
            "ExterQual: Evaluates the quality of the material on the exterior \n",
            "\t\t\n",
            "       Ex\tExcellent\n",
            "       Gd\tGood\n",
            "       TA\tAverage/Typical\n",
            "       Fa\tFair\n",
            "       Po\tPoor\n",
            "\t\t\n",
            "ExterCond: Evaluates the present condition of the material on the exterior\n",
            "\t\t\n",
            "       Ex\tExcellent\n",
            "       Gd\tGood\n",
            "       TA\tAverage/Typical\n",
            "       Fa\tFair\n",
            "       Po\tPoor\n",
            "\t\t\n",
            "Foundation: Type of foundation\n",
            "\t\t\n",
            "       BrkTil\tBrick & Tile\n",
            "       CBlock\tCinder Block\n",
            "       PConc\tPoured Contrete\t\n",
            "       Slab\tSlab\n",
            "       Stone\tStone\n",
            "       Wood\tWood\n",
            "\t\t\n",
            "BsmtQual: Evaluates the height of the basement\n",
            "\n",
            "       Ex\tExcellent (100+ inches)\t\n",
            "       Gd\tGood (90-99 inches)\n",
            "       TA\tTypical (80-89 inches)\n",
            "       Fa\tFair (70-79 inches)\n",
            "       Po\tPoor (<70 inches\n",
            "       NA\tNo Basement\n",
            "\t\t\n",
            "BsmtCond: Evaluates the general condition of the basement\n",
            "\n",
            "       Ex\tExcellent\n",
            "       Gd\tGood\n",
            "       TA\tTypical - slight dampness allowed\n",
            "       Fa\tFair - dampness or some cracking or settling\n",
            "       Po\tPoor - Severe cracking, settling, or wetness\n",
            "       NA\tNo Basement\n",
            "\t\n",
            "BsmtExposure: Refers to walkout or garden level walls\n",
            "\n",
            "       Gd\tGood Exposure\n",
            "       Av\tAverage Exposure (split levels or foyers typically score average or above)\t\n",
            "       Mn\tMimimum Exposure\n",
            "       No\tNo Exposure\n",
            "       NA\tNo Basement\n",
            "\t\n",
            "BsmtFinType1: Rating of basement finished area\n",
            "\n",
            "       GLQ\tGood Living Quarters\n",
            "       ALQ\tAverage Living Quarters\n",
            "       BLQ\tBelow Average Living Quarters\t\n",
            "       Rec\tAverage Rec Room\n",
            "       LwQ\tLow Quality\n",
            "       Unf\tUnfinshed\n",
            "       NA\tNo Basement\n",
            "\t\t\n",
            "BsmtFinSF1: Type 1 finished square feet\n",
            "\n",
            "BsmtFinType2: Rating of basement finished area (if multiple types)\n",
            "\n",
            "       GLQ\tGood Living Quarters\n",
            "       ALQ\tAverage Living Quarters\n",
            "       BLQ\tBelow Average Living Quarters\t\n",
            "       Rec\tAverage Rec Room\n",
            "       LwQ\tLow Quality\n",
            "       Unf\tUnfinshed\n",
            "       NA\tNo Basement\n",
            "\n",
            "BsmtFinSF2: Type 2 finished square feet\n",
            "\n",
            "BsmtUnfSF: Unfinished square feet of basement area\n",
            "\n",
            "TotalBsmtSF: Total square feet of basement area\n",
            "\n",
            "Heating: Type of heating\n",
            "\t\t\n",
            "       Floor\tFloor Furnace\n",
            "       GasA\tGas forced warm air furnace\n",
            "       GasW\tGas hot water or steam heat\n",
            "       Grav\tGravity furnace\t\n",
            "       OthW\tHot water or steam heat other than gas\n",
            "       Wall\tWall furnace\n",
            "\t\t\n",
            "HeatingQC: Heating quality and condition\n",
            "\n",
            "       Ex\tExcellent\n",
            "       Gd\tGood\n",
            "       TA\tAverage/Typical\n",
            "       Fa\tFair\n",
            "       Po\tPoor\n",
            "\t\t\n",
            "CentralAir: Central air conditioning\n",
            "\n",
            "       N\tNo\n",
            "       Y\tYes\n",
            "\t\t\n",
            "Electrical: Electrical system\n",
            "\n",
            "       SBrkr\tStandard Circuit Breakers & Romex\n",
            "       FuseA\tFuse Box over 60 AMP and all Romex wiring (Average)\t\n",
            "       FuseF\t60 AMP Fuse Box and mostly Romex wiring (Fair)\n",
            "       FuseP\t60 AMP Fuse Box and mostly knob & tube wiring (poor)\n",
            "       Mix\tMixed\n",
            "\t\t\n",
            "1stFlrSF: First Floor square feet\n",
            " \n",
            "2ndFlrSF: Second floor square feet\n",
            "\n",
            "LowQualFinSF: Low quality finished square feet (all floors)\n",
            "\n",
            "GrLivArea: Above grade (ground) living area square feet\n",
            "\n",
            "BsmtFullBath: Basement full bathrooms\n",
            "\n",
            "BsmtHalfBath: Basement half bathrooms\n",
            "\n",
            "FullBath: Full bathrooms above grade\n",
            "\n",
            "HalfBath: Half baths above grade\n",
            "\n",
            "Bedroom: Bedrooms above grade (does NOT include basement bedrooms)\n",
            "\n",
            "Kitchen: Kitchens above grade\n",
            "\n",
            "KitchenQual: Kitchen quality\n",
            "\n",
            "       Ex\tExcellent\n",
            "       Gd\tGood\n",
            "       TA\tTypical/Average\n",
            "       Fa\tFair\n",
            "       Po\tPoor\n",
            "       \t\n",
            "TotRmsAbvGrd: Total rooms above grade (does not include bathrooms)\n",
            "\n",
            "Functional: Home functionality (Assume typical unless deductions are warranted)\n",
            "\n",
            "       Typ\tTypical Functionality\n",
            "       Min1\tMinor Deductions 1\n",
            "       Min2\tMinor Deductions 2\n",
            "       Mod\tModerate Deductions\n",
            "       Maj1\tMajor Deductions 1\n",
            "       Maj2\tMajor Deductions 2\n",
            "       Sev\tSeverely Damaged\n",
            "       Sal\tSalvage only\n",
            "\t\t\n",
            "Fireplaces: Number of fireplaces\n",
            "\n",
            "FireplaceQu: Fireplace quality\n",
            "\n",
            "       Ex\tExcellent - Exceptional Masonry Fireplace\n",
            "       Gd\tGood - Masonry Fireplace in main level\n",
            "       TA\tAverage - Prefabricated Fireplace in main living area or Masonry Fireplace in basement\n",
            "       Fa\tFair - Prefabricated Fireplace in basement\n",
            "       Po\tPoor - Ben Franklin Stove\n",
            "       NA\tNo Fireplace\n",
            "\t\t\n",
            "GarageType: Garage location\n",
            "\t\t\n",
            "       2Types\tMore than one type of garage\n",
            "       Attchd\tAttached to home\n",
            "       Basment\tBasement Garage\n",
            "       BuiltIn\tBuilt-In (Garage part of house - typically has room above garage)\n",
            "       CarPort\tCar Port\n",
            "       Detchd\tDetached from home\n",
            "       NA\tNo Garage\n",
            "\t\t\n",
            "GarageYrBlt: Year garage was built\n",
            "\t\t\n",
            "GarageFinish: Interior finish of the garage\n",
            "\n",
            "       Fin\tFinished\n",
            "       RFn\tRough Finished\t\n",
            "       Unf\tUnfinished\n",
            "       NA\tNo Garage\n",
            "\t\t\n",
            "GarageCars: Size of garage in car capacity\n",
            "\n",
            "GarageArea: Size of garage in square feet\n",
            "\n",
            "GarageQual: Garage quality\n",
            "\n",
            "       Ex\tExcellent\n",
            "       Gd\tGood\n",
            "       TA\tTypical/Average\n",
            "       Fa\tFair\n",
            "       Po\tPoor\n",
            "       NA\tNo Garage\n",
            "\t\t\n",
            "GarageCond: Garage condition\n",
            "\n",
            "       Ex\tExcellent\n",
            "       Gd\tGood\n",
            "       TA\tTypical/Average\n",
            "       Fa\tFair\n",
            "       Po\tPoor\n",
            "       NA\tNo Garage\n",
            "\t\t\n",
            "PavedDrive: Paved driveway\n",
            "\n",
            "       Y\tPaved \n",
            "       P\tPartial Pavement\n",
            "       N\tDirt/Gravel\n",
            "\t\t\n",
            "WoodDeckSF: Wood deck area in square feet\n",
            "\n",
            "OpenPorchSF: Open porch area in square feet\n",
            "\n",
            "EnclosedPorch: Enclosed porch area in square feet\n",
            "\n",
            "3SsnPorch: Three season porch area in square feet\n",
            "\n",
            "ScreenPorch: Screen porch area in square feet\n",
            "\n",
            "PoolArea: Pool area in square feet\n",
            "\n",
            "PoolQC: Pool quality\n",
            "\t\t\n",
            "       Ex\tExcellent\n",
            "       Gd\tGood\n",
            "       TA\tAverage/Typical\n",
            "       Fa\tFair\n",
            "       NA\tNo Pool\n",
            "\t\t\n",
            "Fence: Fence quality\n",
            "\t\t\n",
            "       GdPrv\tGood Privacy\n",
            "       MnPrv\tMinimum Privacy\n",
            "       GdWo\tGood Wood\n",
            "       MnWw\tMinimum Wood/Wire\n",
            "       NA\tNo Fence\n",
            "\t\n",
            "MiscFeature: Miscellaneous feature not covered in other categories\n",
            "\t\t\n",
            "       Elev\tElevator\n",
            "       Gar2\t2nd Garage (if not described in garage section)\n",
            "       Othr\tOther\n",
            "       Shed\tShed (over 100 SF)\n",
            "       TenC\tTennis Court\n",
            "       NA\tNone\n",
            "\t\t\n",
            "MiscVal: $Value of miscellaneous feature\n",
            "\n",
            "MoSold: Month Sold (MM)\n",
            "\n",
            "YrSold: Year Sold (YYYY)\n",
            "\n",
            "SaleType: Type of sale\n",
            "\t\t\n",
            "       WD \tWarranty Deed - Conventional\n",
            "       CWD\tWarranty Deed - Cash\n",
            "       VWD\tWarranty Deed - VA Loan\n",
            "       New\tHome just constructed and sold\n",
            "       COD\tCourt Officer Deed/Estate\n",
            "       Con\tContract 15% Down payment regular terms\n",
            "       ConLw\tContract Low Down payment and low interest\n",
            "       ConLI\tContract Low Interest\n",
            "       ConLD\tContract Low Down\n",
            "       Oth\tOther\n",
            "\t\t\n",
            "SaleCondition: Condition of sale\n",
            "\n",
            "       Normal\tNormal Sale\n",
            "       Abnorml\tAbnormal Sale -  trade, foreclosure, short sale\n",
            "       AdjLand\tAdjoining Land Purchase\n",
            "       Alloca\tAllocation - two linked properties with separate deeds, typically condo with a garage unit\t\n",
            "       Family\tSale between family members\n",
            "       Partial\tHome was not completed when last assessed (associated with New Homes)\n",
            "\n"
          ],
          "name": "stdout"
        }
      ]
    },
    {
      "cell_type": "code",
      "metadata": {
        "id": "DOXicioLCxy_",
        "colab_type": "code",
        "colab": {}
      },
      "source": [
        "categorical = ['MSSubClass', 'MSZoning', 'Street', 'Alley', 'LotShape', 'LandContour', 'Utilities', 'LotConfig', 'LandSlope', \n",
        "               'Neighborhood', 'Condition1', 'Condition2', 'BldgType', 'HouseStyle', 'RoofStyle', 'RoofMatl', 'Exterior1st', \n",
        "               'Exterior2nd', 'MasVnrType', 'ExterQual', 'ExterCond', 'Foundation', 'BsmtQual', 'BsmtCond', 'BsmtExposure', 'BsmtFinType1', \n",
        "               'BsmtFinType2', 'Heating', 'HeatingQC', 'CentralAir', 'Electrical', 'KitchenQual', \n",
        "               'Functional', 'FireplaceQu', 'GarageType', 'GarageFinish', 'GarageQual', 'GarageCond', 'PavedDrive', 'PoolQC',\n",
        "               'Fence', 'MiscFeature', 'MoSold', 'SaleType', 'SaleCondition']"
      ],
      "execution_count": 0,
      "outputs": []
    },
    {
      "cell_type": "code",
      "metadata": {
        "id": "mVt9sikDHKa0",
        "colab_type": "code",
        "outputId": "1e2202d4-0e9d-459c-e93a-08f4210608ef",
        "colab": {
          "base_uri": "https://localhost:8080/",
          "height": 1000
        }
      },
      "source": [
        "for i  in df_train_v3_1.columns:\n",
        "  print(i,': ',df_train_v3_1[i].dtype)"
      ],
      "execution_count": 0,
      "outputs": [
        {
          "output_type": "stream",
          "text": [
            "Id :  int64\n",
            "MSSubClass :  int64\n",
            "MSZoning :  object\n",
            "LotFrontage :  float64\n",
            "LotArea :  int64\n",
            "Street :  object\n",
            "Alley :  object\n",
            "LotShape :  object\n",
            "LandContour :  object\n",
            "Utilities :  object\n",
            "LotConfig :  object\n",
            "LandSlope :  object\n",
            "Neighborhood :  object\n",
            "Condition1 :  object\n",
            "Condition2 :  object\n",
            "BldgType :  object\n",
            "HouseStyle :  object\n",
            "OverallQual :  int64\n",
            "OverallCond :  int64\n",
            "YearBuilt :  int64\n",
            "YearRemodAdd :  int64\n",
            "RoofStyle :  object\n",
            "RoofMatl :  object\n",
            "Exterior1st :  object\n",
            "Exterior2nd :  object\n",
            "MasVnrType :  object\n",
            "MasVnrArea :  float64\n",
            "ExterQual :  object\n",
            "ExterCond :  object\n",
            "Foundation :  object\n",
            "BsmtQual :  object\n",
            "BsmtCond :  object\n",
            "BsmtExposure :  object\n",
            "BsmtFinType1 :  object\n",
            "BsmtFinSF1 :  float64\n",
            "BsmtFinType2 :  object\n",
            "BsmtFinSF2 :  float64\n",
            "BsmtUnfSF :  float64\n",
            "TotalBsmtSF :  float64\n",
            "Heating :  object\n",
            "HeatingQC :  object\n",
            "CentralAir :  object\n",
            "Electrical :  object\n",
            "1stFlrSF :  int64\n",
            "2ndFlrSF :  int64\n",
            "LowQualFinSF :  int64\n",
            "GrLivArea :  int64\n",
            "BsmtFullBath :  object\n",
            "BsmtHalfBath :  object\n",
            "FullBath :  int64\n",
            "HalfBath :  int64\n",
            "BedroomAbvGr :  int64\n",
            "KitchenAbvGr :  int64\n",
            "KitchenQual :  object\n",
            "TotRmsAbvGrd :  int64\n",
            "Functional :  object\n",
            "Fireplaces :  int64\n",
            "FireplaceQu :  object\n",
            "GarageType :  object\n",
            "GarageYrBlt :  float64\n",
            "GarageFinish :  object\n",
            "GarageCars :  float64\n",
            "GarageArea :  float64\n",
            "GarageQual :  object\n",
            "GarageCond :  object\n",
            "PavedDrive :  object\n",
            "WoodDeckSF :  int64\n",
            "OpenPorchSF :  int64\n",
            "EnclosedPorch :  int64\n",
            "3SsnPorch :  int64\n",
            "ScreenPorch :  int64\n",
            "PoolArea :  int64\n",
            "PoolQC :  object\n",
            "Fence :  object\n",
            "MiscFeature :  object\n",
            "MiscVal :  int64\n",
            "MoSold :  int64\n",
            "YrSold :  int64\n",
            "SaleType :  object\n",
            "SaleCondition :  object\n"
          ],
          "name": "stdout"
        }
      ]
    },
    {
      "cell_type": "markdown",
      "metadata": {
        "id": "V2S0_uHhzlhR",
        "colab_type": "text"
      },
      "source": [
        "to sum up, we have now the featured data and using the 'test.csv' Id this entire data can be popped."
      ]
    },
    {
      "cell_type": "code",
      "metadata": {
        "id": "WuAevFF6HHVD",
        "colab_type": "code",
        "outputId": "8ddb72b0-1bb8-4274-bf0f-9ca30a1162e6",
        "colab": {
          "base_uri": "https://localhost:8080/",
          "height": 797
        }
      },
      "source": [
        "df_train_v3_1[categorical] = df_train_v3_1[categorical].astype('O')\n",
        "for i  in df_train_v3_1[categorical]:\n",
        "  print(i,': ',df_train_v3_1[i].dtype)"
      ],
      "execution_count": 0,
      "outputs": [
        {
          "output_type": "stream",
          "text": [
            "MSSubClass :  object\n",
            "MSZoning :  object\n",
            "Street :  object\n",
            "Alley :  object\n",
            "LotShape :  object\n",
            "LandContour :  object\n",
            "Utilities :  object\n",
            "LotConfig :  object\n",
            "LandSlope :  object\n",
            "Neighborhood :  object\n",
            "Condition1 :  object\n",
            "Condition2 :  object\n",
            "BldgType :  object\n",
            "HouseStyle :  object\n",
            "RoofStyle :  object\n",
            "RoofMatl :  object\n",
            "Exterior1st :  object\n",
            "Exterior2nd :  object\n",
            "MasVnrType :  object\n",
            "ExterQual :  object\n",
            "ExterCond :  object\n",
            "Foundation :  object\n",
            "BsmtQual :  object\n",
            "BsmtCond :  object\n",
            "BsmtExposure :  object\n",
            "BsmtFinType1 :  object\n",
            "BsmtFinType2 :  object\n",
            "Heating :  object\n",
            "HeatingQC :  object\n",
            "CentralAir :  object\n",
            "Electrical :  object\n",
            "KitchenQual :  object\n",
            "Functional :  object\n",
            "FireplaceQu :  object\n",
            "GarageType :  object\n",
            "GarageFinish :  object\n",
            "GarageQual :  object\n",
            "GarageCond :  object\n",
            "PavedDrive :  object\n",
            "PoolQC :  object\n",
            "Fence :  object\n",
            "MiscFeature :  object\n",
            "MoSold :  object\n",
            "SaleType :  object\n",
            "SaleCondition :  object\n"
          ],
          "name": "stdout"
        }
      ]
    },
    {
      "cell_type": "code",
      "metadata": {
        "id": "8AMJ3TFGM3H-",
        "colab_type": "code",
        "outputId": "86b7e648-4367-4505-c009-4323691a83e9",
        "colab": {
          "base_uri": "https://localhost:8080/",
          "height": 1000
        }
      },
      "source": [
        "for i  in df_train_v3_1.columns:\n",
        "  print(i,': ',df_train_v3_1[i].dtype)"
      ],
      "execution_count": 0,
      "outputs": [
        {
          "output_type": "stream",
          "text": [
            "Id :  int64\n",
            "MSSubClass :  object\n",
            "MSZoning :  object\n",
            "LotFrontage :  float64\n",
            "LotArea :  int64\n",
            "Street :  object\n",
            "Alley :  object\n",
            "LotShape :  object\n",
            "LandContour :  object\n",
            "Utilities :  object\n",
            "LotConfig :  object\n",
            "LandSlope :  object\n",
            "Neighborhood :  object\n",
            "Condition1 :  object\n",
            "Condition2 :  object\n",
            "BldgType :  object\n",
            "HouseStyle :  object\n",
            "OverallQual :  int64\n",
            "OverallCond :  int64\n",
            "YearBuilt :  int64\n",
            "YearRemodAdd :  int64\n",
            "RoofStyle :  object\n",
            "RoofMatl :  object\n",
            "Exterior1st :  object\n",
            "Exterior2nd :  object\n",
            "MasVnrType :  object\n",
            "MasVnrArea :  float64\n",
            "ExterQual :  object\n",
            "ExterCond :  object\n",
            "Foundation :  object\n",
            "BsmtQual :  object\n",
            "BsmtCond :  object\n",
            "BsmtExposure :  object\n",
            "BsmtFinType1 :  object\n",
            "BsmtFinSF1 :  float64\n",
            "BsmtFinType2 :  object\n",
            "BsmtFinSF2 :  float64\n",
            "BsmtUnfSF :  float64\n",
            "TotalBsmtSF :  float64\n",
            "Heating :  object\n",
            "HeatingQC :  object\n",
            "CentralAir :  object\n",
            "Electrical :  object\n",
            "1stFlrSF :  int64\n",
            "2ndFlrSF :  int64\n",
            "LowQualFinSF :  int64\n",
            "GrLivArea :  int64\n",
            "BsmtFullBath :  object\n",
            "BsmtHalfBath :  object\n",
            "FullBath :  int64\n",
            "HalfBath :  int64\n",
            "BedroomAbvGr :  int64\n",
            "KitchenAbvGr :  int64\n",
            "KitchenQual :  object\n",
            "TotRmsAbvGrd :  int64\n",
            "Functional :  object\n",
            "Fireplaces :  int64\n",
            "FireplaceQu :  object\n",
            "GarageType :  object\n",
            "GarageYrBlt :  float64\n",
            "GarageFinish :  object\n",
            "GarageCars :  float64\n",
            "GarageArea :  float64\n",
            "GarageQual :  object\n",
            "GarageCond :  object\n",
            "PavedDrive :  object\n",
            "WoodDeckSF :  int64\n",
            "OpenPorchSF :  int64\n",
            "EnclosedPorch :  int64\n",
            "3SsnPorch :  int64\n",
            "ScreenPorch :  int64\n",
            "PoolArea :  int64\n",
            "PoolQC :  object\n",
            "Fence :  object\n",
            "MiscFeature :  object\n",
            "MiscVal :  int64\n",
            "MoSold :  object\n",
            "YrSold :  int64\n",
            "SaleType :  object\n",
            "SaleCondition :  object\n"
          ],
          "name": "stdout"
        }
      ]
    },
    {
      "cell_type": "code",
      "metadata": {
        "id": "nQRCAPhY7b6k",
        "colab_type": "code",
        "outputId": "2ff0a1e8-73f4-475a-d3a1-d5d0ef4796c6",
        "colab": {
          "base_uri": "https://localhost:8080/",
          "height": 304
        }
      },
      "source": [
        "df_train_v3_2 = pd.get_dummies(df_train_v3_1, prefix=None, prefix_sep = '_', columns = None, dtype = 'float64' )\n",
        "display(df_train_v3_2.head())\n",
        "print('\\n')\n",
        "display(len(df_train_v3_2))"
      ],
      "execution_count": 0,
      "outputs": [
        {
          "output_type": "display_data",
          "data": {
            "text/html": [
              "<div>\n",
              "<style scoped>\n",
              "    .dataframe tbody tr th:only-of-type {\n",
              "        vertical-align: middle;\n",
              "    }\n",
              "\n",
              "    .dataframe tbody tr th {\n",
              "        vertical-align: top;\n",
              "    }\n",
              "\n",
              "    .dataframe thead th {\n",
              "        text-align: right;\n",
              "    }\n",
              "</style>\n",
              "<table border=\"1\" class=\"dataframe\">\n",
              "  <thead>\n",
              "    <tr style=\"text-align: right;\">\n",
              "      <th></th>\n",
              "      <th>Id</th>\n",
              "      <th>LotFrontage</th>\n",
              "      <th>LotArea</th>\n",
              "      <th>OverallQual</th>\n",
              "      <th>OverallCond</th>\n",
              "      <th>YearBuilt</th>\n",
              "      <th>YearRemodAdd</th>\n",
              "      <th>MasVnrArea</th>\n",
              "      <th>BsmtFinSF1</th>\n",
              "      <th>BsmtFinSF2</th>\n",
              "      <th>BsmtUnfSF</th>\n",
              "      <th>TotalBsmtSF</th>\n",
              "      <th>1stFlrSF</th>\n",
              "      <th>2ndFlrSF</th>\n",
              "      <th>LowQualFinSF</th>\n",
              "      <th>GrLivArea</th>\n",
              "      <th>FullBath</th>\n",
              "      <th>HalfBath</th>\n",
              "      <th>BedroomAbvGr</th>\n",
              "      <th>KitchenAbvGr</th>\n",
              "      <th>TotRmsAbvGrd</th>\n",
              "      <th>Fireplaces</th>\n",
              "      <th>GarageYrBlt</th>\n",
              "      <th>GarageCars</th>\n",
              "      <th>GarageArea</th>\n",
              "      <th>WoodDeckSF</th>\n",
              "      <th>OpenPorchSF</th>\n",
              "      <th>EnclosedPorch</th>\n",
              "      <th>3SsnPorch</th>\n",
              "      <th>ScreenPorch</th>\n",
              "      <th>PoolArea</th>\n",
              "      <th>MiscVal</th>\n",
              "      <th>YrSold</th>\n",
              "      <th>MSSubClass_20</th>\n",
              "      <th>MSSubClass_30</th>\n",
              "      <th>MSSubClass_40</th>\n",
              "      <th>MSSubClass_45</th>\n",
              "      <th>MSSubClass_50</th>\n",
              "      <th>MSSubClass_60</th>\n",
              "      <th>MSSubClass_70</th>\n",
              "      <th>...</th>\n",
              "      <th>PoolQC_Fa</th>\n",
              "      <th>PoolQC_Gd</th>\n",
              "      <th>PoolQC_NA</th>\n",
              "      <th>Fence_GdPrv</th>\n",
              "      <th>Fence_GdWo</th>\n",
              "      <th>Fence_MnPrv</th>\n",
              "      <th>Fence_MnWw</th>\n",
              "      <th>Fence_NA</th>\n",
              "      <th>MiscFeature_Gar2</th>\n",
              "      <th>MiscFeature_NA</th>\n",
              "      <th>MiscFeature_Othr</th>\n",
              "      <th>MiscFeature_Shed</th>\n",
              "      <th>MiscFeature_TenC</th>\n",
              "      <th>MoSold_1</th>\n",
              "      <th>MoSold_2</th>\n",
              "      <th>MoSold_3</th>\n",
              "      <th>MoSold_4</th>\n",
              "      <th>MoSold_5</th>\n",
              "      <th>MoSold_6</th>\n",
              "      <th>MoSold_7</th>\n",
              "      <th>MoSold_8</th>\n",
              "      <th>MoSold_9</th>\n",
              "      <th>MoSold_10</th>\n",
              "      <th>MoSold_11</th>\n",
              "      <th>MoSold_12</th>\n",
              "      <th>SaleType_COD</th>\n",
              "      <th>SaleType_CWD</th>\n",
              "      <th>SaleType_Con</th>\n",
              "      <th>SaleType_ConLD</th>\n",
              "      <th>SaleType_ConLI</th>\n",
              "      <th>SaleType_ConLw</th>\n",
              "      <th>SaleType_New</th>\n",
              "      <th>SaleType_Oth</th>\n",
              "      <th>SaleType_WD</th>\n",
              "      <th>SaleCondition_Abnorml</th>\n",
              "      <th>SaleCondition_AdjLand</th>\n",
              "      <th>SaleCondition_Alloca</th>\n",
              "      <th>SaleCondition_Family</th>\n",
              "      <th>SaleCondition_Normal</th>\n",
              "      <th>SaleCondition_Partial</th>\n",
              "    </tr>\n",
              "  </thead>\n",
              "  <tbody>\n",
              "    <tr>\n",
              "      <th>0</th>\n",
              "      <td>1</td>\n",
              "      <td>65.0</td>\n",
              "      <td>8450</td>\n",
              "      <td>7</td>\n",
              "      <td>5</td>\n",
              "      <td>2003</td>\n",
              "      <td>2003</td>\n",
              "      <td>196.0</td>\n",
              "      <td>706.0</td>\n",
              "      <td>0.0</td>\n",
              "      <td>150.0</td>\n",
              "      <td>856.0</td>\n",
              "      <td>856</td>\n",
              "      <td>854</td>\n",
              "      <td>0</td>\n",
              "      <td>1710</td>\n",
              "      <td>2</td>\n",
              "      <td>1</td>\n",
              "      <td>3</td>\n",
              "      <td>1</td>\n",
              "      <td>8</td>\n",
              "      <td>0</td>\n",
              "      <td>2003.0</td>\n",
              "      <td>2.0</td>\n",
              "      <td>548.0</td>\n",
              "      <td>0</td>\n",
              "      <td>61</td>\n",
              "      <td>0</td>\n",
              "      <td>0</td>\n",
              "      <td>0</td>\n",
              "      <td>0</td>\n",
              "      <td>0</td>\n",
              "      <td>2008</td>\n",
              "      <td>0.0</td>\n",
              "      <td>0.0</td>\n",
              "      <td>0.0</td>\n",
              "      <td>0.0</td>\n",
              "      <td>0.0</td>\n",
              "      <td>1.0</td>\n",
              "      <td>0.0</td>\n",
              "      <td>...</td>\n",
              "      <td>0.0</td>\n",
              "      <td>0.0</td>\n",
              "      <td>1.0</td>\n",
              "      <td>0.0</td>\n",
              "      <td>0.0</td>\n",
              "      <td>0.0</td>\n",
              "      <td>0.0</td>\n",
              "      <td>1.0</td>\n",
              "      <td>0.0</td>\n",
              "      <td>1.0</td>\n",
              "      <td>0.0</td>\n",
              "      <td>0.0</td>\n",
              "      <td>0.0</td>\n",
              "      <td>0.0</td>\n",
              "      <td>1.0</td>\n",
              "      <td>0.0</td>\n",
              "      <td>0.0</td>\n",
              "      <td>0.0</td>\n",
              "      <td>0.0</td>\n",
              "      <td>0.0</td>\n",
              "      <td>0.0</td>\n",
              "      <td>0.0</td>\n",
              "      <td>0.0</td>\n",
              "      <td>0.0</td>\n",
              "      <td>0.0</td>\n",
              "      <td>0.0</td>\n",
              "      <td>0.0</td>\n",
              "      <td>0.0</td>\n",
              "      <td>0.0</td>\n",
              "      <td>0.0</td>\n",
              "      <td>0.0</td>\n",
              "      <td>0.0</td>\n",
              "      <td>0.0</td>\n",
              "      <td>1.0</td>\n",
              "      <td>0.0</td>\n",
              "      <td>0.0</td>\n",
              "      <td>0.0</td>\n",
              "      <td>0.0</td>\n",
              "      <td>1.0</td>\n",
              "      <td>0.0</td>\n",
              "    </tr>\n",
              "    <tr>\n",
              "      <th>1</th>\n",
              "      <td>2</td>\n",
              "      <td>80.0</td>\n",
              "      <td>9600</td>\n",
              "      <td>6</td>\n",
              "      <td>8</td>\n",
              "      <td>1976</td>\n",
              "      <td>1976</td>\n",
              "      <td>0.0</td>\n",
              "      <td>978.0</td>\n",
              "      <td>0.0</td>\n",
              "      <td>284.0</td>\n",
              "      <td>1262.0</td>\n",
              "      <td>1262</td>\n",
              "      <td>0</td>\n",
              "      <td>0</td>\n",
              "      <td>1262</td>\n",
              "      <td>2</td>\n",
              "      <td>0</td>\n",
              "      <td>3</td>\n",
              "      <td>1</td>\n",
              "      <td>6</td>\n",
              "      <td>1</td>\n",
              "      <td>1976.0</td>\n",
              "      <td>2.0</td>\n",
              "      <td>460.0</td>\n",
              "      <td>298</td>\n",
              "      <td>0</td>\n",
              "      <td>0</td>\n",
              "      <td>0</td>\n",
              "      <td>0</td>\n",
              "      <td>0</td>\n",
              "      <td>0</td>\n",
              "      <td>2007</td>\n",
              "      <td>1.0</td>\n",
              "      <td>0.0</td>\n",
              "      <td>0.0</td>\n",
              "      <td>0.0</td>\n",
              "      <td>0.0</td>\n",
              "      <td>0.0</td>\n",
              "      <td>0.0</td>\n",
              "      <td>...</td>\n",
              "      <td>0.0</td>\n",
              "      <td>0.0</td>\n",
              "      <td>1.0</td>\n",
              "      <td>0.0</td>\n",
              "      <td>0.0</td>\n",
              "      <td>0.0</td>\n",
              "      <td>0.0</td>\n",
              "      <td>1.0</td>\n",
              "      <td>0.0</td>\n",
              "      <td>1.0</td>\n",
              "      <td>0.0</td>\n",
              "      <td>0.0</td>\n",
              "      <td>0.0</td>\n",
              "      <td>0.0</td>\n",
              "      <td>0.0</td>\n",
              "      <td>0.0</td>\n",
              "      <td>0.0</td>\n",
              "      <td>1.0</td>\n",
              "      <td>0.0</td>\n",
              "      <td>0.0</td>\n",
              "      <td>0.0</td>\n",
              "      <td>0.0</td>\n",
              "      <td>0.0</td>\n",
              "      <td>0.0</td>\n",
              "      <td>0.0</td>\n",
              "      <td>0.0</td>\n",
              "      <td>0.0</td>\n",
              "      <td>0.0</td>\n",
              "      <td>0.0</td>\n",
              "      <td>0.0</td>\n",
              "      <td>0.0</td>\n",
              "      <td>0.0</td>\n",
              "      <td>0.0</td>\n",
              "      <td>1.0</td>\n",
              "      <td>0.0</td>\n",
              "      <td>0.0</td>\n",
              "      <td>0.0</td>\n",
              "      <td>0.0</td>\n",
              "      <td>1.0</td>\n",
              "      <td>0.0</td>\n",
              "    </tr>\n",
              "    <tr>\n",
              "      <th>2</th>\n",
              "      <td>3</td>\n",
              "      <td>68.0</td>\n",
              "      <td>11250</td>\n",
              "      <td>7</td>\n",
              "      <td>5</td>\n",
              "      <td>2001</td>\n",
              "      <td>2002</td>\n",
              "      <td>162.0</td>\n",
              "      <td>486.0</td>\n",
              "      <td>0.0</td>\n",
              "      <td>434.0</td>\n",
              "      <td>920.0</td>\n",
              "      <td>920</td>\n",
              "      <td>866</td>\n",
              "      <td>0</td>\n",
              "      <td>1786</td>\n",
              "      <td>2</td>\n",
              "      <td>1</td>\n",
              "      <td>3</td>\n",
              "      <td>1</td>\n",
              "      <td>6</td>\n",
              "      <td>1</td>\n",
              "      <td>2001.0</td>\n",
              "      <td>2.0</td>\n",
              "      <td>608.0</td>\n",
              "      <td>0</td>\n",
              "      <td>42</td>\n",
              "      <td>0</td>\n",
              "      <td>0</td>\n",
              "      <td>0</td>\n",
              "      <td>0</td>\n",
              "      <td>0</td>\n",
              "      <td>2008</td>\n",
              "      <td>0.0</td>\n",
              "      <td>0.0</td>\n",
              "      <td>0.0</td>\n",
              "      <td>0.0</td>\n",
              "      <td>0.0</td>\n",
              "      <td>1.0</td>\n",
              "      <td>0.0</td>\n",
              "      <td>...</td>\n",
              "      <td>0.0</td>\n",
              "      <td>0.0</td>\n",
              "      <td>1.0</td>\n",
              "      <td>0.0</td>\n",
              "      <td>0.0</td>\n",
              "      <td>0.0</td>\n",
              "      <td>0.0</td>\n",
              "      <td>1.0</td>\n",
              "      <td>0.0</td>\n",
              "      <td>1.0</td>\n",
              "      <td>0.0</td>\n",
              "      <td>0.0</td>\n",
              "      <td>0.0</td>\n",
              "      <td>0.0</td>\n",
              "      <td>0.0</td>\n",
              "      <td>0.0</td>\n",
              "      <td>0.0</td>\n",
              "      <td>0.0</td>\n",
              "      <td>0.0</td>\n",
              "      <td>0.0</td>\n",
              "      <td>0.0</td>\n",
              "      <td>1.0</td>\n",
              "      <td>0.0</td>\n",
              "      <td>0.0</td>\n",
              "      <td>0.0</td>\n",
              "      <td>0.0</td>\n",
              "      <td>0.0</td>\n",
              "      <td>0.0</td>\n",
              "      <td>0.0</td>\n",
              "      <td>0.0</td>\n",
              "      <td>0.0</td>\n",
              "      <td>0.0</td>\n",
              "      <td>0.0</td>\n",
              "      <td>1.0</td>\n",
              "      <td>0.0</td>\n",
              "      <td>0.0</td>\n",
              "      <td>0.0</td>\n",
              "      <td>0.0</td>\n",
              "      <td>1.0</td>\n",
              "      <td>0.0</td>\n",
              "    </tr>\n",
              "    <tr>\n",
              "      <th>3</th>\n",
              "      <td>4</td>\n",
              "      <td>60.0</td>\n",
              "      <td>9550</td>\n",
              "      <td>7</td>\n",
              "      <td>5</td>\n",
              "      <td>1915</td>\n",
              "      <td>1970</td>\n",
              "      <td>0.0</td>\n",
              "      <td>216.0</td>\n",
              "      <td>0.0</td>\n",
              "      <td>540.0</td>\n",
              "      <td>756.0</td>\n",
              "      <td>961</td>\n",
              "      <td>756</td>\n",
              "      <td>0</td>\n",
              "      <td>1717</td>\n",
              "      <td>1</td>\n",
              "      <td>0</td>\n",
              "      <td>3</td>\n",
              "      <td>1</td>\n",
              "      <td>7</td>\n",
              "      <td>1</td>\n",
              "      <td>1998.0</td>\n",
              "      <td>3.0</td>\n",
              "      <td>642.0</td>\n",
              "      <td>0</td>\n",
              "      <td>35</td>\n",
              "      <td>272</td>\n",
              "      <td>0</td>\n",
              "      <td>0</td>\n",
              "      <td>0</td>\n",
              "      <td>0</td>\n",
              "      <td>2006</td>\n",
              "      <td>0.0</td>\n",
              "      <td>0.0</td>\n",
              "      <td>0.0</td>\n",
              "      <td>0.0</td>\n",
              "      <td>0.0</td>\n",
              "      <td>0.0</td>\n",
              "      <td>1.0</td>\n",
              "      <td>...</td>\n",
              "      <td>0.0</td>\n",
              "      <td>0.0</td>\n",
              "      <td>1.0</td>\n",
              "      <td>0.0</td>\n",
              "      <td>0.0</td>\n",
              "      <td>0.0</td>\n",
              "      <td>0.0</td>\n",
              "      <td>1.0</td>\n",
              "      <td>0.0</td>\n",
              "      <td>1.0</td>\n",
              "      <td>0.0</td>\n",
              "      <td>0.0</td>\n",
              "      <td>0.0</td>\n",
              "      <td>0.0</td>\n",
              "      <td>1.0</td>\n",
              "      <td>0.0</td>\n",
              "      <td>0.0</td>\n",
              "      <td>0.0</td>\n",
              "      <td>0.0</td>\n",
              "      <td>0.0</td>\n",
              "      <td>0.0</td>\n",
              "      <td>0.0</td>\n",
              "      <td>0.0</td>\n",
              "      <td>0.0</td>\n",
              "      <td>0.0</td>\n",
              "      <td>0.0</td>\n",
              "      <td>0.0</td>\n",
              "      <td>0.0</td>\n",
              "      <td>0.0</td>\n",
              "      <td>0.0</td>\n",
              "      <td>0.0</td>\n",
              "      <td>0.0</td>\n",
              "      <td>0.0</td>\n",
              "      <td>1.0</td>\n",
              "      <td>1.0</td>\n",
              "      <td>0.0</td>\n",
              "      <td>0.0</td>\n",
              "      <td>0.0</td>\n",
              "      <td>0.0</td>\n",
              "      <td>0.0</td>\n",
              "    </tr>\n",
              "    <tr>\n",
              "      <th>4</th>\n",
              "      <td>5</td>\n",
              "      <td>84.0</td>\n",
              "      <td>14260</td>\n",
              "      <td>8</td>\n",
              "      <td>5</td>\n",
              "      <td>2000</td>\n",
              "      <td>2000</td>\n",
              "      <td>350.0</td>\n",
              "      <td>655.0</td>\n",
              "      <td>0.0</td>\n",
              "      <td>490.0</td>\n",
              "      <td>1145.0</td>\n",
              "      <td>1145</td>\n",
              "      <td>1053</td>\n",
              "      <td>0</td>\n",
              "      <td>2198</td>\n",
              "      <td>2</td>\n",
              "      <td>1</td>\n",
              "      <td>4</td>\n",
              "      <td>1</td>\n",
              "      <td>9</td>\n",
              "      <td>1</td>\n",
              "      <td>2000.0</td>\n",
              "      <td>3.0</td>\n",
              "      <td>836.0</td>\n",
              "      <td>192</td>\n",
              "      <td>84</td>\n",
              "      <td>0</td>\n",
              "      <td>0</td>\n",
              "      <td>0</td>\n",
              "      <td>0</td>\n",
              "      <td>0</td>\n",
              "      <td>2008</td>\n",
              "      <td>0.0</td>\n",
              "      <td>0.0</td>\n",
              "      <td>0.0</td>\n",
              "      <td>0.0</td>\n",
              "      <td>0.0</td>\n",
              "      <td>1.0</td>\n",
              "      <td>0.0</td>\n",
              "      <td>...</td>\n",
              "      <td>0.0</td>\n",
              "      <td>0.0</td>\n",
              "      <td>1.0</td>\n",
              "      <td>0.0</td>\n",
              "      <td>0.0</td>\n",
              "      <td>0.0</td>\n",
              "      <td>0.0</td>\n",
              "      <td>1.0</td>\n",
              "      <td>0.0</td>\n",
              "      <td>1.0</td>\n",
              "      <td>0.0</td>\n",
              "      <td>0.0</td>\n",
              "      <td>0.0</td>\n",
              "      <td>0.0</td>\n",
              "      <td>0.0</td>\n",
              "      <td>0.0</td>\n",
              "      <td>0.0</td>\n",
              "      <td>0.0</td>\n",
              "      <td>0.0</td>\n",
              "      <td>0.0</td>\n",
              "      <td>0.0</td>\n",
              "      <td>0.0</td>\n",
              "      <td>0.0</td>\n",
              "      <td>0.0</td>\n",
              "      <td>1.0</td>\n",
              "      <td>0.0</td>\n",
              "      <td>0.0</td>\n",
              "      <td>0.0</td>\n",
              "      <td>0.0</td>\n",
              "      <td>0.0</td>\n",
              "      <td>0.0</td>\n",
              "      <td>0.0</td>\n",
              "      <td>0.0</td>\n",
              "      <td>1.0</td>\n",
              "      <td>0.0</td>\n",
              "      <td>0.0</td>\n",
              "      <td>0.0</td>\n",
              "      <td>0.0</td>\n",
              "      <td>1.0</td>\n",
              "      <td>0.0</td>\n",
              "    </tr>\n",
              "  </tbody>\n",
              "</table>\n",
              "<p>5 rows × 336 columns</p>\n",
              "</div>"
            ],
            "text/plain": [
              "   Id  LotFrontage  ...  SaleCondition_Normal  SaleCondition_Partial\n",
              "0   1         65.0  ...                   1.0                    0.0\n",
              "1   2         80.0  ...                   1.0                    0.0\n",
              "2   3         68.0  ...                   1.0                    0.0\n",
              "3   4         60.0  ...                   0.0                    0.0\n",
              "4   5         84.0  ...                   1.0                    0.0\n",
              "\n",
              "[5 rows x 336 columns]"
            ]
          },
          "metadata": {
            "tags": []
          }
        },
        {
          "output_type": "stream",
          "text": [
            "\n",
            "\n"
          ],
          "name": "stdout"
        },
        {
          "output_type": "display_data",
          "data": {
            "text/plain": [
              "2919"
            ]
          },
          "metadata": {
            "tags": []
          }
        }
      ]
    },
    {
      "cell_type": "code",
      "metadata": {
        "id": "yUkHs0zcy4it",
        "colab_type": "code",
        "outputId": "c10f0708-2ab3-4692-847a-e8d66e84eb8a",
        "colab": {
          "base_uri": "https://localhost:8080/",
          "height": 69
        }
      },
      "source": [
        "#rebuilding the data for prediction\n",
        "x_predict_ids.head(2)\n"
      ],
      "execution_count": 0,
      "outputs": [
        {
          "output_type": "execute_result",
          "data": {
            "text/plain": [
              "0    1461\n",
              "1    1462\n",
              "Name: Id, dtype: int64"
            ]
          },
          "metadata": {
            "tags": []
          },
          "execution_count": 102
        }
      ]
    },
    {
      "cell_type": "code",
      "metadata": {
        "id": "pbQ5SzAgzjYI",
        "colab_type": "code",
        "outputId": "232ca0d3-8104-4cc6-f5ce-6f6388c87acf",
        "colab": {
          "base_uri": "https://localhost:8080/",
          "height": 252
        }
      },
      "source": [
        "x_predict = df_train_v3_2[1460:].copy()\n",
        "x_predict.head()"
      ],
      "execution_count": 0,
      "outputs": [
        {
          "output_type": "execute_result",
          "data": {
            "text/html": [
              "<div>\n",
              "<style scoped>\n",
              "    .dataframe tbody tr th:only-of-type {\n",
              "        vertical-align: middle;\n",
              "    }\n",
              "\n",
              "    .dataframe tbody tr th {\n",
              "        vertical-align: top;\n",
              "    }\n",
              "\n",
              "    .dataframe thead th {\n",
              "        text-align: right;\n",
              "    }\n",
              "</style>\n",
              "<table border=\"1\" class=\"dataframe\">\n",
              "  <thead>\n",
              "    <tr style=\"text-align: right;\">\n",
              "      <th></th>\n",
              "      <th>Id</th>\n",
              "      <th>LotFrontage</th>\n",
              "      <th>LotArea</th>\n",
              "      <th>OverallQual</th>\n",
              "      <th>OverallCond</th>\n",
              "      <th>YearBuilt</th>\n",
              "      <th>YearRemodAdd</th>\n",
              "      <th>MasVnrArea</th>\n",
              "      <th>BsmtFinSF1</th>\n",
              "      <th>BsmtFinSF2</th>\n",
              "      <th>BsmtUnfSF</th>\n",
              "      <th>TotalBsmtSF</th>\n",
              "      <th>1stFlrSF</th>\n",
              "      <th>2ndFlrSF</th>\n",
              "      <th>LowQualFinSF</th>\n",
              "      <th>GrLivArea</th>\n",
              "      <th>FullBath</th>\n",
              "      <th>HalfBath</th>\n",
              "      <th>BedroomAbvGr</th>\n",
              "      <th>KitchenAbvGr</th>\n",
              "      <th>TotRmsAbvGrd</th>\n",
              "      <th>Fireplaces</th>\n",
              "      <th>GarageYrBlt</th>\n",
              "      <th>GarageCars</th>\n",
              "      <th>GarageArea</th>\n",
              "      <th>WoodDeckSF</th>\n",
              "      <th>OpenPorchSF</th>\n",
              "      <th>EnclosedPorch</th>\n",
              "      <th>3SsnPorch</th>\n",
              "      <th>ScreenPorch</th>\n",
              "      <th>PoolArea</th>\n",
              "      <th>MiscVal</th>\n",
              "      <th>YrSold</th>\n",
              "      <th>MSSubClass_20</th>\n",
              "      <th>MSSubClass_30</th>\n",
              "      <th>MSSubClass_40</th>\n",
              "      <th>MSSubClass_45</th>\n",
              "      <th>MSSubClass_50</th>\n",
              "      <th>MSSubClass_60</th>\n",
              "      <th>MSSubClass_70</th>\n",
              "      <th>...</th>\n",
              "      <th>PoolQC_Fa</th>\n",
              "      <th>PoolQC_Gd</th>\n",
              "      <th>PoolQC_NA</th>\n",
              "      <th>Fence_GdPrv</th>\n",
              "      <th>Fence_GdWo</th>\n",
              "      <th>Fence_MnPrv</th>\n",
              "      <th>Fence_MnWw</th>\n",
              "      <th>Fence_NA</th>\n",
              "      <th>MiscFeature_Gar2</th>\n",
              "      <th>MiscFeature_NA</th>\n",
              "      <th>MiscFeature_Othr</th>\n",
              "      <th>MiscFeature_Shed</th>\n",
              "      <th>MiscFeature_TenC</th>\n",
              "      <th>MoSold_1</th>\n",
              "      <th>MoSold_2</th>\n",
              "      <th>MoSold_3</th>\n",
              "      <th>MoSold_4</th>\n",
              "      <th>MoSold_5</th>\n",
              "      <th>MoSold_6</th>\n",
              "      <th>MoSold_7</th>\n",
              "      <th>MoSold_8</th>\n",
              "      <th>MoSold_9</th>\n",
              "      <th>MoSold_10</th>\n",
              "      <th>MoSold_11</th>\n",
              "      <th>MoSold_12</th>\n",
              "      <th>SaleType_COD</th>\n",
              "      <th>SaleType_CWD</th>\n",
              "      <th>SaleType_Con</th>\n",
              "      <th>SaleType_ConLD</th>\n",
              "      <th>SaleType_ConLI</th>\n",
              "      <th>SaleType_ConLw</th>\n",
              "      <th>SaleType_New</th>\n",
              "      <th>SaleType_Oth</th>\n",
              "      <th>SaleType_WD</th>\n",
              "      <th>SaleCondition_Abnorml</th>\n",
              "      <th>SaleCondition_AdjLand</th>\n",
              "      <th>SaleCondition_Alloca</th>\n",
              "      <th>SaleCondition_Family</th>\n",
              "      <th>SaleCondition_Normal</th>\n",
              "      <th>SaleCondition_Partial</th>\n",
              "    </tr>\n",
              "  </thead>\n",
              "  <tbody>\n",
              "    <tr>\n",
              "      <th>0</th>\n",
              "      <td>1461</td>\n",
              "      <td>80.0</td>\n",
              "      <td>11622</td>\n",
              "      <td>5</td>\n",
              "      <td>6</td>\n",
              "      <td>1961</td>\n",
              "      <td>1961</td>\n",
              "      <td>0.0</td>\n",
              "      <td>468.0</td>\n",
              "      <td>144.0</td>\n",
              "      <td>270.0</td>\n",
              "      <td>882.0</td>\n",
              "      <td>896</td>\n",
              "      <td>0</td>\n",
              "      <td>0</td>\n",
              "      <td>896</td>\n",
              "      <td>1</td>\n",
              "      <td>0</td>\n",
              "      <td>2</td>\n",
              "      <td>1</td>\n",
              "      <td>5</td>\n",
              "      <td>0</td>\n",
              "      <td>1961.0</td>\n",
              "      <td>1.0</td>\n",
              "      <td>730.0</td>\n",
              "      <td>140</td>\n",
              "      <td>0</td>\n",
              "      <td>0</td>\n",
              "      <td>0</td>\n",
              "      <td>120</td>\n",
              "      <td>0</td>\n",
              "      <td>0</td>\n",
              "      <td>2010</td>\n",
              "      <td>1.0</td>\n",
              "      <td>0.0</td>\n",
              "      <td>0.0</td>\n",
              "      <td>0.0</td>\n",
              "      <td>0.0</td>\n",
              "      <td>0.0</td>\n",
              "      <td>0.0</td>\n",
              "      <td>...</td>\n",
              "      <td>0.0</td>\n",
              "      <td>0.0</td>\n",
              "      <td>1.0</td>\n",
              "      <td>0.0</td>\n",
              "      <td>0.0</td>\n",
              "      <td>1.0</td>\n",
              "      <td>0.0</td>\n",
              "      <td>0.0</td>\n",
              "      <td>0.0</td>\n",
              "      <td>1.0</td>\n",
              "      <td>0.0</td>\n",
              "      <td>0.0</td>\n",
              "      <td>0.0</td>\n",
              "      <td>0.0</td>\n",
              "      <td>0.0</td>\n",
              "      <td>0.0</td>\n",
              "      <td>0.0</td>\n",
              "      <td>0.0</td>\n",
              "      <td>1.0</td>\n",
              "      <td>0.0</td>\n",
              "      <td>0.0</td>\n",
              "      <td>0.0</td>\n",
              "      <td>0.0</td>\n",
              "      <td>0.0</td>\n",
              "      <td>0.0</td>\n",
              "      <td>0.0</td>\n",
              "      <td>0.0</td>\n",
              "      <td>0.0</td>\n",
              "      <td>0.0</td>\n",
              "      <td>0.0</td>\n",
              "      <td>0.0</td>\n",
              "      <td>0.0</td>\n",
              "      <td>0.0</td>\n",
              "      <td>1.0</td>\n",
              "      <td>0.0</td>\n",
              "      <td>0.0</td>\n",
              "      <td>0.0</td>\n",
              "      <td>0.0</td>\n",
              "      <td>1.0</td>\n",
              "      <td>0.0</td>\n",
              "    </tr>\n",
              "    <tr>\n",
              "      <th>1</th>\n",
              "      <td>1462</td>\n",
              "      <td>81.0</td>\n",
              "      <td>14267</td>\n",
              "      <td>6</td>\n",
              "      <td>6</td>\n",
              "      <td>1958</td>\n",
              "      <td>1958</td>\n",
              "      <td>108.0</td>\n",
              "      <td>923.0</td>\n",
              "      <td>0.0</td>\n",
              "      <td>406.0</td>\n",
              "      <td>1329.0</td>\n",
              "      <td>1329</td>\n",
              "      <td>0</td>\n",
              "      <td>0</td>\n",
              "      <td>1329</td>\n",
              "      <td>1</td>\n",
              "      <td>1</td>\n",
              "      <td>3</td>\n",
              "      <td>1</td>\n",
              "      <td>6</td>\n",
              "      <td>0</td>\n",
              "      <td>1958.0</td>\n",
              "      <td>1.0</td>\n",
              "      <td>312.0</td>\n",
              "      <td>393</td>\n",
              "      <td>36</td>\n",
              "      <td>0</td>\n",
              "      <td>0</td>\n",
              "      <td>0</td>\n",
              "      <td>0</td>\n",
              "      <td>12500</td>\n",
              "      <td>2010</td>\n",
              "      <td>1.0</td>\n",
              "      <td>0.0</td>\n",
              "      <td>0.0</td>\n",
              "      <td>0.0</td>\n",
              "      <td>0.0</td>\n",
              "      <td>0.0</td>\n",
              "      <td>0.0</td>\n",
              "      <td>...</td>\n",
              "      <td>0.0</td>\n",
              "      <td>0.0</td>\n",
              "      <td>1.0</td>\n",
              "      <td>0.0</td>\n",
              "      <td>0.0</td>\n",
              "      <td>0.0</td>\n",
              "      <td>0.0</td>\n",
              "      <td>1.0</td>\n",
              "      <td>1.0</td>\n",
              "      <td>0.0</td>\n",
              "      <td>0.0</td>\n",
              "      <td>0.0</td>\n",
              "      <td>0.0</td>\n",
              "      <td>0.0</td>\n",
              "      <td>0.0</td>\n",
              "      <td>0.0</td>\n",
              "      <td>0.0</td>\n",
              "      <td>0.0</td>\n",
              "      <td>1.0</td>\n",
              "      <td>0.0</td>\n",
              "      <td>0.0</td>\n",
              "      <td>0.0</td>\n",
              "      <td>0.0</td>\n",
              "      <td>0.0</td>\n",
              "      <td>0.0</td>\n",
              "      <td>0.0</td>\n",
              "      <td>0.0</td>\n",
              "      <td>0.0</td>\n",
              "      <td>0.0</td>\n",
              "      <td>0.0</td>\n",
              "      <td>0.0</td>\n",
              "      <td>0.0</td>\n",
              "      <td>0.0</td>\n",
              "      <td>1.0</td>\n",
              "      <td>0.0</td>\n",
              "      <td>0.0</td>\n",
              "      <td>0.0</td>\n",
              "      <td>0.0</td>\n",
              "      <td>1.0</td>\n",
              "      <td>0.0</td>\n",
              "    </tr>\n",
              "    <tr>\n",
              "      <th>2</th>\n",
              "      <td>1463</td>\n",
              "      <td>74.0</td>\n",
              "      <td>13830</td>\n",
              "      <td>5</td>\n",
              "      <td>5</td>\n",
              "      <td>1997</td>\n",
              "      <td>1998</td>\n",
              "      <td>0.0</td>\n",
              "      <td>791.0</td>\n",
              "      <td>0.0</td>\n",
              "      <td>137.0</td>\n",
              "      <td>928.0</td>\n",
              "      <td>928</td>\n",
              "      <td>701</td>\n",
              "      <td>0</td>\n",
              "      <td>1629</td>\n",
              "      <td>2</td>\n",
              "      <td>1</td>\n",
              "      <td>3</td>\n",
              "      <td>1</td>\n",
              "      <td>6</td>\n",
              "      <td>1</td>\n",
              "      <td>1997.0</td>\n",
              "      <td>2.0</td>\n",
              "      <td>482.0</td>\n",
              "      <td>212</td>\n",
              "      <td>34</td>\n",
              "      <td>0</td>\n",
              "      <td>0</td>\n",
              "      <td>0</td>\n",
              "      <td>0</td>\n",
              "      <td>0</td>\n",
              "      <td>2010</td>\n",
              "      <td>0.0</td>\n",
              "      <td>0.0</td>\n",
              "      <td>0.0</td>\n",
              "      <td>0.0</td>\n",
              "      <td>0.0</td>\n",
              "      <td>1.0</td>\n",
              "      <td>0.0</td>\n",
              "      <td>...</td>\n",
              "      <td>0.0</td>\n",
              "      <td>0.0</td>\n",
              "      <td>1.0</td>\n",
              "      <td>0.0</td>\n",
              "      <td>0.0</td>\n",
              "      <td>1.0</td>\n",
              "      <td>0.0</td>\n",
              "      <td>0.0</td>\n",
              "      <td>0.0</td>\n",
              "      <td>1.0</td>\n",
              "      <td>0.0</td>\n",
              "      <td>0.0</td>\n",
              "      <td>0.0</td>\n",
              "      <td>0.0</td>\n",
              "      <td>0.0</td>\n",
              "      <td>1.0</td>\n",
              "      <td>0.0</td>\n",
              "      <td>0.0</td>\n",
              "      <td>0.0</td>\n",
              "      <td>0.0</td>\n",
              "      <td>0.0</td>\n",
              "      <td>0.0</td>\n",
              "      <td>0.0</td>\n",
              "      <td>0.0</td>\n",
              "      <td>0.0</td>\n",
              "      <td>0.0</td>\n",
              "      <td>0.0</td>\n",
              "      <td>0.0</td>\n",
              "      <td>0.0</td>\n",
              "      <td>0.0</td>\n",
              "      <td>0.0</td>\n",
              "      <td>0.0</td>\n",
              "      <td>0.0</td>\n",
              "      <td>1.0</td>\n",
              "      <td>0.0</td>\n",
              "      <td>0.0</td>\n",
              "      <td>0.0</td>\n",
              "      <td>0.0</td>\n",
              "      <td>1.0</td>\n",
              "      <td>0.0</td>\n",
              "    </tr>\n",
              "    <tr>\n",
              "      <th>3</th>\n",
              "      <td>1464</td>\n",
              "      <td>78.0</td>\n",
              "      <td>9978</td>\n",
              "      <td>6</td>\n",
              "      <td>6</td>\n",
              "      <td>1998</td>\n",
              "      <td>1998</td>\n",
              "      <td>20.0</td>\n",
              "      <td>602.0</td>\n",
              "      <td>0.0</td>\n",
              "      <td>324.0</td>\n",
              "      <td>926.0</td>\n",
              "      <td>926</td>\n",
              "      <td>678</td>\n",
              "      <td>0</td>\n",
              "      <td>1604</td>\n",
              "      <td>2</td>\n",
              "      <td>1</td>\n",
              "      <td>3</td>\n",
              "      <td>1</td>\n",
              "      <td>7</td>\n",
              "      <td>1</td>\n",
              "      <td>1998.0</td>\n",
              "      <td>2.0</td>\n",
              "      <td>470.0</td>\n",
              "      <td>360</td>\n",
              "      <td>36</td>\n",
              "      <td>0</td>\n",
              "      <td>0</td>\n",
              "      <td>0</td>\n",
              "      <td>0</td>\n",
              "      <td>0</td>\n",
              "      <td>2010</td>\n",
              "      <td>0.0</td>\n",
              "      <td>0.0</td>\n",
              "      <td>0.0</td>\n",
              "      <td>0.0</td>\n",
              "      <td>0.0</td>\n",
              "      <td>1.0</td>\n",
              "      <td>0.0</td>\n",
              "      <td>...</td>\n",
              "      <td>0.0</td>\n",
              "      <td>0.0</td>\n",
              "      <td>1.0</td>\n",
              "      <td>0.0</td>\n",
              "      <td>0.0</td>\n",
              "      <td>0.0</td>\n",
              "      <td>0.0</td>\n",
              "      <td>1.0</td>\n",
              "      <td>0.0</td>\n",
              "      <td>1.0</td>\n",
              "      <td>0.0</td>\n",
              "      <td>0.0</td>\n",
              "      <td>0.0</td>\n",
              "      <td>0.0</td>\n",
              "      <td>0.0</td>\n",
              "      <td>0.0</td>\n",
              "      <td>0.0</td>\n",
              "      <td>0.0</td>\n",
              "      <td>1.0</td>\n",
              "      <td>0.0</td>\n",
              "      <td>0.0</td>\n",
              "      <td>0.0</td>\n",
              "      <td>0.0</td>\n",
              "      <td>0.0</td>\n",
              "      <td>0.0</td>\n",
              "      <td>0.0</td>\n",
              "      <td>0.0</td>\n",
              "      <td>0.0</td>\n",
              "      <td>0.0</td>\n",
              "      <td>0.0</td>\n",
              "      <td>0.0</td>\n",
              "      <td>0.0</td>\n",
              "      <td>0.0</td>\n",
              "      <td>1.0</td>\n",
              "      <td>0.0</td>\n",
              "      <td>0.0</td>\n",
              "      <td>0.0</td>\n",
              "      <td>0.0</td>\n",
              "      <td>1.0</td>\n",
              "      <td>0.0</td>\n",
              "    </tr>\n",
              "    <tr>\n",
              "      <th>4</th>\n",
              "      <td>1465</td>\n",
              "      <td>43.0</td>\n",
              "      <td>5005</td>\n",
              "      <td>8</td>\n",
              "      <td>5</td>\n",
              "      <td>1992</td>\n",
              "      <td>1992</td>\n",
              "      <td>0.0</td>\n",
              "      <td>263.0</td>\n",
              "      <td>0.0</td>\n",
              "      <td>1017.0</td>\n",
              "      <td>1280.0</td>\n",
              "      <td>1280</td>\n",
              "      <td>0</td>\n",
              "      <td>0</td>\n",
              "      <td>1280</td>\n",
              "      <td>2</td>\n",
              "      <td>0</td>\n",
              "      <td>2</td>\n",
              "      <td>1</td>\n",
              "      <td>5</td>\n",
              "      <td>0</td>\n",
              "      <td>1992.0</td>\n",
              "      <td>2.0</td>\n",
              "      <td>506.0</td>\n",
              "      <td>0</td>\n",
              "      <td>82</td>\n",
              "      <td>0</td>\n",
              "      <td>0</td>\n",
              "      <td>144</td>\n",
              "      <td>0</td>\n",
              "      <td>0</td>\n",
              "      <td>2010</td>\n",
              "      <td>0.0</td>\n",
              "      <td>0.0</td>\n",
              "      <td>0.0</td>\n",
              "      <td>0.0</td>\n",
              "      <td>0.0</td>\n",
              "      <td>0.0</td>\n",
              "      <td>0.0</td>\n",
              "      <td>...</td>\n",
              "      <td>0.0</td>\n",
              "      <td>0.0</td>\n",
              "      <td>1.0</td>\n",
              "      <td>0.0</td>\n",
              "      <td>0.0</td>\n",
              "      <td>0.0</td>\n",
              "      <td>0.0</td>\n",
              "      <td>1.0</td>\n",
              "      <td>0.0</td>\n",
              "      <td>1.0</td>\n",
              "      <td>0.0</td>\n",
              "      <td>0.0</td>\n",
              "      <td>0.0</td>\n",
              "      <td>1.0</td>\n",
              "      <td>0.0</td>\n",
              "      <td>0.0</td>\n",
              "      <td>0.0</td>\n",
              "      <td>0.0</td>\n",
              "      <td>0.0</td>\n",
              "      <td>0.0</td>\n",
              "      <td>0.0</td>\n",
              "      <td>0.0</td>\n",
              "      <td>0.0</td>\n",
              "      <td>0.0</td>\n",
              "      <td>0.0</td>\n",
              "      <td>0.0</td>\n",
              "      <td>0.0</td>\n",
              "      <td>0.0</td>\n",
              "      <td>0.0</td>\n",
              "      <td>0.0</td>\n",
              "      <td>0.0</td>\n",
              "      <td>0.0</td>\n",
              "      <td>0.0</td>\n",
              "      <td>1.0</td>\n",
              "      <td>0.0</td>\n",
              "      <td>0.0</td>\n",
              "      <td>0.0</td>\n",
              "      <td>0.0</td>\n",
              "      <td>1.0</td>\n",
              "      <td>0.0</td>\n",
              "    </tr>\n",
              "  </tbody>\n",
              "</table>\n",
              "<p>5 rows × 336 columns</p>\n",
              "</div>"
            ],
            "text/plain": [
              "     Id  LotFrontage  ...  SaleCondition_Normal  SaleCondition_Partial\n",
              "0  1461         80.0  ...                   1.0                    0.0\n",
              "1  1462         81.0  ...                   1.0                    0.0\n",
              "2  1463         74.0  ...                   1.0                    0.0\n",
              "3  1464         78.0  ...                   1.0                    0.0\n",
              "4  1465         43.0  ...                   1.0                    0.0\n",
              "\n",
              "[5 rows x 336 columns]"
            ]
          },
          "metadata": {
            "tags": []
          },
          "execution_count": 103
        }
      ]
    },
    {
      "cell_type": "code",
      "metadata": {
        "id": "9prYv4YdzCvo",
        "colab_type": "code",
        "outputId": "ab779a76-49b0-47b4-d610-4379677b9086",
        "colab": {
          "base_uri": "https://localhost:8080/",
          "height": 34
        }
      },
      "source": [
        "(len(x_predict.columns.unique()))"
      ],
      "execution_count": 0,
      "outputs": [
        {
          "output_type": "execute_result",
          "data": {
            "text/plain": [
              "336"
            ]
          },
          "metadata": {
            "tags": []
          },
          "execution_count": 104
        }
      ]
    },
    {
      "cell_type": "code",
      "metadata": {
        "id": "RRRsbgL01zcL",
        "colab_type": "code",
        "outputId": "80741ce4-7c1c-4b2d-ec9e-1937d4edd032",
        "colab": {
          "base_uri": "https://localhost:8080/",
          "height": 252
        }
      },
      "source": [
        "df_train_v3_2 = df_train_v3_2[:1460].copy()\n",
        "df_train_v3_2 = df_train_v3_2.merge(df_train0_id_target, on = 'Id', how = 'left')\n",
        "df_train_v3_2.head()"
      ],
      "execution_count": 0,
      "outputs": [
        {
          "output_type": "execute_result",
          "data": {
            "text/html": [
              "<div>\n",
              "<style scoped>\n",
              "    .dataframe tbody tr th:only-of-type {\n",
              "        vertical-align: middle;\n",
              "    }\n",
              "\n",
              "    .dataframe tbody tr th {\n",
              "        vertical-align: top;\n",
              "    }\n",
              "\n",
              "    .dataframe thead th {\n",
              "        text-align: right;\n",
              "    }\n",
              "</style>\n",
              "<table border=\"1\" class=\"dataframe\">\n",
              "  <thead>\n",
              "    <tr style=\"text-align: right;\">\n",
              "      <th></th>\n",
              "      <th>Id</th>\n",
              "      <th>LotFrontage</th>\n",
              "      <th>LotArea</th>\n",
              "      <th>OverallQual</th>\n",
              "      <th>OverallCond</th>\n",
              "      <th>YearBuilt</th>\n",
              "      <th>YearRemodAdd</th>\n",
              "      <th>MasVnrArea</th>\n",
              "      <th>BsmtFinSF1</th>\n",
              "      <th>BsmtFinSF2</th>\n",
              "      <th>BsmtUnfSF</th>\n",
              "      <th>TotalBsmtSF</th>\n",
              "      <th>1stFlrSF</th>\n",
              "      <th>2ndFlrSF</th>\n",
              "      <th>LowQualFinSF</th>\n",
              "      <th>GrLivArea</th>\n",
              "      <th>FullBath</th>\n",
              "      <th>HalfBath</th>\n",
              "      <th>BedroomAbvGr</th>\n",
              "      <th>KitchenAbvGr</th>\n",
              "      <th>TotRmsAbvGrd</th>\n",
              "      <th>Fireplaces</th>\n",
              "      <th>GarageYrBlt</th>\n",
              "      <th>GarageCars</th>\n",
              "      <th>GarageArea</th>\n",
              "      <th>WoodDeckSF</th>\n",
              "      <th>OpenPorchSF</th>\n",
              "      <th>EnclosedPorch</th>\n",
              "      <th>3SsnPorch</th>\n",
              "      <th>ScreenPorch</th>\n",
              "      <th>PoolArea</th>\n",
              "      <th>MiscVal</th>\n",
              "      <th>YrSold</th>\n",
              "      <th>MSSubClass_20</th>\n",
              "      <th>MSSubClass_30</th>\n",
              "      <th>MSSubClass_40</th>\n",
              "      <th>MSSubClass_45</th>\n",
              "      <th>MSSubClass_50</th>\n",
              "      <th>MSSubClass_60</th>\n",
              "      <th>MSSubClass_70</th>\n",
              "      <th>...</th>\n",
              "      <th>PoolQC_Gd</th>\n",
              "      <th>PoolQC_NA</th>\n",
              "      <th>Fence_GdPrv</th>\n",
              "      <th>Fence_GdWo</th>\n",
              "      <th>Fence_MnPrv</th>\n",
              "      <th>Fence_MnWw</th>\n",
              "      <th>Fence_NA</th>\n",
              "      <th>MiscFeature_Gar2</th>\n",
              "      <th>MiscFeature_NA</th>\n",
              "      <th>MiscFeature_Othr</th>\n",
              "      <th>MiscFeature_Shed</th>\n",
              "      <th>MiscFeature_TenC</th>\n",
              "      <th>MoSold_1</th>\n",
              "      <th>MoSold_2</th>\n",
              "      <th>MoSold_3</th>\n",
              "      <th>MoSold_4</th>\n",
              "      <th>MoSold_5</th>\n",
              "      <th>MoSold_6</th>\n",
              "      <th>MoSold_7</th>\n",
              "      <th>MoSold_8</th>\n",
              "      <th>MoSold_9</th>\n",
              "      <th>MoSold_10</th>\n",
              "      <th>MoSold_11</th>\n",
              "      <th>MoSold_12</th>\n",
              "      <th>SaleType_COD</th>\n",
              "      <th>SaleType_CWD</th>\n",
              "      <th>SaleType_Con</th>\n",
              "      <th>SaleType_ConLD</th>\n",
              "      <th>SaleType_ConLI</th>\n",
              "      <th>SaleType_ConLw</th>\n",
              "      <th>SaleType_New</th>\n",
              "      <th>SaleType_Oth</th>\n",
              "      <th>SaleType_WD</th>\n",
              "      <th>SaleCondition_Abnorml</th>\n",
              "      <th>SaleCondition_AdjLand</th>\n",
              "      <th>SaleCondition_Alloca</th>\n",
              "      <th>SaleCondition_Family</th>\n",
              "      <th>SaleCondition_Normal</th>\n",
              "      <th>SaleCondition_Partial</th>\n",
              "      <th>SalePrice</th>\n",
              "    </tr>\n",
              "  </thead>\n",
              "  <tbody>\n",
              "    <tr>\n",
              "      <th>0</th>\n",
              "      <td>1</td>\n",
              "      <td>65.0</td>\n",
              "      <td>8450</td>\n",
              "      <td>7</td>\n",
              "      <td>5</td>\n",
              "      <td>2003</td>\n",
              "      <td>2003</td>\n",
              "      <td>196.0</td>\n",
              "      <td>706.0</td>\n",
              "      <td>0.0</td>\n",
              "      <td>150.0</td>\n",
              "      <td>856.0</td>\n",
              "      <td>856</td>\n",
              "      <td>854</td>\n",
              "      <td>0</td>\n",
              "      <td>1710</td>\n",
              "      <td>2</td>\n",
              "      <td>1</td>\n",
              "      <td>3</td>\n",
              "      <td>1</td>\n",
              "      <td>8</td>\n",
              "      <td>0</td>\n",
              "      <td>2003.0</td>\n",
              "      <td>2.0</td>\n",
              "      <td>548.0</td>\n",
              "      <td>0</td>\n",
              "      <td>61</td>\n",
              "      <td>0</td>\n",
              "      <td>0</td>\n",
              "      <td>0</td>\n",
              "      <td>0</td>\n",
              "      <td>0</td>\n",
              "      <td>2008</td>\n",
              "      <td>0.0</td>\n",
              "      <td>0.0</td>\n",
              "      <td>0.0</td>\n",
              "      <td>0.0</td>\n",
              "      <td>0.0</td>\n",
              "      <td>1.0</td>\n",
              "      <td>0.0</td>\n",
              "      <td>...</td>\n",
              "      <td>0.0</td>\n",
              "      <td>1.0</td>\n",
              "      <td>0.0</td>\n",
              "      <td>0.0</td>\n",
              "      <td>0.0</td>\n",
              "      <td>0.0</td>\n",
              "      <td>1.0</td>\n",
              "      <td>0.0</td>\n",
              "      <td>1.0</td>\n",
              "      <td>0.0</td>\n",
              "      <td>0.0</td>\n",
              "      <td>0.0</td>\n",
              "      <td>0.0</td>\n",
              "      <td>1.0</td>\n",
              "      <td>0.0</td>\n",
              "      <td>0.0</td>\n",
              "      <td>0.0</td>\n",
              "      <td>0.0</td>\n",
              "      <td>0.0</td>\n",
              "      <td>0.0</td>\n",
              "      <td>0.0</td>\n",
              "      <td>0.0</td>\n",
              "      <td>0.0</td>\n",
              "      <td>0.0</td>\n",
              "      <td>0.0</td>\n",
              "      <td>0.0</td>\n",
              "      <td>0.0</td>\n",
              "      <td>0.0</td>\n",
              "      <td>0.0</td>\n",
              "      <td>0.0</td>\n",
              "      <td>0.0</td>\n",
              "      <td>0.0</td>\n",
              "      <td>1.0</td>\n",
              "      <td>0.0</td>\n",
              "      <td>0.0</td>\n",
              "      <td>0.0</td>\n",
              "      <td>0.0</td>\n",
              "      <td>1.0</td>\n",
              "      <td>0.0</td>\n",
              "      <td>208500</td>\n",
              "    </tr>\n",
              "    <tr>\n",
              "      <th>1</th>\n",
              "      <td>2</td>\n",
              "      <td>80.0</td>\n",
              "      <td>9600</td>\n",
              "      <td>6</td>\n",
              "      <td>8</td>\n",
              "      <td>1976</td>\n",
              "      <td>1976</td>\n",
              "      <td>0.0</td>\n",
              "      <td>978.0</td>\n",
              "      <td>0.0</td>\n",
              "      <td>284.0</td>\n",
              "      <td>1262.0</td>\n",
              "      <td>1262</td>\n",
              "      <td>0</td>\n",
              "      <td>0</td>\n",
              "      <td>1262</td>\n",
              "      <td>2</td>\n",
              "      <td>0</td>\n",
              "      <td>3</td>\n",
              "      <td>1</td>\n",
              "      <td>6</td>\n",
              "      <td>1</td>\n",
              "      <td>1976.0</td>\n",
              "      <td>2.0</td>\n",
              "      <td>460.0</td>\n",
              "      <td>298</td>\n",
              "      <td>0</td>\n",
              "      <td>0</td>\n",
              "      <td>0</td>\n",
              "      <td>0</td>\n",
              "      <td>0</td>\n",
              "      <td>0</td>\n",
              "      <td>2007</td>\n",
              "      <td>1.0</td>\n",
              "      <td>0.0</td>\n",
              "      <td>0.0</td>\n",
              "      <td>0.0</td>\n",
              "      <td>0.0</td>\n",
              "      <td>0.0</td>\n",
              "      <td>0.0</td>\n",
              "      <td>...</td>\n",
              "      <td>0.0</td>\n",
              "      <td>1.0</td>\n",
              "      <td>0.0</td>\n",
              "      <td>0.0</td>\n",
              "      <td>0.0</td>\n",
              "      <td>0.0</td>\n",
              "      <td>1.0</td>\n",
              "      <td>0.0</td>\n",
              "      <td>1.0</td>\n",
              "      <td>0.0</td>\n",
              "      <td>0.0</td>\n",
              "      <td>0.0</td>\n",
              "      <td>0.0</td>\n",
              "      <td>0.0</td>\n",
              "      <td>0.0</td>\n",
              "      <td>0.0</td>\n",
              "      <td>1.0</td>\n",
              "      <td>0.0</td>\n",
              "      <td>0.0</td>\n",
              "      <td>0.0</td>\n",
              "      <td>0.0</td>\n",
              "      <td>0.0</td>\n",
              "      <td>0.0</td>\n",
              "      <td>0.0</td>\n",
              "      <td>0.0</td>\n",
              "      <td>0.0</td>\n",
              "      <td>0.0</td>\n",
              "      <td>0.0</td>\n",
              "      <td>0.0</td>\n",
              "      <td>0.0</td>\n",
              "      <td>0.0</td>\n",
              "      <td>0.0</td>\n",
              "      <td>1.0</td>\n",
              "      <td>0.0</td>\n",
              "      <td>0.0</td>\n",
              "      <td>0.0</td>\n",
              "      <td>0.0</td>\n",
              "      <td>1.0</td>\n",
              "      <td>0.0</td>\n",
              "      <td>181500</td>\n",
              "    </tr>\n",
              "    <tr>\n",
              "      <th>2</th>\n",
              "      <td>3</td>\n",
              "      <td>68.0</td>\n",
              "      <td>11250</td>\n",
              "      <td>7</td>\n",
              "      <td>5</td>\n",
              "      <td>2001</td>\n",
              "      <td>2002</td>\n",
              "      <td>162.0</td>\n",
              "      <td>486.0</td>\n",
              "      <td>0.0</td>\n",
              "      <td>434.0</td>\n",
              "      <td>920.0</td>\n",
              "      <td>920</td>\n",
              "      <td>866</td>\n",
              "      <td>0</td>\n",
              "      <td>1786</td>\n",
              "      <td>2</td>\n",
              "      <td>1</td>\n",
              "      <td>3</td>\n",
              "      <td>1</td>\n",
              "      <td>6</td>\n",
              "      <td>1</td>\n",
              "      <td>2001.0</td>\n",
              "      <td>2.0</td>\n",
              "      <td>608.0</td>\n",
              "      <td>0</td>\n",
              "      <td>42</td>\n",
              "      <td>0</td>\n",
              "      <td>0</td>\n",
              "      <td>0</td>\n",
              "      <td>0</td>\n",
              "      <td>0</td>\n",
              "      <td>2008</td>\n",
              "      <td>0.0</td>\n",
              "      <td>0.0</td>\n",
              "      <td>0.0</td>\n",
              "      <td>0.0</td>\n",
              "      <td>0.0</td>\n",
              "      <td>1.0</td>\n",
              "      <td>0.0</td>\n",
              "      <td>...</td>\n",
              "      <td>0.0</td>\n",
              "      <td>1.0</td>\n",
              "      <td>0.0</td>\n",
              "      <td>0.0</td>\n",
              "      <td>0.0</td>\n",
              "      <td>0.0</td>\n",
              "      <td>1.0</td>\n",
              "      <td>0.0</td>\n",
              "      <td>1.0</td>\n",
              "      <td>0.0</td>\n",
              "      <td>0.0</td>\n",
              "      <td>0.0</td>\n",
              "      <td>0.0</td>\n",
              "      <td>0.0</td>\n",
              "      <td>0.0</td>\n",
              "      <td>0.0</td>\n",
              "      <td>0.0</td>\n",
              "      <td>0.0</td>\n",
              "      <td>0.0</td>\n",
              "      <td>0.0</td>\n",
              "      <td>1.0</td>\n",
              "      <td>0.0</td>\n",
              "      <td>0.0</td>\n",
              "      <td>0.0</td>\n",
              "      <td>0.0</td>\n",
              "      <td>0.0</td>\n",
              "      <td>0.0</td>\n",
              "      <td>0.0</td>\n",
              "      <td>0.0</td>\n",
              "      <td>0.0</td>\n",
              "      <td>0.0</td>\n",
              "      <td>0.0</td>\n",
              "      <td>1.0</td>\n",
              "      <td>0.0</td>\n",
              "      <td>0.0</td>\n",
              "      <td>0.0</td>\n",
              "      <td>0.0</td>\n",
              "      <td>1.0</td>\n",
              "      <td>0.0</td>\n",
              "      <td>223500</td>\n",
              "    </tr>\n",
              "    <tr>\n",
              "      <th>3</th>\n",
              "      <td>4</td>\n",
              "      <td>60.0</td>\n",
              "      <td>9550</td>\n",
              "      <td>7</td>\n",
              "      <td>5</td>\n",
              "      <td>1915</td>\n",
              "      <td>1970</td>\n",
              "      <td>0.0</td>\n",
              "      <td>216.0</td>\n",
              "      <td>0.0</td>\n",
              "      <td>540.0</td>\n",
              "      <td>756.0</td>\n",
              "      <td>961</td>\n",
              "      <td>756</td>\n",
              "      <td>0</td>\n",
              "      <td>1717</td>\n",
              "      <td>1</td>\n",
              "      <td>0</td>\n",
              "      <td>3</td>\n",
              "      <td>1</td>\n",
              "      <td>7</td>\n",
              "      <td>1</td>\n",
              "      <td>1998.0</td>\n",
              "      <td>3.0</td>\n",
              "      <td>642.0</td>\n",
              "      <td>0</td>\n",
              "      <td>35</td>\n",
              "      <td>272</td>\n",
              "      <td>0</td>\n",
              "      <td>0</td>\n",
              "      <td>0</td>\n",
              "      <td>0</td>\n",
              "      <td>2006</td>\n",
              "      <td>0.0</td>\n",
              "      <td>0.0</td>\n",
              "      <td>0.0</td>\n",
              "      <td>0.0</td>\n",
              "      <td>0.0</td>\n",
              "      <td>0.0</td>\n",
              "      <td>1.0</td>\n",
              "      <td>...</td>\n",
              "      <td>0.0</td>\n",
              "      <td>1.0</td>\n",
              "      <td>0.0</td>\n",
              "      <td>0.0</td>\n",
              "      <td>0.0</td>\n",
              "      <td>0.0</td>\n",
              "      <td>1.0</td>\n",
              "      <td>0.0</td>\n",
              "      <td>1.0</td>\n",
              "      <td>0.0</td>\n",
              "      <td>0.0</td>\n",
              "      <td>0.0</td>\n",
              "      <td>0.0</td>\n",
              "      <td>1.0</td>\n",
              "      <td>0.0</td>\n",
              "      <td>0.0</td>\n",
              "      <td>0.0</td>\n",
              "      <td>0.0</td>\n",
              "      <td>0.0</td>\n",
              "      <td>0.0</td>\n",
              "      <td>0.0</td>\n",
              "      <td>0.0</td>\n",
              "      <td>0.0</td>\n",
              "      <td>0.0</td>\n",
              "      <td>0.0</td>\n",
              "      <td>0.0</td>\n",
              "      <td>0.0</td>\n",
              "      <td>0.0</td>\n",
              "      <td>0.0</td>\n",
              "      <td>0.0</td>\n",
              "      <td>0.0</td>\n",
              "      <td>0.0</td>\n",
              "      <td>1.0</td>\n",
              "      <td>1.0</td>\n",
              "      <td>0.0</td>\n",
              "      <td>0.0</td>\n",
              "      <td>0.0</td>\n",
              "      <td>0.0</td>\n",
              "      <td>0.0</td>\n",
              "      <td>140000</td>\n",
              "    </tr>\n",
              "    <tr>\n",
              "      <th>4</th>\n",
              "      <td>5</td>\n",
              "      <td>84.0</td>\n",
              "      <td>14260</td>\n",
              "      <td>8</td>\n",
              "      <td>5</td>\n",
              "      <td>2000</td>\n",
              "      <td>2000</td>\n",
              "      <td>350.0</td>\n",
              "      <td>655.0</td>\n",
              "      <td>0.0</td>\n",
              "      <td>490.0</td>\n",
              "      <td>1145.0</td>\n",
              "      <td>1145</td>\n",
              "      <td>1053</td>\n",
              "      <td>0</td>\n",
              "      <td>2198</td>\n",
              "      <td>2</td>\n",
              "      <td>1</td>\n",
              "      <td>4</td>\n",
              "      <td>1</td>\n",
              "      <td>9</td>\n",
              "      <td>1</td>\n",
              "      <td>2000.0</td>\n",
              "      <td>3.0</td>\n",
              "      <td>836.0</td>\n",
              "      <td>192</td>\n",
              "      <td>84</td>\n",
              "      <td>0</td>\n",
              "      <td>0</td>\n",
              "      <td>0</td>\n",
              "      <td>0</td>\n",
              "      <td>0</td>\n",
              "      <td>2008</td>\n",
              "      <td>0.0</td>\n",
              "      <td>0.0</td>\n",
              "      <td>0.0</td>\n",
              "      <td>0.0</td>\n",
              "      <td>0.0</td>\n",
              "      <td>1.0</td>\n",
              "      <td>0.0</td>\n",
              "      <td>...</td>\n",
              "      <td>0.0</td>\n",
              "      <td>1.0</td>\n",
              "      <td>0.0</td>\n",
              "      <td>0.0</td>\n",
              "      <td>0.0</td>\n",
              "      <td>0.0</td>\n",
              "      <td>1.0</td>\n",
              "      <td>0.0</td>\n",
              "      <td>1.0</td>\n",
              "      <td>0.0</td>\n",
              "      <td>0.0</td>\n",
              "      <td>0.0</td>\n",
              "      <td>0.0</td>\n",
              "      <td>0.0</td>\n",
              "      <td>0.0</td>\n",
              "      <td>0.0</td>\n",
              "      <td>0.0</td>\n",
              "      <td>0.0</td>\n",
              "      <td>0.0</td>\n",
              "      <td>0.0</td>\n",
              "      <td>0.0</td>\n",
              "      <td>0.0</td>\n",
              "      <td>0.0</td>\n",
              "      <td>1.0</td>\n",
              "      <td>0.0</td>\n",
              "      <td>0.0</td>\n",
              "      <td>0.0</td>\n",
              "      <td>0.0</td>\n",
              "      <td>0.0</td>\n",
              "      <td>0.0</td>\n",
              "      <td>0.0</td>\n",
              "      <td>0.0</td>\n",
              "      <td>1.0</td>\n",
              "      <td>0.0</td>\n",
              "      <td>0.0</td>\n",
              "      <td>0.0</td>\n",
              "      <td>0.0</td>\n",
              "      <td>1.0</td>\n",
              "      <td>0.0</td>\n",
              "      <td>250000</td>\n",
              "    </tr>\n",
              "  </tbody>\n",
              "</table>\n",
              "<p>5 rows × 337 columns</p>\n",
              "</div>"
            ],
            "text/plain": [
              "   Id  LotFrontage  ...  SaleCondition_Partial  SalePrice\n",
              "0   1         65.0  ...                    0.0     208500\n",
              "1   2         80.0  ...                    0.0     181500\n",
              "2   3         68.0  ...                    0.0     223500\n",
              "3   4         60.0  ...                    0.0     140000\n",
              "4   5         84.0  ...                    0.0     250000\n",
              "\n",
              "[5 rows x 337 columns]"
            ]
          },
          "metadata": {
            "tags": []
          },
          "execution_count": 105
        }
      ]
    },
    {
      "cell_type": "code",
      "metadata": {
        "id": "Zcy88zeoydMW",
        "colab_type": "code",
        "outputId": "2ab51809-d0f5-4af2-87f7-17e920c10a06",
        "colab": {
          "base_uri": "https://localhost:8080/",
          "height": 34
        }
      },
      "source": [
        "len(df_train_v3_2)"
      ],
      "execution_count": 0,
      "outputs": [
        {
          "output_type": "execute_result",
          "data": {
            "text/plain": [
              "1460"
            ]
          },
          "metadata": {
            "tags": []
          },
          "execution_count": 106
        }
      ]
    },
    {
      "cell_type": "code",
      "metadata": {
        "id": "Q_h0gpqg5cCp",
        "colab_type": "code",
        "colab": {}
      },
      "source": [
        "del df_train_v3_2['Id']"
      ],
      "execution_count": 0,
      "outputs": []
    },
    {
      "cell_type": "code",
      "metadata": {
        "id": "7zVUDlQ6y4JV",
        "colab_type": "code",
        "outputId": "3921de6f-4eba-4e5d-c445-920613ec460e",
        "colab": {
          "base_uri": "https://localhost:8080/",
          "height": 173
        }
      },
      "source": [
        "#calling the target to e-based log:\n",
        "df_train_v3_2['SalePrice'] = np.log(df_train_v3_2['SalePrice'])\n",
        "df_train_v3_2['SalePrice'].describe()"
      ],
      "execution_count": 0,
      "outputs": [
        {
          "output_type": "execute_result",
          "data": {
            "text/plain": [
              "count    1460.000000\n",
              "mean       12.024051\n",
              "std         0.399452\n",
              "min        10.460242\n",
              "25%        11.775097\n",
              "50%        12.001505\n",
              "75%        12.273731\n",
              "max        13.534473\n",
              "Name: SalePrice, dtype: float64"
            ]
          },
          "metadata": {
            "tags": []
          },
          "execution_count": 108
        }
      ]
    },
    {
      "cell_type": "markdown",
      "metadata": {
        "id": "OEH5wKy87xqf",
        "colab_type": "text"
      },
      "source": [
        "304 degrees of freedom and 1460 rows.\n",
        "\n",
        "splitting the data:"
      ]
    },
    {
      "cell_type": "code",
      "metadata": {
        "id": "XxzCeyiX8Cfc",
        "colab_type": "code",
        "colab": {}
      },
      "source": [
        "#split data\n",
        "x_train_v3 = df_train_v3_2.sample(frac=0.8, random_state=1)\n",
        "x_test_v3 = df_train_v3_2.drop(x_train_v3.index)\n",
        "\n",
        "#pop targets\n",
        "y_train_v3 = x_train_v3.pop('SalePrice').to_frame()\n",
        "y_test_v3 = x_test_v3.pop('SalePrice').to_frame()"
      ],
      "execution_count": 0,
      "outputs": []
    },
    {
      "cell_type": "markdown",
      "metadata": {
        "id": "Sju-5vRP8YFL",
        "colab_type": "text"
      },
      "source": [
        "modeling the NN"
      ]
    },
    {
      "cell_type": "code",
      "metadata": {
        "id": "5Ue3nXUDTF8m",
        "colab_type": "code",
        "colab": {}
      },
      "source": [
        "from keras import regularizers"
      ],
      "execution_count": 0,
      "outputs": []
    },
    {
      "cell_type": "code",
      "metadata": {
        "id": "bU211HLM8Caz",
        "colab_type": "code",
        "outputId": "ac2868f3-04cd-4e07-e767-303931f1a5bf",
        "colab": {
          "base_uri": "https://localhost:8080/",
          "height": 433
        }
      },
      "source": [
        "def model_regression_v3():\n",
        "\n",
        "  model = keras.models.Sequential()\n",
        "  model.add(Dense(train_n_cols, kernel_initializer = 'TruncatedNormal', use_bias= True, bias_initializer='TruncatedNormal', activation='relu', input_shape = ((train_n_cols),)))\n",
        "\n",
        "  model.add(Dense(1000, activation = 'relu', kernel_initializer = 'TruncatedNormal', use_bias= True, bias_initializer='TruncatedNormal'))\n",
        "  #model.add(Dropout(0.5))\n",
        "  \n",
        "  model.add(Dense(500, activation = 'relu', kernel_initializer = 'TruncatedNormal', use_bias= True, bias_initializer='TruncatedNormal'))\n",
        "  #model.add(Dropout(0.5))\n",
        "  \n",
        "  model.add(Dense(500, activation = 'relu', kernel_initializer = 'TruncatedNormal', use_bias= True, bias_initializer='TruncatedNormal'))\n",
        "  #model.add(Dropout(0.5))\n",
        "  \n",
        "  model.add(Dense(500, activation = 'relu', kernel_initializer = 'TruncatedNormal', use_bias= True, bias_initializer='TruncatedNormal', activity_regularizer = regularizers.l1(1*10**(-4))))\n",
        "  #model.add(Dropout(0.5))\n",
        "\n",
        "  model.add(Dense(500, activation = 'relu', kernel_initializer = 'TruncatedNormal', use_bias= True, bias_initializer='TruncatedNormal'))\n",
        "  #model.add(Dropout(0.5))\n",
        "\n",
        "  #model.add(Dense(500, activation = 'relu', kernel_initializer = 'TruncatedNormal', use_bias= True, bias_initializer='TruncatedNormal'))\n",
        "  #model.add(Dropout(0.5))\n",
        "  \n",
        "  model.add(Dense(500, activation = 'relu', kernel_initializer = 'TruncatedNormal', use_bias= True, bias_initializer='TruncatedNormal'))\n",
        "  \n",
        "  model.add(Dense(target_n_cols))\n",
        "\n",
        "  model.compile(optimizer='adam', loss = 'mae', metrics=[rmse])\n",
        "  return model\n",
        "\n",
        "target_n_cols = y_train_v3.shape[1]  \n",
        "train_n_cols = x_train_v3.shape[1]\n",
        "\n",
        "model_v3 = model_regression_v3()\n",
        "\n",
        "model_v3.summary()"
      ],
      "execution_count": 0,
      "outputs": [
        {
          "output_type": "stream",
          "text": [
            "Model: \"sequential_39\"\n",
            "_________________________________________________________________\n",
            "Layer (type)                 Output Shape              Param #   \n",
            "=================================================================\n",
            "dense_294 (Dense)            (None, 335)               112560    \n",
            "_________________________________________________________________\n",
            "dense_295 (Dense)            (None, 1000)              336000    \n",
            "_________________________________________________________________\n",
            "dense_296 (Dense)            (None, 500)               500500    \n",
            "_________________________________________________________________\n",
            "dense_297 (Dense)            (None, 500)               250500    \n",
            "_________________________________________________________________\n",
            "dense_298 (Dense)            (None, 500)               250500    \n",
            "_________________________________________________________________\n",
            "dense_299 (Dense)            (None, 500)               250500    \n",
            "_________________________________________________________________\n",
            "dense_300 (Dense)            (None, 500)               250500    \n",
            "_________________________________________________________________\n",
            "dense_301 (Dense)            (None, 1)                 501       \n",
            "=================================================================\n",
            "Total params: 1,951,561\n",
            "Trainable params: 1,951,561\n",
            "Non-trainable params: 0\n",
            "_________________________________________________________________\n"
          ],
          "name": "stdout"
        }
      ]
    },
    {
      "cell_type": "code",
      "metadata": {
        "id": "M-nUAXRe8CYb",
        "colab_type": "code",
        "outputId": "983bccd5-e7eb-4f9e-ff30-b9d88716fedc",
        "colab": {
          "base_uri": "https://localhost:8080/",
          "height": 417
        }
      },
      "source": [
        "print('Model v3 \\n\\n')\n",
        "start = time()\n",
        "\n",
        "\n",
        "#fitting the model\n",
        "history_v3 = model_v3.fit(x = x_train_v3, y = y_train_v3, epochs=600, shuffle = True, validation_split = 0.2, workers=12, verbose=0, callbacks= [PlotLossesKeras()])\n",
        "\n",
        "#calculating model's score on test split\n",
        "score_v3 = model_v3.evaluate(x = x_test_v3, y = y_test_v3, batch_size=32, verbose=1, sample_weight=None, steps=None, callbacks=None, max_queue_size=10, workers=12, use_multiprocessing=False)\n",
        "print('\\n score: {} \\n'.format(dict(zip(model_v3.metrics_names, score_v3))))\n",
        "\n",
        "print('\\n run time:', (time()-start)//60, 'minutes' )\n"
      ],
      "execution_count": 0,
      "outputs": [
        {
          "output_type": "error",
          "ename": "KeyboardInterrupt",
          "evalue": "ignored",
          "traceback": [
            "\u001b[0;31m---------------------------------------------------------------------------\u001b[0m",
            "\u001b[0;31mKeyboardInterrupt\u001b[0m                         Traceback (most recent call last)",
            "\u001b[0;32m<ipython-input-207-28ff74e30213>\u001b[0m in \u001b[0;36m<module>\u001b[0;34m()\u001b[0m\n\u001b[1;32m      4\u001b[0m \u001b[0;34m\u001b[0m\u001b[0m\n\u001b[1;32m      5\u001b[0m \u001b[0;31m#fitting the model\u001b[0m\u001b[0;34m\u001b[0m\u001b[0;34m\u001b[0m\u001b[0;34m\u001b[0m\u001b[0m\n\u001b[0;32m----> 6\u001b[0;31m \u001b[0mhistory_v3\u001b[0m \u001b[0;34m=\u001b[0m \u001b[0mmodel_v3\u001b[0m\u001b[0;34m.\u001b[0m\u001b[0mfit\u001b[0m\u001b[0;34m(\u001b[0m\u001b[0mx\u001b[0m \u001b[0;34m=\u001b[0m \u001b[0mx_train_v3\u001b[0m\u001b[0;34m,\u001b[0m \u001b[0my\u001b[0m \u001b[0;34m=\u001b[0m \u001b[0my_train_v3\u001b[0m\u001b[0;34m,\u001b[0m \u001b[0mepochs\u001b[0m\u001b[0;34m=\u001b[0m\u001b[0;36m600\u001b[0m\u001b[0;34m,\u001b[0m \u001b[0mshuffle\u001b[0m \u001b[0;34m=\u001b[0m \u001b[0;32mTrue\u001b[0m\u001b[0;34m,\u001b[0m \u001b[0mvalidation_split\u001b[0m \u001b[0;34m=\u001b[0m \u001b[0;36m0.2\u001b[0m\u001b[0;34m,\u001b[0m \u001b[0mworkers\u001b[0m\u001b[0;34m=\u001b[0m\u001b[0;36m12\u001b[0m\u001b[0;34m,\u001b[0m \u001b[0mverbose\u001b[0m\u001b[0;34m=\u001b[0m\u001b[0;36m0\u001b[0m\u001b[0;34m,\u001b[0m \u001b[0mcallbacks\u001b[0m\u001b[0;34m=\u001b[0m \u001b[0;34m[\u001b[0m\u001b[0mPlotLossesKeras\u001b[0m\u001b[0;34m(\u001b[0m\u001b[0;34m)\u001b[0m\u001b[0;34m]\u001b[0m\u001b[0;34m)\u001b[0m\u001b[0;34m\u001b[0m\u001b[0;34m\u001b[0m\u001b[0m\n\u001b[0m\u001b[1;32m      7\u001b[0m \u001b[0;34m\u001b[0m\u001b[0m\n\u001b[1;32m      8\u001b[0m \u001b[0;31m#calculating model's score on test split\u001b[0m\u001b[0;34m\u001b[0m\u001b[0;34m\u001b[0m\u001b[0;34m\u001b[0m\u001b[0m\n",
            "\u001b[0;32m/usr/local/lib/python3.6/dist-packages/keras/engine/training.py\u001b[0m in \u001b[0;36mfit\u001b[0;34m(self, x, y, batch_size, epochs, verbose, callbacks, validation_split, validation_data, shuffle, class_weight, sample_weight, initial_epoch, steps_per_epoch, validation_steps, validation_freq, max_queue_size, workers, use_multiprocessing, **kwargs)\u001b[0m\n\u001b[1;32m   1237\u001b[0m                                         \u001b[0msteps_per_epoch\u001b[0m\u001b[0;34m=\u001b[0m\u001b[0msteps_per_epoch\u001b[0m\u001b[0;34m,\u001b[0m\u001b[0;34m\u001b[0m\u001b[0;34m\u001b[0m\u001b[0m\n\u001b[1;32m   1238\u001b[0m                                         \u001b[0mvalidation_steps\u001b[0m\u001b[0;34m=\u001b[0m\u001b[0mvalidation_steps\u001b[0m\u001b[0;34m,\u001b[0m\u001b[0;34m\u001b[0m\u001b[0;34m\u001b[0m\u001b[0m\n\u001b[0;32m-> 1239\u001b[0;31m                                         validation_freq=validation_freq)\n\u001b[0m\u001b[1;32m   1240\u001b[0m \u001b[0;34m\u001b[0m\u001b[0m\n\u001b[1;32m   1241\u001b[0m     def evaluate(self,\n",
            "\u001b[0;32m/usr/local/lib/python3.6/dist-packages/keras/engine/training_arrays.py\u001b[0m in \u001b[0;36mfit_loop\u001b[0;34m(model, fit_function, fit_inputs, out_labels, batch_size, epochs, verbose, callbacks, val_function, val_inputs, shuffle, initial_epoch, steps_per_epoch, validation_steps, validation_freq)\u001b[0m\n\u001b[1;32m    214\u001b[0m                         \u001b[0mepoch_logs\u001b[0m\u001b[0;34m[\u001b[0m\u001b[0;34m'val_'\u001b[0m \u001b[0;34m+\u001b[0m \u001b[0ml\u001b[0m\u001b[0;34m]\u001b[0m \u001b[0;34m=\u001b[0m \u001b[0mo\u001b[0m\u001b[0;34m\u001b[0m\u001b[0;34m\u001b[0m\u001b[0m\n\u001b[1;32m    215\u001b[0m \u001b[0;34m\u001b[0m\u001b[0m\n\u001b[0;32m--> 216\u001b[0;31m         \u001b[0mcallbacks\u001b[0m\u001b[0;34m.\u001b[0m\u001b[0mon_epoch_end\u001b[0m\u001b[0;34m(\u001b[0m\u001b[0mepoch\u001b[0m\u001b[0;34m,\u001b[0m \u001b[0mepoch_logs\u001b[0m\u001b[0;34m)\u001b[0m\u001b[0;34m\u001b[0m\u001b[0;34m\u001b[0m\u001b[0m\n\u001b[0m\u001b[1;32m    217\u001b[0m         \u001b[0;32mif\u001b[0m \u001b[0mcallbacks\u001b[0m\u001b[0;34m.\u001b[0m\u001b[0mmodel\u001b[0m\u001b[0;34m.\u001b[0m\u001b[0mstop_training\u001b[0m\u001b[0;34m:\u001b[0m\u001b[0;34m\u001b[0m\u001b[0;34m\u001b[0m\u001b[0m\n\u001b[1;32m    218\u001b[0m             \u001b[0;32mbreak\u001b[0m\u001b[0;34m\u001b[0m\u001b[0;34m\u001b[0m\u001b[0m\n",
            "\u001b[0;32m/usr/local/lib/python3.6/dist-packages/keras/callbacks/callbacks.py\u001b[0m in \u001b[0;36mon_epoch_end\u001b[0;34m(self, epoch, logs)\u001b[0m\n\u001b[1;32m    150\u001b[0m         \u001b[0mlogs\u001b[0m \u001b[0;34m=\u001b[0m \u001b[0mlogs\u001b[0m \u001b[0;32mor\u001b[0m \u001b[0;34m{\u001b[0m\u001b[0;34m}\u001b[0m\u001b[0;34m\u001b[0m\u001b[0;34m\u001b[0m\u001b[0m\n\u001b[1;32m    151\u001b[0m         \u001b[0;32mfor\u001b[0m \u001b[0mcallback\u001b[0m \u001b[0;32min\u001b[0m \u001b[0mself\u001b[0m\u001b[0;34m.\u001b[0m\u001b[0mcallbacks\u001b[0m\u001b[0;34m:\u001b[0m\u001b[0;34m\u001b[0m\u001b[0;34m\u001b[0m\u001b[0m\n\u001b[0;32m--> 152\u001b[0;31m             \u001b[0mcallback\u001b[0m\u001b[0;34m.\u001b[0m\u001b[0mon_epoch_end\u001b[0m\u001b[0;34m(\u001b[0m\u001b[0mepoch\u001b[0m\u001b[0;34m,\u001b[0m \u001b[0mlogs\u001b[0m\u001b[0;34m)\u001b[0m\u001b[0;34m\u001b[0m\u001b[0;34m\u001b[0m\u001b[0m\n\u001b[0m\u001b[1;32m    153\u001b[0m \u001b[0;34m\u001b[0m\u001b[0m\n\u001b[1;32m    154\u001b[0m     \u001b[0;32mdef\u001b[0m \u001b[0mon_train_batch_begin\u001b[0m\u001b[0;34m(\u001b[0m\u001b[0mself\u001b[0m\u001b[0;34m,\u001b[0m \u001b[0mbatch\u001b[0m\u001b[0;34m,\u001b[0m \u001b[0mlogs\u001b[0m\u001b[0;34m=\u001b[0m\u001b[0;32mNone\u001b[0m\u001b[0;34m)\u001b[0m\u001b[0;34m:\u001b[0m\u001b[0;34m\u001b[0m\u001b[0;34m\u001b[0m\u001b[0m\n",
            "\u001b[0;32m/usr/local/lib/python3.6/dist-packages/livelossplot/generic_keras.py\u001b[0m in \u001b[0;36mon_epoch_end\u001b[0;34m(self, epoch, logs)\u001b[0m\n\u001b[1;32m     64\u001b[0m     \u001b[0;32mdef\u001b[0m \u001b[0mon_epoch_end\u001b[0m\u001b[0;34m(\u001b[0m\u001b[0mself\u001b[0m\u001b[0;34m,\u001b[0m \u001b[0mepoch\u001b[0m\u001b[0;34m,\u001b[0m \u001b[0mlogs\u001b[0m\u001b[0;34m=\u001b[0m\u001b[0;34m{\u001b[0m\u001b[0;34m}\u001b[0m\u001b[0;34m)\u001b[0m\u001b[0;34m:\u001b[0m\u001b[0;34m\u001b[0m\u001b[0;34m\u001b[0m\u001b[0m\n\u001b[1;32m     65\u001b[0m         \u001b[0mself\u001b[0m\u001b[0;34m.\u001b[0m\u001b[0mliveplot\u001b[0m\u001b[0;34m.\u001b[0m\u001b[0mupdate\u001b[0m\u001b[0;34m(\u001b[0m\u001b[0mlogs\u001b[0m\u001b[0;34m.\u001b[0m\u001b[0mcopy\u001b[0m\u001b[0;34m(\u001b[0m\u001b[0;34m)\u001b[0m\u001b[0;34m)\u001b[0m\u001b[0;34m\u001b[0m\u001b[0;34m\u001b[0m\u001b[0m\n\u001b[0;32m---> 66\u001b[0;31m         \u001b[0mself\u001b[0m\u001b[0;34m.\u001b[0m\u001b[0mliveplot\u001b[0m\u001b[0;34m.\u001b[0m\u001b[0mdraw\u001b[0m\u001b[0;34m(\u001b[0m\u001b[0;34m)\u001b[0m\u001b[0;34m\u001b[0m\u001b[0;34m\u001b[0m\u001b[0m\n\u001b[0m",
            "\u001b[0;32m/usr/local/lib/python3.6/dist-packages/livelossplot/generic_plot.py\u001b[0m in \u001b[0;36mdraw\u001b[0;34m(self)\u001b[0m\n\u001b[1;32m    114\u001b[0m                       \u001b[0mskip_first\u001b[0m\u001b[0;34m=\u001b[0m\u001b[0mself\u001b[0m\u001b[0;34m.\u001b[0m\u001b[0mskip_first\u001b[0m\u001b[0;34m,\u001b[0m\u001b[0;34m\u001b[0m\u001b[0;34m\u001b[0m\u001b[0m\n\u001b[1;32m    115\u001b[0m                       \u001b[0mextra_plots\u001b[0m\u001b[0;34m=\u001b[0m\u001b[0mself\u001b[0m\u001b[0;34m.\u001b[0m\u001b[0mextra_plots\u001b[0m\u001b[0;34m,\u001b[0m\u001b[0;34m\u001b[0m\u001b[0;34m\u001b[0m\u001b[0m\n\u001b[0;32m--> 116\u001b[0;31m                       fig_path=self.fig_path)\n\u001b[0m\u001b[1;32m    117\u001b[0m             \u001b[0;32mif\u001b[0m \u001b[0mself\u001b[0m\u001b[0;34m.\u001b[0m\u001b[0mmetrics_extrema\u001b[0m\u001b[0;34m:\u001b[0m\u001b[0;34m\u001b[0m\u001b[0;34m\u001b[0m\u001b[0m\n\u001b[1;32m    118\u001b[0m                 print_extrema(self.logs,\n",
            "\u001b[0;32m/usr/local/lib/python3.6/dist-packages/livelossplot/core.py\u001b[0m in \u001b[0;36mdraw_plot\u001b[0;34m(logs, metrics, figsize, max_epoch, max_cols, series_fmt, metric2title, skip_first, extra_plots, fig_path)\u001b[0m\n\u001b[1;32m     69\u001b[0m     \u001b[0;32mif\u001b[0m \u001b[0mfig_path\u001b[0m \u001b[0;32mis\u001b[0m \u001b[0;32mnot\u001b[0m \u001b[0;32mNone\u001b[0m\u001b[0;34m:\u001b[0m\u001b[0;34m\u001b[0m\u001b[0;34m\u001b[0m\u001b[0m\n\u001b[1;32m     70\u001b[0m         \u001b[0mplt\u001b[0m\u001b[0;34m.\u001b[0m\u001b[0msavefig\u001b[0m\u001b[0;34m(\u001b[0m\u001b[0mfig_path\u001b[0m\u001b[0;34m)\u001b[0m\u001b[0;34m\u001b[0m\u001b[0;34m\u001b[0m\u001b[0m\n\u001b[0;32m---> 71\u001b[0;31m     \u001b[0mplt\u001b[0m\u001b[0;34m.\u001b[0m\u001b[0mshow\u001b[0m\u001b[0;34m(\u001b[0m\u001b[0;34m)\u001b[0m\u001b[0;34m\u001b[0m\u001b[0;34m\u001b[0m\u001b[0m\n\u001b[0m\u001b[1;32m     72\u001b[0m \u001b[0;34m\u001b[0m\u001b[0m\n\u001b[1;32m     73\u001b[0m def print_extrema(logs,\n",
            "\u001b[0;32m/usr/local/lib/python3.6/dist-packages/matplotlib/pyplot.py\u001b[0m in \u001b[0;36mshow\u001b[0;34m(*args, **kw)\u001b[0m\n\u001b[1;32m    267\u001b[0m     \"\"\"\n\u001b[1;32m    268\u001b[0m     \u001b[0;32mglobal\u001b[0m \u001b[0m_show\u001b[0m\u001b[0;34m\u001b[0m\u001b[0;34m\u001b[0m\u001b[0m\n\u001b[0;32m--> 269\u001b[0;31m     \u001b[0;32mreturn\u001b[0m \u001b[0m_show\u001b[0m\u001b[0;34m(\u001b[0m\u001b[0;34m*\u001b[0m\u001b[0margs\u001b[0m\u001b[0;34m,\u001b[0m \u001b[0;34m**\u001b[0m\u001b[0mkw\u001b[0m\u001b[0;34m)\u001b[0m\u001b[0;34m\u001b[0m\u001b[0;34m\u001b[0m\u001b[0m\n\u001b[0m\u001b[1;32m    270\u001b[0m \u001b[0;34m\u001b[0m\u001b[0m\n\u001b[1;32m    271\u001b[0m \u001b[0;34m\u001b[0m\u001b[0m\n",
            "\u001b[0;32m/usr/local/lib/python3.6/dist-packages/ipykernel/pylab/backend_inline.py\u001b[0m in \u001b[0;36mshow\u001b[0;34m(close, block)\u001b[0m\n\u001b[1;32m     34\u001b[0m     \u001b[0;32mtry\u001b[0m\u001b[0;34m:\u001b[0m\u001b[0;34m\u001b[0m\u001b[0;34m\u001b[0m\u001b[0m\n\u001b[1;32m     35\u001b[0m         \u001b[0;32mfor\u001b[0m \u001b[0mfigure_manager\u001b[0m \u001b[0;32min\u001b[0m \u001b[0mGcf\u001b[0m\u001b[0;34m.\u001b[0m\u001b[0mget_all_fig_managers\u001b[0m\u001b[0;34m(\u001b[0m\u001b[0;34m)\u001b[0m\u001b[0;34m:\u001b[0m\u001b[0;34m\u001b[0m\u001b[0;34m\u001b[0m\u001b[0m\n\u001b[0;32m---> 36\u001b[0;31m             \u001b[0mdisplay\u001b[0m\u001b[0;34m(\u001b[0m\u001b[0mfigure_manager\u001b[0m\u001b[0;34m.\u001b[0m\u001b[0mcanvas\u001b[0m\u001b[0;34m.\u001b[0m\u001b[0mfigure\u001b[0m\u001b[0;34m)\u001b[0m\u001b[0;34m\u001b[0m\u001b[0;34m\u001b[0m\u001b[0m\n\u001b[0m\u001b[1;32m     37\u001b[0m     \u001b[0;32mfinally\u001b[0m\u001b[0;34m:\u001b[0m\u001b[0;34m\u001b[0m\u001b[0;34m\u001b[0m\u001b[0m\n\u001b[1;32m     38\u001b[0m         \u001b[0mshow\u001b[0m\u001b[0;34m.\u001b[0m\u001b[0m_to_draw\u001b[0m \u001b[0;34m=\u001b[0m \u001b[0;34m[\u001b[0m\u001b[0;34m]\u001b[0m\u001b[0;34m\u001b[0m\u001b[0;34m\u001b[0m\u001b[0m\n",
            "\u001b[0;32m/usr/local/lib/python3.6/dist-packages/IPython/core/display.py\u001b[0m in \u001b[0;36mdisplay\u001b[0;34m(*objs, **kwargs)\u001b[0m\n\u001b[1;32m    304\u001b[0m             \u001b[0mpublish_display_data\u001b[0m\u001b[0;34m(\u001b[0m\u001b[0mdata\u001b[0m\u001b[0;34m=\u001b[0m\u001b[0mobj\u001b[0m\u001b[0;34m,\u001b[0m \u001b[0mmetadata\u001b[0m\u001b[0;34m=\u001b[0m\u001b[0mmetadata\u001b[0m\u001b[0;34m,\u001b[0m \u001b[0;34m**\u001b[0m\u001b[0mkwargs\u001b[0m\u001b[0;34m)\u001b[0m\u001b[0;34m\u001b[0m\u001b[0;34m\u001b[0m\u001b[0m\n\u001b[1;32m    305\u001b[0m         \u001b[0;32melse\u001b[0m\u001b[0;34m:\u001b[0m\u001b[0;34m\u001b[0m\u001b[0;34m\u001b[0m\u001b[0m\n\u001b[0;32m--> 306\u001b[0;31m             \u001b[0mformat_dict\u001b[0m\u001b[0;34m,\u001b[0m \u001b[0mmd_dict\u001b[0m \u001b[0;34m=\u001b[0m \u001b[0mformat\u001b[0m\u001b[0;34m(\u001b[0m\u001b[0mobj\u001b[0m\u001b[0;34m,\u001b[0m \u001b[0minclude\u001b[0m\u001b[0;34m=\u001b[0m\u001b[0minclude\u001b[0m\u001b[0;34m,\u001b[0m \u001b[0mexclude\u001b[0m\u001b[0;34m=\u001b[0m\u001b[0mexclude\u001b[0m\u001b[0;34m)\u001b[0m\u001b[0;34m\u001b[0m\u001b[0;34m\u001b[0m\u001b[0m\n\u001b[0m\u001b[1;32m    307\u001b[0m             \u001b[0;32mif\u001b[0m \u001b[0;32mnot\u001b[0m \u001b[0mformat_dict\u001b[0m\u001b[0;34m:\u001b[0m\u001b[0;34m\u001b[0m\u001b[0;34m\u001b[0m\u001b[0m\n\u001b[1;32m    308\u001b[0m                 \u001b[0;31m# nothing to display (e.g. _ipython_display_ took over)\u001b[0m\u001b[0;34m\u001b[0m\u001b[0;34m\u001b[0m\u001b[0;34m\u001b[0m\u001b[0m\n",
            "\u001b[0;32m/usr/local/lib/python3.6/dist-packages/IPython/core/formatters.py\u001b[0m in \u001b[0;36mformat\u001b[0;34m(self, obj, include, exclude)\u001b[0m\n\u001b[1;32m    171\u001b[0m             \u001b[0mmd\u001b[0m \u001b[0;34m=\u001b[0m \u001b[0;32mNone\u001b[0m\u001b[0;34m\u001b[0m\u001b[0;34m\u001b[0m\u001b[0m\n\u001b[1;32m    172\u001b[0m             \u001b[0;32mtry\u001b[0m\u001b[0;34m:\u001b[0m\u001b[0;34m\u001b[0m\u001b[0;34m\u001b[0m\u001b[0m\n\u001b[0;32m--> 173\u001b[0;31m                 \u001b[0mdata\u001b[0m \u001b[0;34m=\u001b[0m \u001b[0mformatter\u001b[0m\u001b[0;34m(\u001b[0m\u001b[0mobj\u001b[0m\u001b[0;34m)\u001b[0m\u001b[0;34m\u001b[0m\u001b[0;34m\u001b[0m\u001b[0m\n\u001b[0m\u001b[1;32m    174\u001b[0m             \u001b[0;32mexcept\u001b[0m\u001b[0;34m:\u001b[0m\u001b[0;34m\u001b[0m\u001b[0;34m\u001b[0m\u001b[0m\n\u001b[1;32m    175\u001b[0m                 \u001b[0;31m# FIXME: log the exception\u001b[0m\u001b[0;34m\u001b[0m\u001b[0;34m\u001b[0m\u001b[0;34m\u001b[0m\u001b[0m\n",
            "\u001b[0;32m</usr/local/lib/python3.6/dist-packages/decorator.py:decorator-gen-9>\u001b[0m in \u001b[0;36m__call__\u001b[0;34m(self, obj)\u001b[0m\n",
            "\u001b[0;32m/usr/local/lib/python3.6/dist-packages/IPython/core/formatters.py\u001b[0m in \u001b[0;36mcatch_format_error\u001b[0;34m(method, self, *args, **kwargs)\u001b[0m\n\u001b[1;32m    215\u001b[0m     \u001b[0;34m\"\"\"show traceback on failed format call\"\"\"\u001b[0m\u001b[0;34m\u001b[0m\u001b[0;34m\u001b[0m\u001b[0m\n\u001b[1;32m    216\u001b[0m     \u001b[0;32mtry\u001b[0m\u001b[0;34m:\u001b[0m\u001b[0;34m\u001b[0m\u001b[0;34m\u001b[0m\u001b[0m\n\u001b[0;32m--> 217\u001b[0;31m         \u001b[0mr\u001b[0m \u001b[0;34m=\u001b[0m \u001b[0mmethod\u001b[0m\u001b[0;34m(\u001b[0m\u001b[0mself\u001b[0m\u001b[0;34m,\u001b[0m \u001b[0;34m*\u001b[0m\u001b[0margs\u001b[0m\u001b[0;34m,\u001b[0m \u001b[0;34m**\u001b[0m\u001b[0mkwargs\u001b[0m\u001b[0;34m)\u001b[0m\u001b[0;34m\u001b[0m\u001b[0;34m\u001b[0m\u001b[0m\n\u001b[0m\u001b[1;32m    218\u001b[0m     \u001b[0;32mexcept\u001b[0m \u001b[0mNotImplementedError\u001b[0m\u001b[0;34m:\u001b[0m\u001b[0;34m\u001b[0m\u001b[0;34m\u001b[0m\u001b[0m\n\u001b[1;32m    219\u001b[0m         \u001b[0;31m# don't warn on NotImplementedErrors\u001b[0m\u001b[0;34m\u001b[0m\u001b[0;34m\u001b[0m\u001b[0;34m\u001b[0m\u001b[0m\n",
            "\u001b[0;32m/usr/local/lib/python3.6/dist-packages/IPython/core/formatters.py\u001b[0m in \u001b[0;36m__call__\u001b[0;34m(self, obj)\u001b[0m\n\u001b[1;32m    332\u001b[0m                 \u001b[0;32mpass\u001b[0m\u001b[0;34m\u001b[0m\u001b[0;34m\u001b[0m\u001b[0m\n\u001b[1;32m    333\u001b[0m             \u001b[0;32melse\u001b[0m\u001b[0;34m:\u001b[0m\u001b[0;34m\u001b[0m\u001b[0;34m\u001b[0m\u001b[0m\n\u001b[0;32m--> 334\u001b[0;31m                 \u001b[0;32mreturn\u001b[0m \u001b[0mprinter\u001b[0m\u001b[0;34m(\u001b[0m\u001b[0mobj\u001b[0m\u001b[0;34m)\u001b[0m\u001b[0;34m\u001b[0m\u001b[0;34m\u001b[0m\u001b[0m\n\u001b[0m\u001b[1;32m    335\u001b[0m             \u001b[0;31m# Finally look for special method names\u001b[0m\u001b[0;34m\u001b[0m\u001b[0;34m\u001b[0m\u001b[0;34m\u001b[0m\u001b[0m\n\u001b[1;32m    336\u001b[0m             \u001b[0mmethod\u001b[0m \u001b[0;34m=\u001b[0m \u001b[0mget_real_method\u001b[0m\u001b[0;34m(\u001b[0m\u001b[0mobj\u001b[0m\u001b[0;34m,\u001b[0m \u001b[0mself\u001b[0m\u001b[0;34m.\u001b[0m\u001b[0mprint_method\u001b[0m\u001b[0;34m)\u001b[0m\u001b[0;34m\u001b[0m\u001b[0;34m\u001b[0m\u001b[0m\n",
            "\u001b[0;32m/usr/local/lib/python3.6/dist-packages/IPython/core/pylabtools.py\u001b[0m in \u001b[0;36m<lambda>\u001b[0;34m(fig)\u001b[0m\n\u001b[1;32m    239\u001b[0m \u001b[0;34m\u001b[0m\u001b[0m\n\u001b[1;32m    240\u001b[0m     \u001b[0;32mif\u001b[0m \u001b[0;34m'png'\u001b[0m \u001b[0;32min\u001b[0m \u001b[0mformats\u001b[0m\u001b[0;34m:\u001b[0m\u001b[0;34m\u001b[0m\u001b[0;34m\u001b[0m\u001b[0m\n\u001b[0;32m--> 241\u001b[0;31m         \u001b[0mpng_formatter\u001b[0m\u001b[0;34m.\u001b[0m\u001b[0mfor_type\u001b[0m\u001b[0;34m(\u001b[0m\u001b[0mFigure\u001b[0m\u001b[0;34m,\u001b[0m \u001b[0;32mlambda\u001b[0m \u001b[0mfig\u001b[0m\u001b[0;34m:\u001b[0m \u001b[0mprint_figure\u001b[0m\u001b[0;34m(\u001b[0m\u001b[0mfig\u001b[0m\u001b[0;34m,\u001b[0m \u001b[0;34m'png'\u001b[0m\u001b[0;34m,\u001b[0m \u001b[0;34m**\u001b[0m\u001b[0mkwargs\u001b[0m\u001b[0;34m)\u001b[0m\u001b[0;34m)\u001b[0m\u001b[0;34m\u001b[0m\u001b[0;34m\u001b[0m\u001b[0m\n\u001b[0m\u001b[1;32m    242\u001b[0m     \u001b[0;32mif\u001b[0m \u001b[0;34m'retina'\u001b[0m \u001b[0;32min\u001b[0m \u001b[0mformats\u001b[0m \u001b[0;32mor\u001b[0m \u001b[0;34m'png2x'\u001b[0m \u001b[0;32min\u001b[0m \u001b[0mformats\u001b[0m\u001b[0;34m:\u001b[0m\u001b[0;34m\u001b[0m\u001b[0;34m\u001b[0m\u001b[0m\n\u001b[1;32m    243\u001b[0m         \u001b[0mpng_formatter\u001b[0m\u001b[0;34m.\u001b[0m\u001b[0mfor_type\u001b[0m\u001b[0;34m(\u001b[0m\u001b[0mFigure\u001b[0m\u001b[0;34m,\u001b[0m \u001b[0;32mlambda\u001b[0m \u001b[0mfig\u001b[0m\u001b[0;34m:\u001b[0m \u001b[0mretina_figure\u001b[0m\u001b[0;34m(\u001b[0m\u001b[0mfig\u001b[0m\u001b[0;34m,\u001b[0m \u001b[0;34m**\u001b[0m\u001b[0mkwargs\u001b[0m\u001b[0;34m)\u001b[0m\u001b[0;34m)\u001b[0m\u001b[0;34m\u001b[0m\u001b[0;34m\u001b[0m\u001b[0m\n",
            "\u001b[0;32m/usr/local/lib/python3.6/dist-packages/IPython/core/pylabtools.py\u001b[0m in \u001b[0;36mprint_figure\u001b[0;34m(fig, fmt, bbox_inches, **kwargs)\u001b[0m\n\u001b[1;32m    123\u001b[0m \u001b[0;34m\u001b[0m\u001b[0m\n\u001b[1;32m    124\u001b[0m     \u001b[0mbytes_io\u001b[0m \u001b[0;34m=\u001b[0m \u001b[0mBytesIO\u001b[0m\u001b[0;34m(\u001b[0m\u001b[0;34m)\u001b[0m\u001b[0;34m\u001b[0m\u001b[0;34m\u001b[0m\u001b[0m\n\u001b[0;32m--> 125\u001b[0;31m     \u001b[0mfig\u001b[0m\u001b[0;34m.\u001b[0m\u001b[0mcanvas\u001b[0m\u001b[0;34m.\u001b[0m\u001b[0mprint_figure\u001b[0m\u001b[0;34m(\u001b[0m\u001b[0mbytes_io\u001b[0m\u001b[0;34m,\u001b[0m \u001b[0;34m**\u001b[0m\u001b[0mkw\u001b[0m\u001b[0;34m)\u001b[0m\u001b[0;34m\u001b[0m\u001b[0;34m\u001b[0m\u001b[0m\n\u001b[0m\u001b[1;32m    126\u001b[0m     \u001b[0mdata\u001b[0m \u001b[0;34m=\u001b[0m \u001b[0mbytes_io\u001b[0m\u001b[0;34m.\u001b[0m\u001b[0mgetvalue\u001b[0m\u001b[0;34m(\u001b[0m\u001b[0;34m)\u001b[0m\u001b[0;34m\u001b[0m\u001b[0;34m\u001b[0m\u001b[0m\n\u001b[1;32m    127\u001b[0m     \u001b[0;32mif\u001b[0m \u001b[0mfmt\u001b[0m \u001b[0;34m==\u001b[0m \u001b[0;34m'svg'\u001b[0m\u001b[0;34m:\u001b[0m\u001b[0;34m\u001b[0m\u001b[0;34m\u001b[0m\u001b[0m\n",
            "\u001b[0;32m/usr/local/lib/python3.6/dist-packages/matplotlib/backend_bases.py\u001b[0m in \u001b[0;36mprint_figure\u001b[0;34m(self, filename, dpi, facecolor, edgecolor, orientation, format, bbox_inches, **kwargs)\u001b[0m\n\u001b[1;32m   2063\u001b[0m                         \u001b[0morientation\u001b[0m\u001b[0;34m=\u001b[0m\u001b[0morientation\u001b[0m\u001b[0;34m,\u001b[0m\u001b[0;34m\u001b[0m\u001b[0;34m\u001b[0m\u001b[0m\n\u001b[1;32m   2064\u001b[0m                         \u001b[0mdryrun\u001b[0m\u001b[0;34m=\u001b[0m\u001b[0;32mTrue\u001b[0m\u001b[0;34m,\u001b[0m\u001b[0;34m\u001b[0m\u001b[0;34m\u001b[0m\u001b[0m\n\u001b[0;32m-> 2065\u001b[0;31m                         **kwargs)\n\u001b[0m\u001b[1;32m   2066\u001b[0m                     \u001b[0mrenderer\u001b[0m \u001b[0;34m=\u001b[0m \u001b[0mself\u001b[0m\u001b[0;34m.\u001b[0m\u001b[0mfigure\u001b[0m\u001b[0;34m.\u001b[0m\u001b[0m_cachedRenderer\u001b[0m\u001b[0;34m\u001b[0m\u001b[0;34m\u001b[0m\u001b[0m\n\u001b[1;32m   2067\u001b[0m                     \u001b[0mbbox_artists\u001b[0m \u001b[0;34m=\u001b[0m \u001b[0mkwargs\u001b[0m\u001b[0;34m.\u001b[0m\u001b[0mpop\u001b[0m\u001b[0;34m(\u001b[0m\u001b[0;34m\"bbox_extra_artists\"\u001b[0m\u001b[0;34m,\u001b[0m \u001b[0;32mNone\u001b[0m\u001b[0;34m)\u001b[0m\u001b[0;34m\u001b[0m\u001b[0;34m\u001b[0m\u001b[0m\n",
            "\u001b[0;32m/usr/local/lib/python3.6/dist-packages/matplotlib/backends/backend_agg.py\u001b[0m in \u001b[0;36mprint_png\u001b[0;34m(self, filename_or_obj, metadata, pil_kwargs, *args, **kwargs)\u001b[0m\n\u001b[1;32m    530\u001b[0m                     \u001b[0mcbook\u001b[0m\u001b[0;34m.\u001b[0m\u001b[0mopen_file_cm\u001b[0m\u001b[0;34m(\u001b[0m\u001b[0mfilename_or_obj\u001b[0m\u001b[0;34m,\u001b[0m \u001b[0;34m\"wb\"\u001b[0m\u001b[0;34m)\u001b[0m \u001b[0;32mas\u001b[0m \u001b[0mfh\u001b[0m\u001b[0;34m:\u001b[0m\u001b[0;34m\u001b[0m\u001b[0;34m\u001b[0m\u001b[0m\n\u001b[1;32m    531\u001b[0m                 _png.write_png(renderer._renderer, fh,\n\u001b[0;32m--> 532\u001b[0;31m                                self.figure.dpi, metadata=metadata)\n\u001b[0m\u001b[1;32m    533\u001b[0m \u001b[0;34m\u001b[0m\u001b[0m\n\u001b[1;32m    534\u001b[0m     \u001b[0;32mdef\u001b[0m \u001b[0mprint_to_buffer\u001b[0m\u001b[0;34m(\u001b[0m\u001b[0mself\u001b[0m\u001b[0;34m)\u001b[0m\u001b[0;34m:\u001b[0m\u001b[0;34m\u001b[0m\u001b[0;34m\u001b[0m\u001b[0m\n",
            "\u001b[0;31mKeyboardInterrupt\u001b[0m: "
          ]
        }
      ]
    },
    {
      "cell_type": "code",
      "metadata": {
        "id": "S_0TOQo7pbEi",
        "colab_type": "code",
        "colab": {}
      },
      "source": [
        "del x_predict['Id']"
      ],
      "execution_count": 0,
      "outputs": []
    },
    {
      "cell_type": "code",
      "metadata": {
        "id": "KV2dl9085U8b",
        "colab_type": "code",
        "outputId": "74ecca73-5a25-49a9-89b4-5a2d3a5919aa",
        "colab": {
          "base_uri": "https://localhost:8080/",
          "height": 208
        }
      },
      "source": [
        "submission = model_v3.predict(x_predict, batch_size=None, verbose=1, steps=None, callbacks=None, max_queue_size=10, workers=1, use_multiprocessing=False)\n",
        "submission = np.exp(submission)\n",
        "submission[:10]"
      ],
      "execution_count": 0,
      "outputs": [
        {
          "output_type": "stream",
          "text": [
            "1459/1459 [==============================] - 0s 75us/step\n"
          ],
          "name": "stdout"
        },
        {
          "output_type": "execute_result",
          "data": {
            "text/plain": [
              "array([[167545.6],\n",
              "       [167545.6],\n",
              "       [167545.6],\n",
              "       [167545.6],\n",
              "       [167545.6],\n",
              "       [167545.6],\n",
              "       [167545.6],\n",
              "       [167545.6],\n",
              "       [167545.6],\n",
              "       [167545.6]], dtype=float32)"
            ]
          },
          "metadata": {
            "tags": []
          },
          "execution_count": 138
        }
      ]
    },
    {
      "cell_type": "code",
      "metadata": {
        "id": "zu1IH7ANGQDw",
        "colab_type": "code",
        "outputId": "e700891a-3955-48ae-f5ca-f9a1cb067dff",
        "colab": {
          "base_uri": "https://localhost:8080/",
          "height": 242
        }
      },
      "source": [
        "print(type(x_predict_ids))\n",
        "x_predict_ids"
      ],
      "execution_count": 0,
      "outputs": [
        {
          "output_type": "stream",
          "text": [
            "<class 'pandas.core.series.Series'>\n"
          ],
          "name": "stdout"
        },
        {
          "output_type": "execute_result",
          "data": {
            "text/plain": [
              "0       1461\n",
              "1       1462\n",
              "2       1463\n",
              "3       1464\n",
              "4       1465\n",
              "        ... \n",
              "1454    2915\n",
              "1455    2916\n",
              "1456    2917\n",
              "1457    2918\n",
              "1458    2919\n",
              "Name: Id, Length: 1459, dtype: int64"
            ]
          },
          "metadata": {
            "tags": []
          },
          "execution_count": 139
        }
      ]
    },
    {
      "cell_type": "code",
      "metadata": {
        "id": "2KNPBkdF67ck",
        "colab_type": "code",
        "outputId": "5ec3da1e-4d69-4dce-ba07-0c66d3418feb",
        "colab": {
          "base_uri": "https://localhost:8080/",
          "height": 202
        }
      },
      "source": [
        "submission = pd.DataFrame( list(zip(x_predict_ids, submission)), columns = ['Id', 'SalePrice'] )\n",
        "submission['SalePrice'] = submission['SalePrice'].astype('float')\n",
        "submission.head()"
      ],
      "execution_count": 0,
      "outputs": [
        {
          "output_type": "execute_result",
          "data": {
            "text/html": [
              "<div>\n",
              "<style scoped>\n",
              "    .dataframe tbody tr th:only-of-type {\n",
              "        vertical-align: middle;\n",
              "    }\n",
              "\n",
              "    .dataframe tbody tr th {\n",
              "        vertical-align: top;\n",
              "    }\n",
              "\n",
              "    .dataframe thead th {\n",
              "        text-align: right;\n",
              "    }\n",
              "</style>\n",
              "<table border=\"1\" class=\"dataframe\">\n",
              "  <thead>\n",
              "    <tr style=\"text-align: right;\">\n",
              "      <th></th>\n",
              "      <th>Id</th>\n",
              "      <th>SalePrice</th>\n",
              "    </tr>\n",
              "  </thead>\n",
              "  <tbody>\n",
              "    <tr>\n",
              "      <th>0</th>\n",
              "      <td>1461</td>\n",
              "      <td>167545.59375</td>\n",
              "    </tr>\n",
              "    <tr>\n",
              "      <th>1</th>\n",
              "      <td>1462</td>\n",
              "      <td>167545.59375</td>\n",
              "    </tr>\n",
              "    <tr>\n",
              "      <th>2</th>\n",
              "      <td>1463</td>\n",
              "      <td>167545.59375</td>\n",
              "    </tr>\n",
              "    <tr>\n",
              "      <th>3</th>\n",
              "      <td>1464</td>\n",
              "      <td>167545.59375</td>\n",
              "    </tr>\n",
              "    <tr>\n",
              "      <th>4</th>\n",
              "      <td>1465</td>\n",
              "      <td>167545.59375</td>\n",
              "    </tr>\n",
              "  </tbody>\n",
              "</table>\n",
              "</div>"
            ],
            "text/plain": [
              "     Id     SalePrice\n",
              "0  1461  167545.59375\n",
              "1  1462  167545.59375\n",
              "2  1463  167545.59375\n",
              "3  1464  167545.59375\n",
              "4  1465  167545.59375"
            ]
          },
          "metadata": {
            "tags": []
          },
          "execution_count": 140
        }
      ]
    },
    {
      "cell_type": "code",
      "metadata": {
        "id": "8lPXpMZsIbVP",
        "colab_type": "code",
        "outputId": "8cef6535-da10-480f-b47d-d86384eae4e5",
        "colab": {
          "base_uri": "https://localhost:8080/",
          "height": 233
        }
      },
      "source": [
        "submission.set_index('Id', inplace=True)\n",
        "submission.head()"
      ],
      "execution_count": 0,
      "outputs": [
        {
          "output_type": "execute_result",
          "data": {
            "text/html": [
              "<div>\n",
              "<style scoped>\n",
              "    .dataframe tbody tr th:only-of-type {\n",
              "        vertical-align: middle;\n",
              "    }\n",
              "\n",
              "    .dataframe tbody tr th {\n",
              "        vertical-align: top;\n",
              "    }\n",
              "\n",
              "    .dataframe thead th {\n",
              "        text-align: right;\n",
              "    }\n",
              "</style>\n",
              "<table border=\"1\" class=\"dataframe\">\n",
              "  <thead>\n",
              "    <tr style=\"text-align: right;\">\n",
              "      <th></th>\n",
              "      <th>SalePrice</th>\n",
              "    </tr>\n",
              "    <tr>\n",
              "      <th>Id</th>\n",
              "      <th></th>\n",
              "    </tr>\n",
              "  </thead>\n",
              "  <tbody>\n",
              "    <tr>\n",
              "      <th>1461</th>\n",
              "      <td>167545.59375</td>\n",
              "    </tr>\n",
              "    <tr>\n",
              "      <th>1462</th>\n",
              "      <td>167545.59375</td>\n",
              "    </tr>\n",
              "    <tr>\n",
              "      <th>1463</th>\n",
              "      <td>167545.59375</td>\n",
              "    </tr>\n",
              "    <tr>\n",
              "      <th>1464</th>\n",
              "      <td>167545.59375</td>\n",
              "    </tr>\n",
              "    <tr>\n",
              "      <th>1465</th>\n",
              "      <td>167545.59375</td>\n",
              "    </tr>\n",
              "  </tbody>\n",
              "</table>\n",
              "</div>"
            ],
            "text/plain": [
              "         SalePrice\n",
              "Id                \n",
              "1461  167545.59375\n",
              "1462  167545.59375\n",
              "1463  167545.59375\n",
              "1464  167545.59375\n",
              "1465  167545.59375"
            ]
          },
          "metadata": {
            "tags": []
          },
          "execution_count": 141
        }
      ]
    },
    {
      "cell_type": "code",
      "metadata": {
        "id": "HEVkbsJFIxS6",
        "colab_type": "code",
        "outputId": "bad7cf1a-2588-45a6-ec91-6333297d3e93",
        "colab": {
          "base_uri": "https://localhost:8080/",
          "height": 34
        }
      },
      "source": [
        "len(submission)"
      ],
      "execution_count": 0,
      "outputs": [
        {
          "output_type": "execute_result",
          "data": {
            "text/plain": [
              "1459"
            ]
          },
          "metadata": {
            "tags": []
          },
          "execution_count": 142
        }
      ]
    },
    {
      "cell_type": "code",
      "metadata": {
        "id": "2-w3MVHN5LtT",
        "colab_type": "code",
        "colab": {}
      },
      "source": [
        "submission.to_csv('/content/submission_v2.csv')"
      ],
      "execution_count": 0,
      "outputs": []
    },
    {
      "cell_type": "code",
      "metadata": {
        "id": "wzuFdigU4r7L",
        "colab_type": "code",
        "outputId": "70495656-77a9-492a-c3a1-c983865d217e",
        "colab": {
          "base_uri": "https://localhost:8080/",
          "height": 69
        }
      },
      "source": [
        "!kaggle competitions submit -c house-prices-advanced-regression-techniques -f submission_v2.csv -m \"Hello world!\""
      ],
      "execution_count": 0,
      "outputs": [
        {
          "output_type": "stream",
          "text": [
            "Warning: Looks like you're using an outdated API Version, please consider updating (server 1.5.6 / client 1.5.4)\n",
            "100% 25.7k/25.7k [00:01<00:00, 22.5kB/s]\n",
            "Successfully submitted to House Prices: Advanced Regression Techniques"
          ],
          "name": "stdout"
        }
      ]
    },
    {
      "cell_type": "code",
      "metadata": {
        "id": "-92xrqyUeynS",
        "colab_type": "code",
        "outputId": "2ad57b2b-708c-4a24-9dcb-97e4930a8821",
        "colab": {
          "base_uri": "https://localhost:8080/",
          "height": 125
        }
      },
      "source": [
        "!echo \"# kaggle-competitions\" >> README.md\n",
        "!git init\n",
        "\n",
        "!git config --global user.email \"javier.espinoza.t@gmail.com\"\n",
        "!git config --global user.name \"javierespinozat\"\n",
        "\n",
        "!git add README.md\n",
        "!git commit -m \"Kaggle competition: House Prices: Advanced Regression Techniques.ipynb\"\n",
        "!git remote add origin https://github.com/javierespinozat/kaggle-competitions.git\n",
        "!git push -u origin master"
      ],
      "execution_count": 0,
      "outputs": [
        {
          "output_type": "stream",
          "text": [
            "Reinitialized existing Git repository in /content/.git/\n",
            "[master (root-commit) 582a39a] Kaggle competition: House Prices: Advanced Regression Techniques.ipynb\n",
            " 1 file changed, 2 insertions(+)\n",
            " create mode 100644 README.md\n",
            "fatal: remote origin already exists.\n",
            "fatal: could not read Username for 'https://github.com': No such device or address\n"
          ],
          "name": "stdout"
        }
      ]
    },
    {
      "cell_type": "code",
      "metadata": {
        "id": "7BMKR89Yxujq",
        "colab_type": "code",
        "colab": {}
      },
      "source": [
        ""
      ],
      "execution_count": 0,
      "outputs": []
    }
  ]
}